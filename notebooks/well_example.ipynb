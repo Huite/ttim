{
 "cells": [
  {
   "cell_type": "code",
   "execution_count": 1,
   "metadata": {
    "collapsed": true
   },
   "outputs": [],
   "source": [
    "import numpy as np\n",
    "import matplotlib.pyplot as plt\n",
    "%matplotlib inline\n",
    "from ttim import *"
   ]
  },
  {
   "cell_type": "markdown",
   "metadata": {},
   "source": [
    "### Theis"
   ]
  },
  {
   "cell_type": "code",
   "execution_count": 2,
   "metadata": {
    "collapsed": true
   },
   "outputs": [],
   "source": [
    "from scipy.special import exp1\n",
    "def theis(r, t, T, S, Q):\n",
    "    u = r ** 2 * S / (4 * T * t)\n",
    "    h = -Q / (4 * np.pi * T) * exp1(u)\n",
    "    return h"
   ]
  },
  {
   "cell_type": "code",
   "execution_count": 3,
   "metadata": {},
   "outputs": [],
   "source": [
    "T = 500\n",
    "S = 1e-4\n",
    "t = np.logspace(-5, 0, 100)\n",
    "r = 30\n",
    "Q = 788"
   ]
  },
  {
   "cell_type": "code",
   "execution_count": 4,
   "metadata": {
    "collapsed": true
   },
   "outputs": [],
   "source": [
    "htheis = theis(r, t, T, S, Q)"
   ]
  },
  {
   "cell_type": "code",
   "execution_count": 5,
   "metadata": {},
   "outputs": [
    {
     "name": "stdout",
     "output_type": "stream",
     "text": [
      "self.Neq  0\n",
      "No unknowns. Solution complete\n"
     ]
    }
   ],
   "source": [
    "ml = ModelMaq(kaq=25, z=[20, 0], Saq=S/20, tmin=1e-5, tmax=1)\n",
    "w = DischargeWell(ml, tsandQ=[(0, Q)])\n",
    "ml.solve()\n",
    "h = ml.head(r, 0, t)"
   ]
  },
  {
   "cell_type": "code",
   "execution_count": 6,
   "metadata": {},
   "outputs": [
    {
     "data": {
      "text/plain": [
       "<matplotlib.legend.Legend at 0x10b665748>"
      ]
     },
     "execution_count": 6,
     "metadata": {},
     "output_type": "execute_result"
    },
    {
     "data": {
      "image/png": "[encoded data removed]",
      "text/plain": [
       "<matplotlib.figure.Figure at 0x10b6275f8>"
      ]
     },
     "metadata": {},
     "output_type": "display_data"
    }
   ],
   "source": [
    "plt.semilogx(t, htheis, 'b', label='theis')\n",
    "plt.semilogx(t, h[0], 'r--', label='ttim')\n",
    "plt.legend(loc='best')"
   ]
  },
  {
   "cell_type": "code",
   "execution_count": 7,
   "metadata": {},
   "outputs": [],
   "source": [
    "from scipy.special import exp1\n",
    "def theis2(r, t, T, S, Q, tend):\n",
    "    u1 = r ** 2 * S / (4 * T * t)\n",
    "    u2 = r ** 2 * S / (4 * T * (t[t > tend] - tend))\n",
    "    h = -Q / (4 * np.pi * T) * exp1(u1)\n",
    "    h[t > tend] -= -Q / (4 * np.pi * T) * exp1(u2)\n",
    "    return h"
   ]
  },
  {
   "cell_type": "code",
   "execution_count": 8,
   "metadata": {},
   "outputs": [
    {
     "name": "stdout",
     "output_type": "stream",
     "text": [
      "self.Neq  0\n",
      "No unknowns. Solution complete\n"
     ]
    }
   ],
   "source": [
    "ml2 = ModelMaq(kaq=25, z=[20, 0], Saq=S/20, tmin=1e-5, tmax=10)\n",
    "w2 = DischargeWell(ml2, tsandQ=[(0, Q), (1, 0)])\n",
    "ml2.solve()"
   ]
  },
  {
   "cell_type": "code",
   "execution_count": 9,
   "metadata": {},
   "outputs": [],
   "source": [
    "t2 = np.linspace(0.01, 2, 100)\n",
    "htheis2 = theis2(r, t2, T, S, Q, tend=1)\n",
    "h2 = ml2.head(r, 0, t2)"
   ]
  },
  {
   "cell_type": "code",
   "execution_count": 10,
   "metadata": {},
   "outputs": [
    {
     "data": {
      "text/plain": [
       "<matplotlib.legend.Legend at 0x10ba09f60>"
      ]
     },
     "execution_count": 10,
     "metadata": {},
     "output_type": "execute_result"
    },
    {
     "data": {
      "image/png": "[encoded data removed]",
      "text/plain": [
       "<matplotlib.figure.Figure at 0x10b914208>"
      ]
     },
     "metadata": {},
     "output_type": "display_data"
    }
   ],
   "source": [
    "plt.plot(t2, htheis2, 'b', label='theis')\n",
    "plt.plot(t2, h2[0], 'r--', label='ttim')\n",
    "plt.legend(loc='best')"
   ]
  },
  {
   "cell_type": "markdown",
   "metadata": {},
   "source": [
    "### Hantush"
   ]
  },
  {
   "cell_type": "code",
   "execution_count": 15,
   "metadata": {
    "collapsed": true
   },
   "outputs": [],
   "source": [
    "T = 500\n",
    "S = 1e-4\n",
    "c = 1000\n",
    "t = np.logspace(-5, 0, 100)\n",
    "r = 30\n",
    "Q = 788"
   ]
  },
  {
   "cell_type": "code",
   "execution_count": 28,
   "metadata": {
    "collapsed": true
   },
   "outputs": [],
   "source": [
    "from scipy.integrate import quad\n",
    "def integrand_hantush(y, r, lab):\n",
    "    return np.exp(-y - r ** 2 / (4 * lab ** 2 * y)) / y\n",
    "\n",
    "def hantush(r, t, T, S, c, Q, tstart=0):\n",
    "    lab = np.sqrt(T * c)\n",
    "    u = r ** 2 * S / (4 * T * (t - tstart))\n",
    "    F = quad(integrand_hantush, u, np.inf, args=(r, lab))[0]\n",
    "    return -Q / (4 * np.pi * T) * F\n",
    "\n",
    "hantushvec = np.vectorize(hantush)"
   ]
  },
  {
   "cell_type": "code",
   "execution_count": 29,
   "metadata": {},
   "outputs": [
    {
     "name": "stdout",
     "output_type": "stream",
     "text": [
      "self.Neq  0\n",
      "No unknowns. Solution complete\n"
     ]
    }
   ],
   "source": [
    "ml = ModelMaq(kaq=25, z=[21, 20, 0], c=[1000], Saq=S/20, topboundary='semi', tmin=1e-5, tmax=1)\n",
    "w = DischargeWell(ml, tsandQ=[(0, Q)])\n",
    "ml.solve()"
   ]
  },
  {
   "cell_type": "code",
   "execution_count": 30,
   "metadata": {},
   "outputs": [
    {
     "data": {
      "image/png": "[encoded data removed]",
      "text/plain": [
       "<matplotlib.figure.Figure at 0x10d7240b8>"
      ]
     },
     "metadata": {},
     "output_type": "display_data"
    }
   ],
   "source": [
    "hhantush = hantushvec(30, t, T, S, c, Q)\n",
    "h = ml.head(r, 0, t)\n",
    "plt.semilogx(t, hhantush, 'b', label='hantush')\n",
    "plt.semilogx(t, h[0], 'r--', label='ttim')\n",
    "plt.legend(loc='best');"
   ]
  },
  {
   "cell_type": "code",
   "execution_count": null,
   "metadata": {
    "collapsed": true
   },
   "outputs": [],
   "source": []
  }
 ],
 "metadata": {
  "kernelspec": {
   "display_name": "Python 3",
   "language": "python",
   "name": "python3"
  },
  "language_info": {
   "codemirror_mode": {
    "name": "ipython",
    "version": 3
   },
   "file_extension": ".py",
   "mimetype": "text/x-python",
   "name": "python",
   "nbconvert_exporter": "python",
   "pygments_lexer": "ipython3",
   "version": "3.6.0"
  }
 },
 "nbformat": 4,
 "nbformat_minor": 2
}
