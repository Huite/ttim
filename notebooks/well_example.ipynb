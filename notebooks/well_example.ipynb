{
 "cells": [
  {
   "cell_type": "code",
   "execution_count": 1,
   "metadata": {
    "collapsed": true
   },
   "outputs": [],
   "source": [
    "import numpy as np\n",
    "import matplotlib.pyplot as plt\n",
    "%matplotlib inline\n",
    "from ttim import *"
   ]
  },
  {
   "cell_type": "markdown",
   "metadata": {},
   "source": [
    "### Theis"
   ]
  },
  {
   "cell_type": "code",
   "execution_count": 2,
   "metadata": {
    "collapsed": true
   },
   "outputs": [],
   "source": [
    "from scipy.special import exp1\n",
    "def theis(r, t, T, S, Q):\n",
    "    u = r ** 2 * S / (4 * T * t)\n",
    "    h = -Q / (4 * np.pi * T) * exp1(u)\n",
    "    return h"
   ]
  },
  {
   "cell_type": "code",
   "execution_count": 3,
   "metadata": {},
   "outputs": [],
   "source": [
    "T = 500\n",
    "S = 1e-4\n",
    "t = np.logspace(-5, 0, 100)\n",
    "r = 30\n",
    "Q = 788"
   ]
  },
  {
   "cell_type": "code",
   "execution_count": 4,
   "metadata": {
    "collapsed": true
   },
   "outputs": [],
   "source": [
    "htheis = theis(r, t, T, S, Q)"
   ]
  },
  {
   "cell_type": "code",
   "execution_count": 5,
   "metadata": {},
   "outputs": [
    {
     "name": "stdout",
     "output_type": "stream",
     "text": [
      "self.Neq  0\n",
      "No unknowns. Solution complete\n"
     ]
    }
   ],
   "source": [
    "ml = ModelMaq(kaq=25, z=[20, 0], Saq=S/20, tmin=1e-5, tmax=1)\n",
    "w = DischargeWell(ml, tsandQ=[(0, Q)], rw=1e-5)\n",
    "ml.solve()\n",
    "h = ml.head(r, 0, t)"
   ]
  },
  {
   "cell_type": "code",
   "execution_count": 6,
   "metadata": {},
   "outputs": [
    {
     "data": {
      "text/plain": [
       "<matplotlib.legend.Legend at 0x11043cbe0>"
      ]
     },
     "execution_count": 6,
     "metadata": {},
     "output_type": "execute_result"
    },
    {
     "data": {
      "image/png": "[encoded data removed]",
      "text/plain": [
       "<matplotlib.figure.Figure at 0x11040a6a0>"
      ]
     },
     "metadata": {},
     "output_type": "display_data"
    }
   ],
   "source": [
    "plt.semilogx(t, htheis, 'b', label='theis')\n",
    "plt.semilogx(t, h[0], 'r--', label='ttim')\n",
    "plt.legend(loc='best')"
   ]
  },
  {
   "cell_type": "code",
   "execution_count": 7,
   "metadata": {},
   "outputs": [
    {
     "data": {
      "text/plain": [
       "(787.9988077391806, 1.1134545843560772e-05)"
      ]
     },
     "execution_count": 7,
     "metadata": {},
     "output_type": "execute_result"
    }
   ],
   "source": [
    "def volume(r, t=1):\n",
    "    return -2 * np.pi * r * ml.head(r, 0, t) * ml.aq.Saq[0]\n",
    "\n",
    "from scipy.integrate import quad\n",
    "quad(volume, 1e-5, np.inf)"
   ]
  },
  {
   "cell_type": "code",
   "execution_count": 8,
   "metadata": {},
   "outputs": [],
   "source": [
    "from scipy.special import exp1\n",
    "def theis2(r, t, T, S, Q, tend):\n",
    "    u1 = r ** 2 * S / (4 * T * t)\n",
    "    u2 = r ** 2 * S / (4 * T * (t[t > tend] - tend))\n",
    "    h = -Q / (4 * np.pi * T) * exp1(u1)\n",
    "    h[t > tend] -= -Q / (4 * np.pi * T) * exp1(u2)\n",
    "    return h"
   ]
  },
  {
   "cell_type": "code",
   "execution_count": 9,
   "metadata": {},
   "outputs": [
    {
     "name": "stdout",
     "output_type": "stream",
     "text": [
      "self.Neq  0\n",
      "No unknowns. Solution complete\n"
     ]
    }
   ],
   "source": [
    "ml2 = ModelMaq(kaq=25, z=[20, 0], Saq=S/20, tmin=1e-5, tmax=10)\n",
    "w2 = DischargeWell(ml2, tsandQ=[(0, Q), (1, 0)])\n",
    "ml2.solve()"
   ]
  },
  {
   "cell_type": "code",
   "execution_count": 10,
   "metadata": {},
   "outputs": [],
   "source": [
    "t2 = np.linspace(0.01, 2, 100)\n",
    "htheis2 = theis2(r, t2, T, S, Q, tend=1)\n",
    "h2 = ml2.head(r, 0, t2)"
   ]
  },
  {
   "cell_type": "code",
   "execution_count": 11,
   "metadata": {},
   "outputs": [
    {
     "data": {
      "text/plain": [
       "<matplotlib.legend.Legend at 0x11080b908>"
      ]
     },
     "execution_count": 11,
     "metadata": {},
     "output_type": "execute_result"
    },
    {
     "data": {
      "image/png": "[encoded data removed]",
      "text/plain": [
       "<matplotlib.figure.Figure at 0x1107be860>"
      ]
     },
     "metadata": {},
     "output_type": "display_data"
    }
   ],
   "source": [
    "plt.plot(t2, htheis2, 'b', label='theis')\n",
    "plt.plot(t2, h2[0], 'r--', label='ttim')\n",
    "plt.legend(loc='best')"
   ]
  },
  {
   "cell_type": "markdown",
   "metadata": {},
   "source": [
    "### Hantush"
   ]
  },
  {
   "cell_type": "code",
   "execution_count": 12,
   "metadata": {
    "collapsed": true
   },
   "outputs": [],
   "source": [
    "T = 500\n",
    "S = 1e-4\n",
    "c = 1000\n",
    "t = np.logspace(-5, 0, 100)\n",
    "r = 30\n",
    "Q = 788"
   ]
  },
  {
   "cell_type": "code",
   "execution_count": 13,
   "metadata": {
    "collapsed": true
   },
   "outputs": [],
   "source": [
    "from scipy.integrate import quad\n",
    "def integrand_hantush(y, r, lab):\n",
    "    return np.exp(-y - r ** 2 / (4 * lab ** 2 * y)) / y\n",
    "\n",
    "def hantush(r, t, T, S, c, Q, tstart=0):\n",
    "    lab = np.sqrt(T * c)\n",
    "    u = r ** 2 * S / (4 * T * (t - tstart))\n",
    "    F = quad(integrand_hantush, u, np.inf, args=(r, lab))[0]\n",
    "    return -Q / (4 * np.pi * T) * F\n",
    "\n",
    "hantushvec = np.vectorize(hantush)"
   ]
  },
  {
   "cell_type": "code",
   "execution_count": 14,
   "metadata": {},
   "outputs": [
    {
     "name": "stdout",
     "output_type": "stream",
     "text": [
      "self.Neq  0\n",
      "No unknowns. Solution complete\n"
     ]
    }
   ],
   "source": [
    "ml = ModelMaq(kaq=25, z=[21, 20, 0], c=[1000], Saq=S/20, topboundary='semi', tmin=1e-5, tmax=1)\n",
    "w = DischargeWell(ml, tsandQ=[(0, Q)])\n",
    "ml.solve()"
   ]
  },
  {
   "cell_type": "code",
   "execution_count": 15,
   "metadata": {},
   "outputs": [
    {
     "data": {
      "image/png": "[encoded data removed]",
      "text/plain": [
       "<matplotlib.figure.Figure at 0x110cba5f8>"
      ]
     },
     "metadata": {},
     "output_type": "display_data"
    }
   ],
   "source": [
    "hhantush = hantushvec(30, t, T, S, c, Q)\n",
    "h = ml.head(r, 0, t)\n",
    "plt.semilogx(t, hhantush, 'b', label='hantush')\n",
    "plt.semilogx(t, h[0], 'r--', label='ttim')\n",
    "plt.legend(loc='best');"
   ]
  },
  {
   "cell_type": "markdown",
   "metadata": {},
   "source": [
    "### Well with welbore storage"
   ]
  },
  {
   "cell_type": "code",
   "execution_count": 16,
   "metadata": {},
   "outputs": [
    {
     "name": "stdout",
     "output_type": "stream",
     "text": [
      "self.Neq  0\n",
      "No unknowns. Solution complete\n",
      "self.Neq  1\n",
      "solution complete\n"
     ]
    },
    {
     "data": {
      "image/png": "[encoded data removed]",
      "text/plain": [
       "<matplotlib.figure.Figure at 0x110d449e8>"
      ]
     },
     "metadata": {},
     "output_type": "display_data"
    }
   ],
   "source": [
    "T = 500\n",
    "S = 1e-4\n",
    "t = np.logspace(-5, 0, 100)\n",
    "rw = 0.3\n",
    "Q = 788\n",
    "\n",
    "ml = ModelMaq(kaq=25, z=[20, 0], Saq=S/20, tmin=1e-5, tmax=1)\n",
    "w = DischargeWell(ml, rw=rw, tsandQ=[(0, Q)])\n",
    "ml.solve()\n",
    "hnostorage = ml.head(rw, 0, t)\n",
    "\n",
    "ml = ModelMaq(kaq=25, z=[20, 0], Saq=S/20, tmin=1e-5, tmax=1)\n",
    "w = Well(ml, rw=rw, tsandQ=[(0, Q)], rc=rw)\n",
    "ml.solve()\n",
    "hstorage = ml.head(rw, 0, t)\n",
    "\n",
    "plt.semilogx(t, hnostorage[0], label='no storage')\n",
    "plt.semilogx(t, hstorage[0], label='with storage')\n",
    "plt.legend(loc='best')\n",
    "plt.xticks([1/(24*60*60), 1/(24 * 60), 1/24, 1], ['1 sec', '1 min', '1 hr', '1 d']);"
   ]
  },
  {
   "cell_type": "markdown",
   "metadata": {},
   "source": [
    "### Slug test"
   ]
  },
  {
   "cell_type": "code",
   "execution_count": 21,
   "metadata": {},
   "outputs": [
    {
     "name": "stdout",
     "output_type": "stream",
     "text": [
      "self.Neq  1\n",
      "solution complete\n"
     ]
    },
    {
     "data": {
      "image/png": "[encoded data removed]",
      "text/plain": [
       "<matplotlib.figure.Figure at 0x110e38320>"
      ]
     },
     "metadata": {},
     "output_type": "display_data"
    }
   ],
   "source": [
    "k = 25\n",
    "H = 20\n",
    "S = 1e-4 / H\n",
    "t = np.logspace(-7, -1, 100)\n",
    "rw = 0.2\n",
    "rc = 0.2\n",
    "delh = 1\n",
    "ml = ModelMaq(kaq=k, z=[H, 0], Saq=S, tmin=1e-7, tmax=1)\n",
    "Qslug = np.pi * rc**2 * delh\n",
    "w = Well(ml, tsandQ=[(0, -Qslug)], rw=rw, rc=rc, wbstype='slug')\n",
    "ml.solve()\n",
    "h = w.headinside(t)\n",
    "plt.semilogx(t, h[0])\n",
    "plt.xticks([1/(24*60*60)/10, 1/(24*60*60), 1/(24 * 60), 1/24], ['0.1 sec', '1 sec', '1 min', '1 hr']);"
   ]
  }
 ],
 "metadata": {
  "kernelspec": {
   "display_name": "Python 3",
   "language": "python",
   "name": "python3"
  },
  "language_info": {
   "codemirror_mode": {
    "name": "ipython",
    "version": 3
   },
   "file_extension": ".py",
   "mimetype": "text/x-python",
   "name": "python",
   "nbconvert_exporter": "python",
   "pygments_lexer": "ipython3",
   "version": "3.6.0"
  }
 },
 "nbformat": 4,
 "nbformat_minor": 2
}
