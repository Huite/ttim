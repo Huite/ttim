{
 "cells": [
  {
   "cell_type": "markdown",
   "metadata": {},
   "source": [
    "# Calibrating TTim model to hypothetical pumping test"
   ]
  },
  {
   "cell_type": "code",
   "execution_count": 1,
   "metadata": {},
   "outputs": [],
   "source": [
    "%matplotlib inline\n",
    "import numpy as np\n",
    "import matplotlib.pyplot as plt\n",
    "from ttim import *"
   ]
  },
  {
   "cell_type": "markdown",
   "metadata": {},
   "source": [
    "### Use observation times from Oude Korendijk"
   ]
  },
  {
   "cell_type": "code",
   "execution_count": 2,
   "metadata": {},
   "outputs": [],
   "source": [
    "drawdown = np.loadtxt('data/oudekorendijk_h30.dat')\n",
    "tobs = drawdown[:,0] / 60 / 24\n",
    "robs = 30\n",
    "Q = 788"
   ]
  },
  {
   "cell_type": "markdown",
   "metadata": {},
   "source": [
    "### Generate data"
   ]
  },
  {
   "cell_type": "code",
   "execution_count": 3,
   "metadata": {},
   "outputs": [
    {
     "name": "stdout",
     "output_type": "stream",
     "text": [
      "self.neq  1\n",
      "solution complete\n"
     ]
    }
   ],
   "source": [
    "ml = ModelMaq(kaq=60, z=(-18, -25), Saq=1e-4, tmin=1e-5, tmax=1)\n",
    "w = Well(ml, xw=0, yw=0, rw=0.1, tsandQ=[(0, 788)], layers=0)\n",
    "ml.solve()\n",
    "hobs = ml.head(robs, 0, tobs)[0]"
   ]
  },
  {
   "cell_type": "markdown",
   "metadata": {},
   "source": [
    "### See if TTim can find aquifer parameters back\n",
    "Note that the value of Saq0 is printed incorrectly to the screen in the fit report (`lmfit` will fix this hopefully in the near future - issue has be posted). The correct fitted value is printed below the fit report. "
   ]
  },
  {
   "cell_type": "code",
   "execution_count": 4,
   "metadata": {},
   "outputs": [
    {
     "name": "stdout",
     "output_type": "stream",
     "text": [
      "0.007521726099491541\n",
      "......................\n"
     ]
    },
    {
     "data": {
      "text/html": [
       "<div>\n",
       "<style scoped>\n",
       "    .dataframe tbody tr th:only-of-type {\n",
       "        vertical-align: middle;\n",
       "    }\n",
       "\n",
       "    .dataframe tbody tr th {\n",
       "        vertical-align: top;\n",
       "    }\n",
       "\n",
       "    .dataframe thead th {\n",
       "        text-align: right;\n",
       "    }\n",
       "</style>\n",
       "<table border=\"1\" class=\"dataframe\">\n",
       "  <thead>\n",
       "    <tr style=\"text-align: right;\">\n",
       "      <th></th>\n",
       "      <th>optimal</th>\n",
       "      <th>std</th>\n",
       "      <th>perc_std</th>\n",
       "      <th>pmin</th>\n",
       "      <th>pmax</th>\n",
       "      <th>initial</th>\n",
       "      <th>parray</th>\n",
       "    </tr>\n",
       "  </thead>\n",
       "  <tbody>\n",
       "    <tr>\n",
       "      <th>kaq0</th>\n",
       "      <td>60</td>\n",
       "      <td>4.667650e-05</td>\n",
       "      <td>7.77941e-05</td>\n",
       "      <td>-inf</td>\n",
       "      <td>inf</td>\n",
       "      <td>59</td>\n",
       "      <td>[60.00003625628515]</td>\n",
       "    </tr>\n",
       "    <tr>\n",
       "      <th>Saq0</th>\n",
       "      <td>9.99996e-05</td>\n",
       "      <td>3.869372e-10</td>\n",
       "      <td>0.000386939</td>\n",
       "      <td>-inf</td>\n",
       "      <td>inf</td>\n",
       "      <td>0.0001</td>\n",
       "      <td>[9.999959650870102e-05]</td>\n",
       "    </tr>\n",
       "  </tbody>\n",
       "</table>\n",
       "</div>"
      ],
      "text/plain": [
       "          optimal           std     perc_std  pmin  pmax initial  \\\n",
       "kaq0           60  4.667650e-05  7.77941e-05  -inf   inf      59   \n",
       "Saq0  9.99996e-05  3.869372e-10  0.000386939  -inf   inf  0.0001   \n",
       "\n",
       "                       parray  \n",
       "kaq0      [60.00003625628515]  \n",
       "Saq0  [9.999959650870102e-05]  "
      ]
     },
     "metadata": {},
     "output_type": "display_data"
    }
   ],
   "source": [
    "cal = Calibrate(ml)\n",
    "cal.set_parameter(name='kaq0', initial=59)\n",
    "cal.set_parameter(name='Saq0', initial=1e-4)\n",
    "cal.series(name='obs1', x=robs, y=0, layer=0, t=tobs, h=hobs)\n",
    "print(cal.rmse())\n",
    "cal.fit(report=False)\n",
    "display(cal.parameters)"
   ]
  },
  {
   "cell_type": "code",
   "execution_count": 5,
   "metadata": {},
   "outputs": [
    {
     "name": "stdout",
     "output_type": "stream",
     "text": [
      "rmse: 9.69306466098961e-07\n"
     ]
    }
   ],
   "source": [
    "print('rmse:', cal.rmse())"
   ]
  },
  {
   "cell_type": "code",
   "execution_count": 6,
   "metadata": {},
   "outputs": [
    {
     "data": {
      "text/plain": [
       "[<matplotlib.lines.Line2D at 0x101dd1eac8>]"
      ]
     },
     "execution_count": 6,
     "metadata": {},
     "output_type": "execute_result"
    },
    {
     "data": {
      "image/png": "[encoded data removed]",
      "text/plain": [
       "<Figure size 432x288 with 1 Axes>"
      ]
     },
     "metadata": {
      "needs_background": "light"
     },
     "output_type": "display_data"
    }
   ],
   "source": [
    "hm = ml.head(robs, 0, tobs, 0)\n",
    "plt.semilogx(tobs, hobs, '.k')\n",
    "plt.semilogx(tobs, hm[0], 'r')"
   ]
  },
  {
   "cell_type": "code",
   "execution_count": 7,
   "metadata": {},
   "outputs": [
    {
     "name": "stdout",
     "output_type": "stream",
     "text": [
      "correlation matrix\n",
      "[[ 1.         -0.86752408]\n",
      " [-0.86752408  1.        ]]\n"
     ]
    }
   ],
   "source": [
    "print('correlation matrix')\n",
    "print(cal.cormat)"
   ]
  },
  {
   "cell_type": "markdown",
   "metadata": {},
   "source": [
    "## Calibrate parameters in multiple layers\n",
    "Example showing how parameters can be optimized when multiple layers share the same parameter value."
   ]
  },
  {
   "cell_type": "code",
   "execution_count": 8,
   "metadata": {},
   "outputs": [
    {
     "name": "stdout",
     "output_type": "stream",
     "text": [
      "self.neq  1\n",
      "solution complete\n"
     ]
    }
   ],
   "source": [
    "ml = ModelMaq(kaq=[10., 10.], z=(-10, -16, -18, -25), c=[10.], Saq=[0.1, 1e-4], tmin=1e-5, tmax=1)\n",
    "w = Well(ml, xw=0, yw=0, rw=0.1, tsandQ=[(0, 788)], layers=1)\n",
    "ml.solve()\n",
    "hobs0 = ml.head(robs, 0, tobs, layers=[0])[0]\n",
    "hobs1 = ml.head(robs, 0, tobs, layers=[1])[0]"
   ]
  },
  {
   "cell_type": "code",
   "execution_count": 9,
   "metadata": {},
   "outputs": [
    {
     "name": "stdout",
     "output_type": "stream",
     "text": [
      "............................................................................\n"
     ]
    },
    {
     "data": {
      "text/html": [
       "<div>\n",
       "<style scoped>\n",
       "    .dataframe tbody tr th:only-of-type {\n",
       "        vertical-align: middle;\n",
       "    }\n",
       "\n",
       "    .dataframe tbody tr th {\n",
       "        vertical-align: top;\n",
       "    }\n",
       "\n",
       "    .dataframe thead th {\n",
       "        text-align: right;\n",
       "    }\n",
       "</style>\n",
       "<table border=\"1\" class=\"dataframe\">\n",
       "  <thead>\n",
       "    <tr style=\"text-align: right;\">\n",
       "      <th></th>\n",
       "      <th>optimal</th>\n",
       "      <th>std</th>\n",
       "      <th>perc_std</th>\n",
       "      <th>pmin</th>\n",
       "      <th>pmax</th>\n",
       "      <th>initial</th>\n",
       "      <th>parray</th>\n",
       "    </tr>\n",
       "  </thead>\n",
       "  <tbody>\n",
       "    <tr>\n",
       "      <th>kaq0-1</th>\n",
       "      <td>9.999902</td>\n",
       "      <td>4.638838e-05</td>\n",
       "      <td>0.000464</td>\n",
       "      <td>0.00000</td>\n",
       "      <td>30.0</td>\n",
       "      <td>10.0000</td>\n",
       "      <td>[9.999902293757748, 9.999902293757748]</td>\n",
       "    </tr>\n",
       "    <tr>\n",
       "      <th>Saq0</th>\n",
       "      <td>0.100001</td>\n",
       "      <td>7.794829e-07</td>\n",
       "      <td>0.000779</td>\n",
       "      <td>0.00001</td>\n",
       "      <td>0.2</td>\n",
       "      <td>0.0100</td>\n",
       "      <td>[0.10000060488979806]</td>\n",
       "    </tr>\n",
       "    <tr>\n",
       "      <th>Saq1</th>\n",
       "      <td>0.000100</td>\n",
       "      <td>2.919384e-10</td>\n",
       "      <td>0.000292</td>\n",
       "      <td>0.00001</td>\n",
       "      <td>0.2</td>\n",
       "      <td>0.0001</td>\n",
       "      <td>[9.999930150822028e-05]</td>\n",
       "    </tr>\n",
       "    <tr>\n",
       "      <th>c1</th>\n",
       "      <td>9.999980</td>\n",
       "      <td>1.557850e-05</td>\n",
       "      <td>0.000156</td>\n",
       "      <td>0.10000</td>\n",
       "      <td>200.0</td>\n",
       "      <td>1.0000</td>\n",
       "      <td>[9.999979933163239]</td>\n",
       "    </tr>\n",
       "  </tbody>\n",
       "</table>\n",
       "</div>"
      ],
      "text/plain": [
       "         optimal           std  perc_std     pmin   pmax  initial  \\\n",
       "kaq0-1  9.999902  4.638838e-05  0.000464  0.00000   30.0  10.0000   \n",
       "Saq0    0.100001  7.794829e-07  0.000779  0.00001    0.2   0.0100   \n",
       "Saq1    0.000100  2.919384e-10  0.000292  0.00001    0.2   0.0001   \n",
       "c1      9.999980  1.557850e-05  0.000156  0.10000  200.0   1.0000   \n",
       "\n",
       "                                        parray  \n",
       "kaq0-1  [9.999902293757748, 9.999902293757748]  \n",
       "Saq0                     [0.10000060488979806]  \n",
       "Saq1                   [9.999930150822028e-05]  \n",
       "c1                         [9.999979933163239]  "
      ]
     },
     "metadata": {},
     "output_type": "display_data"
    }
   ],
   "source": [
    "cal = Calibrate(ml)\n",
    "cal.set_parameter(name='kaq0-1', initial=10., pmin=0., pmax=30.)  # layers 0 and 1 have the same k-value\n",
    "cal.set_parameter(name='Saq0', initial=1e-2, pmin=1e-5, pmax=0.2)\n",
    "cal.set_parameter(name='Saq1', initial=1e-4, pmin=1e-5, pmax=0.2)\n",
    "cal.set_parameter(name='c1', initial=1., pmin=0.1, pmax=200.)\n",
    "cal.series(name='obs0', x=robs, y=0, layer=0, t=tobs, h=hobs0)\n",
    "cal.series(name='obs1', x=robs, y=0, layer=1, t=tobs, h=hobs1)\n",
    "cal.fit(report=False)\n",
    "display(cal.parameters)"
   ]
  },
  {
   "cell_type": "code",
   "execution_count": 10,
   "metadata": {},
   "outputs": [
    {
     "data": {
      "text/plain": [
       "<matplotlib.legend.Legend at 0x101dea0128>"
      ]
     },
     "execution_count": 10,
     "metadata": {},
     "output_type": "execute_result"
    },
    {
     "data": {
      "image/png": "[encoded data removed]",
      "text/plain": [
       "<Figure size 432x288 with 1 Axes>"
      ]
     },
     "metadata": {
      "needs_background": "light"
     },
     "output_type": "display_data"
    }
   ],
   "source": [
    "plt.semilogx(tobs, hobs0, '.C0', label=\"obs layer 0\")\n",
    "plt.semilogx(tobs, hobs1, '.C1', label=\"obs layer 1\")\n",
    "\n",
    "hm = ml.head(robs, 0, tobs)\n",
    "plt.semilogx(tobs, hm[0], 'C0', label=\"modelled head layer 0\")\n",
    "plt.semilogx(tobs, hm[1], 'C1', label=\"modelled head layer 1\")\n",
    "\n",
    "plt.legend(loc=\"best\")"
   ]
  },
  {
   "cell_type": "code",
   "execution_count": null,
   "metadata": {},
   "outputs": [],
   "source": []
  }
 ],
 "metadata": {
  "kernelspec": {
   "display_name": "Python 3",
   "language": "python",
   "name": "python3"
  },
  "language_info": {
   "codemirror_mode": {
    "name": "ipython",
    "version": 3
   },
   "file_extension": ".py",
   "mimetype": "text/x-python",
   "name": "python",
   "nbconvert_exporter": "python",
   "pygments_lexer": "ipython3",
   "version": "3.7.0"
  },
  "varInspector": {
   "cols": {
    "lenName": 16,
    "lenType": 16,
    "lenVar": 40
   },
   "kernels_config": {
    "python": {
     "delete_cmd_postfix": "",
     "delete_cmd_prefix": "del ",
     "library": "var_list.py",
     "varRefreshCmd": "print(var_dic_list())"
    },
    "r": {
     "delete_cmd_postfix": ") ",
     "delete_cmd_prefix": "rm(",
     "library": "var_list.r",
     "varRefreshCmd": "cat(var_dic_list()) "
    }
   },
   "types_to_exclude": [
    "module",
    "function",
    "builtin_function_or_method",
    "instance",
    "_Feature"
   ],
   "window_display": false
  }
 },
 "nbformat": 4,
 "nbformat_minor": 2
}
