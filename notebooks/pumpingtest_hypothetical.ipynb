{
 "cells": [
  {
   "cell_type": "code",
   "execution_count": 1,
   "metadata": {
    "collapsed": true
   },
   "outputs": [],
   "source": [
    "import numpy as np\n",
    "import matplotlib.pyplot as plt\n",
    "%matplotlib inline\n",
    "from ttim import *"
   ]
  },
  {
   "cell_type": "markdown",
   "metadata": {},
   "source": [
    "### Use observation times from Oude Korendijk"
   ]
  },
  {
   "cell_type": "code",
   "execution_count": 2,
   "metadata": {
    "collapsed": true
   },
   "outputs": [],
   "source": [
    "drawdown = np.loadtxt('data/oudekorendijk_h30.dat')\n",
    "tobs = drawdown[:,0] / 60 / 24\n",
    "robs = 30\n",
    "Q = 788"
   ]
  },
  {
   "cell_type": "markdown",
   "metadata": {},
   "source": [
    "### Generate data"
   ]
  },
  {
   "cell_type": "code",
   "execution_count": 3,
   "metadata": {},
   "outputs": [
    {
     "name": "stdout",
     "output_type": "stream",
     "text": [
      "self.neq  1\n",
      "solution complete\n"
     ]
    }
   ],
   "source": [
    "ml = ModelMaq(kaq=60, z=(-18, -25), Saq=1e-4, tmin=1e-5, tmax=1)\n",
    "w = Well(ml, xw=0, yw=0, rw=0.1, tsandQ=[(0, 788)], layers=0)\n",
    "ml.solve()\n",
    "hobs = ml.head(robs, 0, tobs)[0]"
   ]
  },
  {
   "cell_type": "markdown",
   "metadata": {},
   "source": [
    "### See if TTim can find aquifer parameters back\n",
    "Note that the value of Saq0 is printed incorrectly to the screen in the fit report (`lmfit` will fix this hopefully in the near future - issue has be posted). The correct fitted value is printed below the fit report. "
   ]
  },
  {
   "cell_type": "code",
   "execution_count": 4,
   "metadata": {},
   "outputs": [
    {
     "name": "stdout",
     "output_type": "stream",
     "text": [
      "............................\n",
      "<Parameter 'kaq0', value=59.999995924224535 +/- 5.73e-05, bounds=[-inf:inf]>\n",
      "<Parameter 'Saq0', value=9.999972743010757e-05 +/- 3.21e-10, bounds=[-inf:inf]>\n"
     ]
    }
   ],
   "source": [
    "cal = Calibrate(ml)\n",
    "cal.parameter(name='kaq0', initial=10)\n",
    "cal.parameter(name='Saq0', initial=1e-4)\n",
    "cal.series(name='obs1', x=robs, y=0, layer=0, t=tobs, h=hobs)\n",
    "cal.fit(report=False)\n",
    "print()\n",
    "for p in ['kaq0', 'Saq0']:\n",
    "    print(cal.fitresult.params[p])"
   ]
  },
  {
   "cell_type": "code",
   "execution_count": 5,
   "metadata": {},
   "outputs": [
    {
     "data": {
      "text/plain": [
       "[<matplotlib.lines.Line2D at 0x118e32a58>]"
      ]
     },
     "execution_count": 5,
     "metadata": {},
     "output_type": "execute_result"
    },
    {
     "data": {
      "image/png": "[encoded data removed]",
      "text/plain": [
       "<matplotlib.figure.Figure at 0x118e32be0>"
      ]
     },
     "metadata": {},
     "output_type": "display_data"
    }
   ],
   "source": [
    "hm = ml.head(robs, 0, tobs, 0)\n",
    "plt.semilogx(tobs, hobs, '.k')\n",
    "plt.semilogx(tobs, hm[0], 'r')"
   ]
  },
  {
   "cell_type": "markdown",
   "metadata": {},
   "source": [
    "### Test whether `lmfit` has fixed the `fit_report` function"
   ]
  },
  {
   "cell_type": "code",
   "execution_count": 8,
   "metadata": {},
   "outputs": [
    {
     "name": "stdout",
     "output_type": "stream",
     "text": [
      "[[Fit Statistics]]\n",
      "    # fitting method   = leastsq\n",
      "    # function evals   = 9\n",
      "    # data points      = 3\n",
      "    # variables        = 2\n",
      "    chi-square         = 0.00000\n",
      "    reduced chi-square = 0.00000\n",
      "    Akaike info crit   = -136.90607\n",
      "    Bayesian info crit = -138.70885\n",
      "[[Variables]]\n",
      "    a:   9.99996740 +/- 7.75e-11 (0.00%) (init= 0.001)\n",
      "    b:   50         +/- 1.67e-10 (0.00%) (init= 10)\n",
      "[[Correlations]] (unreported correlations are <  0.100)\n",
      "    C(a, b)                      = -0.926\n",
      "optimal params:\n",
      "<Parameter 'a', value=9.999967403714958e-05 +/- 7.75e-11, bounds=[-inf:inf]>\n",
      "<Parameter 'b', value=50.00000000036331 +/- 1.67e-10, bounds=[-inf:inf]>\n"
     ]
    }
   ],
   "source": [
    "from lmfit import Parameters, minimize, fit_report\n",
    "import numpy as np\n",
    "p = Parameters()\n",
    "p.add('a', value=1e-3)\n",
    "p.add('b', value=10)\n",
    "ydata = 50 + 1e-4 * np.arange(1, 4) * np.array([1.000001, 0.999999, 0.999998])\n",
    "\n",
    "def func(p):\n",
    "    vals = p.valuesdict()  # store dictionary in variable vals\n",
    "    a = vals['a']\n",
    "    b = vals['b']\n",
    "    rv = a * np.arange(1, 4) + b\n",
    "    return rv - ydata\n",
    "\n",
    "result = minimize(func, p)\n",
    "print(fit_report(result))\n",
    "print('optimal params:')\n",
    "for p in ['a', 'b']:\n",
    "    print(result.params[p])"
   ]
  },
  {
   "cell_type": "code",
   "execution_count": null,
   "metadata": {
    "collapsed": true
   },
   "outputs": [],
   "source": []
  }
 ],
 "metadata": {
  "kernelspec": {
   "display_name": "Python 3",
   "language": "python",
   "name": "python3"
  },
  "language_info": {
   "codemirror_mode": {
    "name": "ipython",
    "version": 3
   },
   "file_extension": ".py",
   "mimetype": "text/x-python",
   "name": "python",
   "nbconvert_exporter": "python",
   "pygments_lexer": "ipython3",
   "version": "3.6.0"
  }
 },
 "nbformat": 4,
 "nbformat_minor": 2
}
