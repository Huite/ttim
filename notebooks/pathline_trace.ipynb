{
 "cells": [
  {
   "cell_type": "markdown",
   "metadata": {},
   "source": [
    "### Tracing test"
   ]
  },
  {
   "cell_type": "code",
   "execution_count": 1,
   "metadata": {},
   "outputs": [],
   "source": [
    "import numpy as np\n",
    "import matplotlib.pyplot as plt\n",
    "from ttim import *"
   ]
  },
  {
   "cell_type": "code",
   "execution_count": 2,
   "metadata": {},
   "outputs": [
    {
     "name": "stdout",
     "output_type": "stream",
     "text": [
      "self.neq  1\n",
      "solution complete\n"
     ]
    }
   ],
   "source": [
    "Q = 100\n",
    "npor = 0.3\n",
    "k = 10\n",
    "H = 10\n",
    "T = k * H\n",
    "Ss = 1e-4\n",
    "S = Ss * H\n",
    "ml = ModelMaq(kaq=[k], z=[H, 0], Saq=[Ss], tmin=1, tmax=100, M=10)\n",
    "w = Well(ml, xw=0, yw=0, tsandQ=[(0, Q)])\n",
    "ml.solve()"
   ]
  },
  {
   "cell_type": "code",
   "execution_count": 3,
   "metadata": {},
   "outputs": [
    {
     "data": {
      "text/plain": [
       "array([1.e+100])"
      ]
     },
     "execution_count": 3,
     "metadata": {},
     "output_type": "execute_result"
    }
   ],
   "source": [
    "ml.aq.c"
   ]
  },
  {
   "cell_type": "code",
   "execution_count": 4,
   "metadata": {},
   "outputs": [
    {
     "name": "stdout",
     "output_type": "stream",
     "text": [
      "reached maximum time tmax\n"
     ]
    }
   ],
   "source": [
    "timtrace = timtraceline(ml, 50, 50, 0, tstart=1, delt=1, tmax=50, nstepmax=50)"
   ]
  },
  {
   "cell_type": "markdown",
   "metadata": {},
   "source": [
    "\\begin{equation}\n",
    "Q_r = -T\\frac{\\partial h}{\\partial r} = -T\\frac{\\text{d} h}{\\text{d} u}\\frac{\\partial u}{\\partial r} = -\\frac{Q}{2\\pi} \\frac{1}{r}\\exp(-u)\n",
    "\\end{equation}\n",
    "\\begin{equation}\n",
    "u =  \\frac{S r^2}{4T(t-t_0)}\n",
    "\\end{equation}"
   ]
  },
  {
   "cell_type": "code",
   "execution_count": 5,
   "metadata": {},
   "outputs": [],
   "source": [
    "def vxytheis(t, xy):\n",
    "    x, y = xy\n",
    "    r = np.sqrt(x ** 2 + y ** 2)\n",
    "    u = S * r ** 2 / (4 * T * t)\n",
    "    Qr = -Q / (2 * np.pi) / r * np.exp(-u)\n",
    "    vr = Qr / (H * npor)\n",
    "    vx = vr * x / r\n",
    "    vy = vr * y / r\n",
    "    return np.array([vx, vy])"
   ]
  },
  {
   "cell_type": "code",
   "execution_count": 6,
   "metadata": {},
   "outputs": [],
   "source": [
    "from scipy.integrate import solve_ivp\n",
    "t = np.arange(1, 52)\n",
    "path0 = solve_ivp(vxytheis, (1, 51), y0=[50, 50], t_eval=t)"
   ]
  },
  {
   "cell_type": "code",
   "execution_count": 7,
   "metadata": {},
   "outputs": [
    {
     "data": {
      "image/png": "[encoded data removed]",
      "text/plain": [
       "<Figure size 432x288 with 1 Axes>"
      ]
     },
     "metadata": {
      "needs_background": "light"
     },
     "output_type": "display_data"
    }
   ],
   "source": [
    "plt.plot(t, path0.y[0])\n",
    "plt.plot(timtrace['trace'][:, 3], timtrace['trace'][:, 0], '.')\n",
    "plt.xlabel('time')\n",
    "plt.ylabel('x');"
   ]
  },
  {
   "cell_type": "markdown",
   "metadata": {},
   "source": [
    "# Velocities in multi-layer system"
   ]
  },
  {
   "cell_type": "code",
   "execution_count": 8,
   "metadata": {},
   "outputs": [
    {
     "name": "stdout",
     "output_type": "stream",
     "text": [
      "self.neq  1\n",
      "solution complete\n"
     ]
    }
   ],
   "source": [
    "Q = 100\n",
    "npor = 0.3\n",
    "k = 10\n",
    "H = 10\n",
    "Hstar = 2\n",
    "c = 1000\n",
    "T = k * H\n",
    "Ss = 1e-4\n",
    "S = Ss * H\n",
    "ml = ModelMaq(kaq=[k, k], z=[2 * H + Hstar, H + Hstar, H, 0], c=[c], Saq=[Ss], tmin=1, tmax=100, M=10)\n",
    "w = Well(ml, xw=0, yw=0, tsandQ=[(0, Q)], layers=0)\n",
    "ml.solve()"
   ]
  },
  {
   "cell_type": "code",
   "execution_count": 9,
   "metadata": {},
   "outputs": [
    {
     "name": "stdout",
     "output_type": "stream",
     "text": [
      "reached maximum time tmax\n"
     ]
    }
   ],
   "source": [
    "timtrace = timtraceline(ml, 20, 20, 4, tstart=1, delt=1, tmax=50, nstepmax=50)"
   ]
  },
  {
   "cell_type": "code",
   "execution_count": 10,
   "metadata": {},
   "outputs": [
    {
     "data": {
      "text/plain": [
       "{'trace': array([[20.        , 20.        ,  4.        ,  1.        ],\n",
       "        [19.99870023, 19.99870023,  4.00046088,  2.        ],\n",
       "        [19.99733911, 19.99733911,  4.00092661,  3.        ],\n",
       "        [19.99595617, 19.99595617,  4.00139277,  4.        ],\n",
       "        [19.99456225, 19.99456225,  4.00185903,  5.        ],\n",
       "        [19.99316177, 19.99316177,  4.00232537,  6.        ],\n",
       "        [19.99175693, 19.99175693,  4.00279177,  7.        ],\n",
       "        [19.990349  , 19.990349  ,  4.00325824,  8.        ],\n",
       "        [19.98893876, 19.98893876,  4.00372478,  9.        ],\n",
       "        [19.98752675, 19.98752675,  4.0041914 , 10.        ],\n",
       "        [19.98611332, 19.98611332,  4.00465808, 11.        ],\n",
       "        [19.98469872, 19.98469872,  4.00512482, 12.        ],\n",
       "        [19.98328321, 19.98328321,  4.00559164, 13.        ],\n",
       "        [19.9818669 , 19.9818669 ,  4.00605853, 14.        ],\n",
       "        [19.98044992, 19.98044992,  4.00652548, 15.        ],\n",
       "        [19.97903238, 19.97903238,  4.00699251, 16.        ],\n",
       "        [19.97761436, 19.97761436,  4.00745961, 17.        ],\n",
       "        [19.97619592, 19.97619592,  4.00792677, 18.        ],\n",
       "        [19.97477711, 19.97477711,  4.008394  , 19.        ],\n",
       "        [19.97335798, 19.97335798,  4.00886131, 20.        ],\n",
       "        [19.97193857, 19.97193857,  4.00932868, 21.        ],\n",
       "        [19.9705189 , 19.9705189 ,  4.00979612, 22.        ],\n",
       "        [19.96909901, 19.96909901,  4.01026363, 23.        ],\n",
       "        [19.96767893, 19.96767893,  4.01073121, 24.        ],\n",
       "        [19.96625866, 19.96625866,  4.01119886, 25.        ],\n",
       "        [19.96483824, 19.96483824,  4.01166658, 26.        ],\n",
       "        [19.96341768, 19.96341768,  4.01213436, 27.        ],\n",
       "        [19.961997  , 19.961997  ,  4.01260222, 28.        ],\n",
       "        [19.9605762 , 19.9605762 ,  4.01307015, 29.        ],\n",
       "        [19.95915531, 19.95915531,  4.01353814, 30.        ],\n",
       "        [19.95773432, 19.95773432,  4.01400621, 31.        ],\n",
       "        [19.95631326, 19.95631326,  4.01447434, 32.        ],\n",
       "        [19.95489213, 19.95489213,  4.01494255, 33.        ],\n",
       "        [19.95347094, 19.95347094,  4.01541082, 34.        ],\n",
       "        [19.95204969, 19.95204969,  4.01587916, 35.        ],\n",
       "        [19.9506284 , 19.9506284 ,  4.01634758, 36.        ],\n",
       "        [19.94920706, 19.94920706,  4.01681606, 37.        ],\n",
       "        [19.94778569, 19.94778569,  4.01728461, 38.        ],\n",
       "        [19.94636429, 19.94636429,  4.01775323, 39.        ],\n",
       "        [19.94494287, 19.94494287,  4.01822192, 40.        ],\n",
       "        [19.94352142, 19.94352142,  4.01869068, 41.        ],\n",
       "        [19.94209996, 19.94209996,  4.01915951, 42.        ],\n",
       "        [19.94067848, 19.94067848,  4.01962841, 43.        ],\n",
       "        [19.939257  , 19.939257  ,  4.02009738, 44.        ],\n",
       "        [19.93783551, 19.93783551,  4.02056642, 45.        ],\n",
       "        [19.93641401, 19.93641401,  4.02103553, 46.        ],\n",
       "        [19.93499252, 19.93499252,  4.02150471, 47.        ],\n",
       "        [19.93357103, 19.93357103,  4.02197395, 48.        ],\n",
       "        [19.93214955, 19.93214955,  4.02244327, 49.        ],\n",
       "        [19.93072807, 19.93072807,  4.02291266, 50.        ]]),\n",
       " 'message': 'reached maximum time tmax',\n",
       " 'complete': True}"
      ]
     },
     "execution_count": 10,
     "metadata": {},
     "output_type": "execute_result"
    }
   ],
   "source": [
    "timtrace"
   ]
  },
  {
   "cell_type": "code",
   "execution_count": 11,
   "metadata": {},
   "outputs": [],
   "source": [
    "import numpy as np\n",
    "import matplotlib.pyplot as plt\n",
    "from ttim import *"
   ]
  },
  {
   "cell_type": "code",
   "execution_count": 12,
   "metadata": {},
   "outputs": [
    {
     "name": "stdout",
     "output_type": "stream",
     "text": [
      "self.neq  1\n",
      "solution complete\n"
     ]
    }
   ],
   "source": [
    "Q = 100\n",
    "npor = 0.3\n",
    "k = 10\n",
    "H = 10\n",
    "Hstar = 2\n",
    "c = 1000\n",
    "T = k * H\n",
    "Ss = 1e-4\n",
    "S = Ss * H\n",
    "ml = Model3D(kaq=10, z=[20, 15, 10, 5, 0], tmin=1, tmax=10000)\n",
    "w = Well(ml, xw=0, yw=0, tsandQ=[(0, Q)], layers=1, rw=0.1)\n",
    "ml.solve()"
   ]
  },
  {
   "cell_type": "code",
   "execution_count": 13,
   "metadata": {},
   "outputs": [
    {
     "name": "stdout",
     "output_type": "stream",
     "text": [
      "reached element of type well\n"
     ]
    },
    {
     "data": {
      "text/plain": [
       "{'trace': array([[ 20.        ,  20.        ,  16.        ,   1.        ],\n",
       "        [ 19.6471975 ,  19.6471975 ,  15.98576922,   6.        ],\n",
       "        [ 19.28512126,  19.28512126,  15.9686726 ,  11.        ],\n",
       "        [ 18.91748642,  18.91748642,  15.94968545,  16.        ],\n",
       "        [ 18.54439278,  18.54439278,  15.92869748,  21.        ],\n",
       "        [ 18.16576298,  18.16576298,  15.90552444,  26.        ],\n",
       "        [ 17.78147641,  17.78147641,  15.87994323,  31.        ],\n",
       "        [ 17.39139617,  17.39139617,  15.85169605,  36.        ],\n",
       "        [ 16.99537768,  16.99537768,  15.82048769,  41.        ],\n",
       "        [ 16.5932727 ,  16.5932727 ,  15.78598057,  46.        ],\n",
       "        [ 16.18493174,  16.18493174,  15.7477881 ,  51.        ],\n",
       "        [ 15.77020613,  15.77020613,  15.70546634,  56.        ],\n",
       "        [ 15.3489501 ,  15.3489501 ,  15.65850378,  61.        ],\n",
       "        [ 14.92102302,  14.92102302,  15.60630893,  66.        ],\n",
       "        [ 14.48629203,  14.48629203,  15.5481949 ,  71.        ],\n",
       "        [ 14.04463521,  14.04463521,  15.48336054,  76.        ],\n",
       "        [ 13.59594531,  13.59594531,  15.41086704,  81.        ],\n",
       "        [ 13.14013434,  13.14013434,  15.32960868,  86.        ],\n",
       "        [ 12.67713899,  12.67713899,  15.23827621,  91.        ],\n",
       "        [ 12.20692733,  12.20692733,  15.13531052,  96.        ],\n",
       "        [ 11.72950665,  11.72950665,  15.01884357, 101.        ],\n",
       "        [ 11.66044535,  11.66044535,  15.        , 101.71260094],\n",
       "        [ 10.4472641 ,  10.4472641 ,  14.865287  , 106.71260094],\n",
       "        [  9.03305054,   9.03305054,  14.70559487, 111.5876574 ],\n",
       "        [  7.61883698,   7.61883698,  14.54605438, 115.46401159],\n",
       "        [  6.20462341,   6.20462341,  14.39040533, 118.46213429],\n",
       "        [  4.79040985,   4.79040985,  14.24260453, 120.69815262],\n",
       "        [  3.37619629,   3.37619629,  14.10700586, 122.2805728 ],\n",
       "        [  1.96198273,   1.96198273,  13.98901526, 123.30720149],\n",
       "        [  0.54776916,   0.54776916,  13.89720174, 123.86183283],\n",
       "        [  0.        ,   0.        ,  13.88008332, 123.91880449]]),\n",
       " 'message': 'reached element of type well',\n",
       " 'complete': True}"
      ]
     },
     "execution_count": 13,
     "metadata": {},
     "output_type": "execute_result"
    }
   ],
   "source": [
    "timtrace = timtraceline(ml, 20, 20, 16, tstart=1, delt=5, tmax=200, nstepmax=40, hstepmax=2)\n",
    "timtrace"
   ]
  },
  {
   "cell_type": "code",
   "execution_count": 14,
   "metadata": {},
   "outputs": [
    {
     "name": "stdout",
     "output_type": "stream",
     "text": [
      "reached maximum number of steps\n",
      "reached maximum number of steps\n",
      "reached maximum number of steps\n",
      "reached element of type well\n",
      "reached element of type well\n",
      "reached element of type well\n",
      "reached element of type well\n",
      "reached element of type well\n",
      "reached element of type well\n",
      "reached element of type well\n"
     ]
    },
    {
     "data": {
      "image/png": "[encoded data removed]",
      "text/plain": [
       "<Figure size 432x288 with 1 Axes>"
      ]
     },
     "metadata": {
      "needs_background": "light"
     },
     "output_type": "display_data"
    }
   ],
   "source": [
    "zstart = np.linspace(2, 18, 10)\n",
    "for zs in zstart:\n",
    "    timtrace = timtraceline(ml, 20, 20, zs, tstart=1, delt=5, tmax=200, nstepmax=40, hstepmax=2)\n",
    "    xyzt = timtrace['trace']\n",
    "    plt.plot(xyzt[:, 0], xyzt[:, 2])\n",
    "for y in [5, 10, 15]:\n",
    "    plt.axhline(y, color='k')"
   ]
  },
  {
   "cell_type": "code",
   "execution_count": 15,
   "metadata": {},
   "outputs": [
    {
     "data": {
      "text/plain": [
       "array([[ 20.        ,  20.        ,  18.        ,   1.        ],\n",
       "       [ 19.6471975 ,  19.6471975 ,  17.99288461,   6.        ],\n",
       "       [ 19.28512126,  19.28512126,  17.9843363 ,  11.        ],\n",
       "       [ 18.91748642,  18.91748642,  17.97484273,  16.        ],\n",
       "       [ 18.54439278,  18.54439278,  17.96434874,  21.        ],\n",
       "       [ 18.16576298,  18.16576298,  17.95276222,  26.        ],\n",
       "       [ 17.78147641,  17.78147641,  17.93997161,  31.        ],\n",
       "       [ 17.39139617,  17.39139617,  17.92584802,  36.        ],\n",
       "       [ 16.99537768,  16.99537768,  17.91024384,  41.        ],\n",
       "       [ 16.5932727 ,  16.5932727 ,  17.89299029,  46.        ],\n",
       "       [ 16.18493174,  16.18493174,  17.87389405,  51.        ],\n",
       "       [ 15.77020613,  15.77020613,  17.85273317,  56.        ],\n",
       "       [ 15.3489501 ,  15.3489501 ,  17.82925189,  61.        ],\n",
       "       [ 14.92102302,  14.92102302,  17.80315446,  66.        ],\n",
       "       [ 14.48629203,  14.48629203,  17.77409745,  71.        ],\n",
       "       [ 14.04463521,  14.04463521,  17.74168027,  76.        ],\n",
       "       [ 13.59594531,  13.59594531,  17.70543352,  81.        ],\n",
       "       [ 13.14013434,  13.14013434,  17.66480434,  86.        ],\n",
       "       [ 12.67713899,  12.67713899,  17.61913811,  91.        ],\n",
       "       [ 12.20692733,  12.20692733,  17.56765526,  96.        ],\n",
       "       [ 11.72950665,  11.72950665,  17.50942179, 101.        ],\n",
       "       [ 11.24493458,  11.24493458,  17.44331335, 106.        ],\n",
       "       [ 10.7533263 ,  10.7533263 ,  17.36795919, 111.        ],\n",
       "       [ 10.25487174,  10.25487174,  17.2816871 , 116.        ],\n",
       "       [  9.74985039,   9.74985039,  17.18243336, 121.        ],\n",
       "       [  9.23865163,   9.23865163,  17.06763304, 126.        ],\n",
       "       [  8.72179625,   8.72179625,  16.93406653, 131.        ],\n",
       "       [  8.19996166,   8.19996166,  16.77765336, 136.        ],\n",
       "       [  7.67401276,   7.67401276,  16.59316848, 141.        ],\n",
       "       [  7.14503496,   7.14503496,  16.37384385, 146.        ],\n",
       "       [  6.61437109,   6.61437109,  16.11080552, 151.        ],\n",
       "       [  6.08366206,   6.08366206,  15.79226544, 156.        ],\n",
       "       [  5.55488786,   5.55488786,  15.4023397 , 161.        ],\n",
       "       [  5.11803528,   5.11803528,  15.        , 165.1646276 ],\n",
       "       [  3.70382172,   3.70382172,  14.79854107, 166.88931575],\n",
       "       [  2.28960816,   2.28960816,  14.62223188, 168.03667044],\n",
       "       [  0.8753946 ,   0.8753946 ,  14.48112637, 168.69407721],\n",
       "       [  0.        ,   0.        ,  14.42940199, 168.84087297]])"
      ]
     },
     "execution_count": 15,
     "metadata": {},
     "output_type": "execute_result"
    }
   ],
   "source": [
    "xyzt"
   ]
  },
  {
   "cell_type": "code",
   "execution_count": 16,
   "metadata": {},
   "outputs": [
    {
     "name": "stdout",
     "output_type": "stream",
     "text": [
      "self.neq  1\n",
      "solution complete\n"
     ]
    }
   ],
   "source": [
    "Q = 100\n",
    "npor = 0.3\n",
    "k = 10\n",
    "H = 10\n",
    "Hstar = 2\n",
    "c = 1000\n",
    "T = k * H\n",
    "Ss = 1e-4\n",
    "S = Ss * H\n",
    "ml = Model3D(kaq=10, z=[20, 15, 10, 5, 0], tmin=1, tmax=10000)\n",
    "w = Well(ml, xw=0, yw=0, tsandQ=[(0, -Q)], layers=1, rw=0.1)\n",
    "ml.solve()"
   ]
  },
  {
   "cell_type": "code",
   "execution_count": 17,
   "metadata": {},
   "outputs": [
    {
     "name": "stdout",
     "output_type": "stream",
     "text": [
      "reached maximum time tmax\n",
      "reached maximum time tmax\n",
      "reached maximum time tmax\n",
      "reached maximum time tmax\n",
      "reached maximum time tmax\n",
      "reached maximum time tmax\n",
      "reached maximum time tmax\n",
      "reached maximum time tmax\n",
      "reached maximum time tmax\n",
      "reached maximum time tmax\n"
     ]
    },
    {
     "data": {
      "image/png": "[encoded data removed]",
      "text/plain": [
       "<Figure size 432x288 with 1 Axes>"
      ]
     },
     "metadata": {
      "needs_background": "light"
     },
     "output_type": "display_data"
    }
   ],
   "source": [
    "zstart = np.linspace(10.5, 14.5, 10)\n",
    "for zs in zstart:\n",
    "    timtrace = timtraceline(ml, 0.1, 0.1, zs, tstart=1, delt=5, tmax=100, nstepmax=40, hstepmax=2)\n",
    "    xyzt = timtrace['trace']\n",
    "    plt.plot(xyzt[:, 0], xyzt[:, 2])\n",
    "for y in [5, 10, 15]:\n",
    "    plt.axhline(y, color='k')"
   ]
  },
  {
   "cell_type": "code",
   "execution_count": 18,
   "metadata": {},
   "outputs": [
    {
     "data": {
      "text/plain": [
       "array([[  0.1       ,   0.1       ,  14.5       ,   1.        ],\n",
       "       [  1.51421356,   1.51421356,  14.51923542,   1.02666213],\n",
       "       [  2.92842712,   2.92842712,  14.63200462,   1.44645823],\n",
       "       [  4.34264069,   4.34264069,  14.78543236,   2.31540796],\n",
       "       [  5.75685425,   5.75685425,  14.96531406,   3.71199741],\n",
       "       [  6.003627  ,   6.003627  ,  15.        ,   4.06412958],\n",
       "       [  6.53153357,   6.53153357,  15.47167501,   9.06412958],\n",
       "       [  7.0619008 ,   7.0619008 ,  15.84953826,  14.06412958],\n",
       "       [  7.59256819,   7.59256819,  16.15624751,  19.06412958],\n",
       "       [  8.1218094 ,   8.1218094 ,  16.40819544,  24.06412958],\n",
       "       [  8.64821071,   8.64821071,  16.61738315,  29.06412958],\n",
       "       [  9.17062372,   9.17062372,  16.79273451,  34.06412958],\n",
       "       [  9.68812851,   9.68812851,  16.94098442,  39.06412958],\n",
       "       [ 10.20000057,  10.20000057,  17.06728618,  44.06412958],\n",
       "       [ 10.70568103,  10.70568103,  17.17563312,  49.06412958],\n",
       "       [ 11.20475029,  11.20475029,  17.26915605,  54.06412958],\n",
       "       [ 11.69690491,  11.69690491,  17.35033608,  59.06412958],\n",
       "       [ 12.18193767,  12.18193767,  17.42115905,  64.06412958],\n",
       "       [ 12.65972046,  12.65972046,  17.48322913,  69.06412958],\n",
       "       [ 13.13018978,  13.13018978,  17.53785319,  74.06412958],\n",
       "       [ 13.59333452,  13.59333452,  17.58610442,  79.06412958],\n",
       "       [ 14.04918571,  14.04918571,  17.6288706 ,  84.06412958],\n",
       "       [ 14.49780796,  14.49780796,  17.66689119,  89.06412958],\n",
       "       [ 14.93929236,  14.93929236,  17.70078608,  94.06412958],\n",
       "       [ 15.37375058,  15.37375058,  17.73107801,  99.06412958],\n",
       "       [ 15.45377863,  15.45377863,  17.73615648, 100.        ]])"
      ]
     },
     "execution_count": 18,
     "metadata": {},
     "output_type": "execute_result"
    }
   ],
   "source": [
    "timtrace['trace']"
   ]
  },
  {
   "cell_type": "code",
   "execution_count": null,
   "metadata": {},
   "outputs": [],
   "source": []
  }
 ],
 "metadata": {
  "kernelspec": {
   "display_name": "Python 3",
   "language": "python",
   "name": "python3"
  },
  "language_info": {
   "codemirror_mode": {
    "name": "ipython",
    "version": 3
   },
   "file_extension": ".py",
   "mimetype": "text/x-python",
   "name": "python",
   "nbconvert_exporter": "python",
   "pygments_lexer": "ipython3",
   "version": "3.8.2"
  }
 },
 "nbformat": 4,
 "nbformat_minor": 4
}
