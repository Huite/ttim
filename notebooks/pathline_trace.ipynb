{
 "cells": [
  {
   "cell_type": "markdown",
   "metadata": {},
   "source": [
    "### Tracing test"
   ]
  },
  {
   "cell_type": "code",
   "execution_count": 1,
   "metadata": {},
   "outputs": [],
   "source": [
    "import numpy as np\n",
    "import matplotlib.pyplot as plt\n",
    "from ttim import *"
   ]
  },
  {
   "cell_type": "code",
   "execution_count": 2,
   "metadata": {
    "collapsed": true,
    "jupyter": {
     "outputs_hidden": true,
     "source_hidden": true
    }
   },
   "outputs": [
    {
     "name": "stdout",
     "output_type": "stream",
     "text": [
      "self.neq  1\n",
      "solution complete\n"
     ]
    }
   ],
   "source": [
    "Q = 100\n",
    "npor = 0.3\n",
    "k = 10\n",
    "H = 10\n",
    "T = k * H\n",
    "Ss = 1e-4\n",
    "S = Ss * H\n",
    "ml = ModelMaq(kaq=[k], z=[H, 0], Saq=[Ss], tmin=1, tmax=100, M=10)\n",
    "w = Well(ml, xw=0, yw=0, tsandQ=[(0, Q)])\n",
    "ml.solve()"
   ]
  },
  {
   "cell_type": "code",
   "execution_count": 4,
   "metadata": {
    "collapsed": true,
    "jupyter": {
     "outputs_hidden": true,
     "source_hidden": true
    }
   },
   "outputs": [
    {
     "name": "stdout",
     "output_type": "stream",
     "text": [
      "no message\n"
     ]
    }
   ],
   "source": [
    "timtrace = timtraceline(ml, 50, 50, 0, tstart=1, delt=1, nstep=50)"
   ]
  },
  {
   "cell_type": "markdown",
   "metadata": {},
   "source": [
    "\\begin{equation}\n",
    "Q_r = -T\\frac{\\partial h}{\\partial r} = -T\\frac{\\text{d} h}{\\text{d} u}\\frac{\\partial u}{\\partial r} = -\\frac{Q}{2\\pi} \\frac{1}{r}\\exp(-u)\n",
    "\\end{equation}\n",
    "\\begin{equation}\n",
    "u =  \\frac{S r^2}{4T(t-t_0)}\n",
    "\\end{equation}"
   ]
  },
  {
   "cell_type": "code",
   "execution_count": 5,
   "metadata": {
    "jupyter": {
     "source_hidden": true
    }
   },
   "outputs": [],
   "source": [
    "def vxytheis(t, xy):\n",
    "    x, y = xy\n",
    "    r = np.sqrt(x ** 2 + y ** 2)\n",
    "    u = S * r ** 2 / (4 * T * t)\n",
    "    Qr = -Q / (2 * np.pi) / r * np.exp(-u)\n",
    "    vr = Qr / (H * npor)\n",
    "    vx = vr * x / r\n",
    "    vy = vr * y / r\n",
    "    return np.array([vx, vy])"
   ]
  },
  {
   "cell_type": "code",
   "execution_count": 6,
   "metadata": {
    "jupyter": {
     "source_hidden": true
    }
   },
   "outputs": [],
   "source": [
    "from scipy.integrate import solve_ivp\n",
    "t = np.arange(1, 52)\n",
    "path0 = solve_ivp(vxytheis, (1, 51), y0=[50, 50], t_eval=t)"
   ]
  },
  {
   "cell_type": "code",
   "execution_count": 7,
   "metadata": {
    "collapsed": true,
    "jupyter": {
     "outputs_hidden": true,
     "source_hidden": true
    }
   },
   "outputs": [
    {
     "data": {
      "text/plain": [
       "Text(0, 0.5, 'x')"
      ]
     },
     "execution_count": 7,
     "metadata": {},
     "output_type": "execute_result"
    },
    {
     "data": {
      "image/png": "[encoded data removed]",
      "text/plain": [
       "<Figure size 432x288 with 1 Axes>"
      ]
     },
     "metadata": {
      "needs_background": "light"
     },
     "output_type": "display_data"
    }
   ],
   "source": [
    "plt.plot(t, path0.y[0])\n",
    "plt.plot(t, timtrace['trace'][:, 0], '.')\n",
    "plt.xlabel('time')\n",
    "plt.ylabel('x')"
   ]
  },
  {
   "cell_type": "markdown",
   "metadata": {},
   "source": [
    "# Velocities in multi-layer system"
   ]
  },
  {
   "cell_type": "code",
   "execution_count": 2,
   "metadata": {
    "collapsed": true,
    "jupyter": {
     "outputs_hidden": true,
     "source_hidden": true
    }
   },
   "outputs": [
    {
     "name": "stdout",
     "output_type": "stream",
     "text": [
      "self.neq  1\n",
      "solution complete\n"
     ]
    }
   ],
   "source": [
    "Q = 100\n",
    "npor = 0.3\n",
    "k = 10\n",
    "H = 10\n",
    "Hstar = 2\n",
    "c = 1000\n",
    "T = k * H\n",
    "Ss = 1e-4\n",
    "S = Ss * H\n",
    "ml = ModelMaq(kaq=[k, k], z=[2 * H + Hstar, H + Hstar, H, 0], c=[c], Saq=[Ss], tmin=1, tmax=100, M=10)\n",
    "w = Well(ml, xw=0, yw=0, tsandQ=[(0, Q)], layers=0)\n",
    "ml.solve()"
   ]
  },
  {
   "cell_type": "code",
   "execution_count": 9,
   "metadata": {
    "collapsed": true,
    "jupyter": {
     "outputs_hidden": true,
     "source_hidden": true
    }
   },
   "outputs": [
    {
     "name": "stdout",
     "output_type": "stream",
     "text": [
      "no message\n"
     ]
    }
   ],
   "source": [
    "timtrace = timtraceline(ml, 20, 20, 4, tstart=1, delt=1, nstep=50)"
   ]
  },
  {
   "cell_type": "code",
   "execution_count": 10,
   "metadata": {
    "collapsed": true,
    "jupyter": {
     "outputs_hidden": true,
     "source_hidden": true
    }
   },
   "outputs": [
    {
     "data": {
      "text/plain": [
       "{'trace': array([[20.        , 20.        ,  4.        ,  1.        ],\n",
       "        [19.99870023, 19.99870023,  4.00046088,  2.        ],\n",
       "        [19.99733911, 19.99733911,  4.00092661,  3.        ],\n",
       "        [19.99595617, 19.99595617,  4.00139277,  4.        ],\n",
       "        [19.99456225, 19.99456225,  4.00185903,  5.        ],\n",
       "        [19.99316177, 19.99316177,  4.00232537,  6.        ],\n",
       "        [19.99175693, 19.99175693,  4.00279177,  7.        ],\n",
       "        [19.990349  , 19.990349  ,  4.00325824,  8.        ],\n",
       "        [19.98893876, 19.98893876,  4.00372478,  9.        ],\n",
       "        [19.98752675, 19.98752675,  4.0041914 , 10.        ],\n",
       "        [19.98611332, 19.98611332,  4.00465808, 11.        ],\n",
       "        [19.98469872, 19.98469872,  4.00512482, 12.        ],\n",
       "        [19.98328321, 19.98328321,  4.00559164, 13.        ],\n",
       "        [19.9818669 , 19.9818669 ,  4.00605853, 14.        ],\n",
       "        [19.98044992, 19.98044992,  4.00652548, 15.        ],\n",
       "        [19.97903238, 19.97903238,  4.00699251, 16.        ],\n",
       "        [19.97761436, 19.97761436,  4.00745961, 17.        ],\n",
       "        [19.97619592, 19.97619592,  4.00792677, 18.        ],\n",
       "        [19.97477711, 19.97477711,  4.008394  , 19.        ],\n",
       "        [19.97335798, 19.97335798,  4.00886131, 20.        ],\n",
       "        [19.97193857, 19.97193857,  4.00932868, 21.        ],\n",
       "        [19.9705189 , 19.9705189 ,  4.00979612, 22.        ],\n",
       "        [19.96909901, 19.96909901,  4.01026363, 23.        ],\n",
       "        [19.96767893, 19.96767893,  4.01073121, 24.        ],\n",
       "        [19.96625866, 19.96625866,  4.01119886, 25.        ],\n",
       "        [19.96483824, 19.96483824,  4.01166658, 26.        ],\n",
       "        [19.96341768, 19.96341768,  4.01213436, 27.        ],\n",
       "        [19.961997  , 19.961997  ,  4.01260222, 28.        ],\n",
       "        [19.9605762 , 19.9605762 ,  4.01307015, 29.        ],\n",
       "        [19.95915531, 19.95915531,  4.01353814, 30.        ],\n",
       "        [19.95773432, 19.95773432,  4.01400621, 31.        ],\n",
       "        [19.95631326, 19.95631326,  4.01447434, 32.        ],\n",
       "        [19.95489213, 19.95489213,  4.01494255, 33.        ],\n",
       "        [19.95347094, 19.95347094,  4.01541082, 34.        ],\n",
       "        [19.95204969, 19.95204969,  4.01587916, 35.        ],\n",
       "        [19.9506284 , 19.9506284 ,  4.01634758, 36.        ],\n",
       "        [19.94920706, 19.94920706,  4.01681606, 37.        ],\n",
       "        [19.94778569, 19.94778569,  4.01728461, 38.        ],\n",
       "        [19.94636429, 19.94636429,  4.01775323, 39.        ],\n",
       "        [19.94494287, 19.94494287,  4.01822192, 40.        ],\n",
       "        [19.94352142, 19.94352142,  4.01869068, 41.        ],\n",
       "        [19.94209996, 19.94209996,  4.01915951, 42.        ],\n",
       "        [19.94067848, 19.94067848,  4.01962841, 43.        ],\n",
       "        [19.939257  , 19.939257  ,  4.02009738, 44.        ],\n",
       "        [19.93783551, 19.93783551,  4.02056642, 45.        ],\n",
       "        [19.93641401, 19.93641401,  4.02103553, 46.        ],\n",
       "        [19.93499252, 19.93499252,  4.02150471, 47.        ],\n",
       "        [19.93357103, 19.93357103,  4.02197395, 48.        ],\n",
       "        [19.93214955, 19.93214955,  4.02244327, 49.        ],\n",
       "        [19.93072807, 19.93072807,  4.02291266, 50.        ],\n",
       "        [19.9293066 , 19.9293066 ,  4.02338211, 51.        ]]),\n",
       " 'message': 'no message',\n",
       " 'complete': False}"
      ]
     },
     "execution_count": 10,
     "metadata": {},
     "output_type": "execute_result"
    }
   ],
   "source": [
    "timtrace"
   ]
  },
  {
   "cell_type": "code",
   "execution_count": 1,
   "metadata": {},
   "outputs": [],
   "source": [
    "import numpy as np\n",
    "import matplotlib.pyplot as plt\n",
    "from ttim import *"
   ]
  },
  {
   "cell_type": "code",
   "execution_count": 2,
   "metadata": {},
   "outputs": [
    {
     "name": "stdout",
     "output_type": "stream",
     "text": [
      "self.neq  1\n",
      "solution complete\n"
     ]
    }
   ],
   "source": [
    "Q = 100\n",
    "npor = 0.3\n",
    "k = 10\n",
    "H = 10\n",
    "Hstar = 2\n",
    "c = 1000\n",
    "T = k * H\n",
    "Ss = 1e-4\n",
    "S = Ss * H\n",
    "ml = Model3D(kaq=10, z=[20, 15, 10, 5, 0], tmin=1, tmax=10000)\n",
    "w = Well(ml, xw=0, yw=0, tsandQ=[(0, Q)], layers=1)\n",
    "ml.solve()"
   ]
  },
  {
   "cell_type": "code",
   "execution_count": 4,
   "metadata": {},
   "outputs": [
    {
     "name": "stdout",
     "output_type": "stream",
     "text": [
      "reached element of type well\n"
     ]
    }
   ],
   "source": [
    "timtrace = timtraceline(ml, 20, 20, 16, tstart=1, delt=5, nstep=40, hstepmax=2)"
   ]
  },
  {
   "cell_type": "code",
   "execution_count": 5,
   "metadata": {},
   "outputs": [
    {
     "data": {
      "text/plain": [
       "[<matplotlib.lines.Line2D at 0x12581e070>]"
      ]
     },
     "execution_count": 5,
     "metadata": {},
     "output_type": "execute_result"
    },
    {
     "data": {
      "image/png": "[encoded data removed]",
      "text/plain": [
       "<Figure size 432x288 with 1 Axes>"
      ]
     },
     "metadata": {
      "needs_background": "light"
     },
     "output_type": "display_data"
    }
   ],
   "source": [
    "xyzt = timtrace['trace']\n",
    "plt.plot(xyzt[:, 0], xyzt[:, 2], 'k.')"
   ]
  },
  {
   "cell_type": "code",
   "execution_count": 6,
   "metadata": {},
   "outputs": [
    {
     "name": "stdout",
     "output_type": "stream",
     "text": [
      "no message\n",
      "no message\n",
      "no message\n",
      "reached element of type well\n",
      "reached element of type well\n",
      "reached element of type well\n",
      "reached element of type well\n",
      "reached element of type well\n",
      "reached element of type well\n",
      "reached element of type well\n"
     ]
    },
    {
     "data": {
      "image/png": "[encoded data removed]",
      "text/plain": [
       "<Figure size 432x288 with 1 Axes>"
      ]
     },
     "metadata": {
      "needs_background": "light"
     },
     "output_type": "display_data"
    }
   ],
   "source": [
    "zstart = np.linspace(1, 19, 10)\n",
    "for zs in zstart:\n",
    "    timtrace = timtraceline(ml, 20, 20, zs, tstart=1, delt=5, nstep=40, hstepmax=2)\n",
    "    xyzt = timtrace['trace']\n",
    "    plt.plot(xyzt[:, 0], xyzt[:, 2])\n",
    "for y in [5, 10, 15]:\n",
    "    plt.axhline(y, color='k')"
   ]
  },
  {
   "cell_type": "code",
   "execution_count": 7,
   "metadata": {},
   "outputs": [
    {
     "name": "stdout",
     "output_type": "stream",
     "text": [
      "no message\n"
     ]
    },
    {
     "data": {
      "text/plain": [
       "{'trace': array([[ 20.        ,  20.        ,   1.        ,   1.        ],\n",
       "        [ 19.81965299,  19.81965299,   1.0089601 ,   6.        ],\n",
       "        [ 19.63477259,  19.63477259,   1.01805163,  11.        ],\n",
       "        [ 19.4494244 ,  19.4494244 ,   1.02738311,  16.        ],\n",
       "        [ 19.26387483,  19.26387483,   1.03696944,  21.        ],\n",
       "        [ 19.07820986,  19.07820986,   1.04682148,  26.        ],\n",
       "        [ 18.89247459,  18.89247459,   1.05694926,  31.        ],\n",
       "        [ 18.70669983,  18.70669983,   1.06736285,  36.        ],\n",
       "        [ 18.52091025,  18.52091025,   1.0780725 ,  41.        ],\n",
       "        [ 18.33512759,  18.33512759,   1.0890888 ,  46.        ],\n",
       "        [ 18.14937211,  18.14937211,   1.10042269,  51.        ],\n",
       "        [ 17.96366335,  17.96366335,   1.11208555,  56.        ],\n",
       "        [ 17.77802054,  17.77802054,   1.12408917,  61.        ],\n",
       "        [ 17.59246281,  17.59246281,   1.13644583,  66.        ],\n",
       "        [ 17.40700939,  17.40700939,   1.14916831,  71.        ],\n",
       "        [ 17.22167969,  17.22167969,   1.1622699 ,  76.        ],\n",
       "        [ 17.03649334,  17.03649334,   1.17576444,  81.        ],\n",
       "        [ 16.85147028,  16.85147028,   1.18966633,  86.        ],\n",
       "        [ 16.66663076,  16.66663076,   1.20399061,  91.        ],\n",
       "        [ 16.48199536,  16.48199536,   1.21875291,  96.        ],\n",
       "        [ 16.29758502,  16.29758502,   1.23396953, 101.        ],\n",
       "        [ 16.11342211,  16.11342211,   1.24965766, 106.        ],\n",
       "        [ 15.92952654,  15.92952654,   1.26583474, 111.        ],\n",
       "        [ 15.745921  ,  15.745921  ,   1.28251937, 116.        ],\n",
       "        [ 15.56262756,  15.56262756,   1.2997307 , 121.        ],\n",
       "        [ 15.37966905,  15.37966905,   1.31748889, 126.        ],\n",
       "        [ 15.19706936,  15.19706936,   1.3358148 , 131.        ],\n",
       "        [ 15.01485133,  15.01485133,   1.35473038, 136.        ],\n",
       "        [ 14.83303917,  14.83303917,   1.37425843, 141.        ],\n",
       "        [ 14.65165685,  14.65165685,   1.39442275, 146.        ],\n",
       "        [ 14.47072882,  14.47072882,   1.41524828, 151.        ],\n",
       "        [ 14.29028007,  14.29028007,   1.4367609 , 156.        ],\n",
       "        [ 14.11033582,  14.11033582,   1.45898771, 161.        ],\n",
       "        [ 13.93092143,  13.93092143,   1.481957  , 166.        ],\n",
       "        [ 13.75206257,  13.75206257,   1.5056983 , 171.        ],\n",
       "        [ 13.57378527,  13.57378527,   1.53024247, 176.        ],\n",
       "        [ 13.39611577,  13.39611577,   1.55562173, 181.        ],\n",
       "        [ 13.21908045,  13.21908045,   1.58186976, 186.        ],\n",
       "        [ 13.04270605,  13.04270605,   1.60902172, 191.        ],\n",
       "        [ 12.86701931,  12.86701931,   1.63711439, 196.        ],\n",
       "        [ 12.6920473 ,  12.6920473 ,   1.66618619, 201.        ]]),\n",
       " 'message': 'no message',\n",
       " 'complete': False}"
      ]
     },
     "execution_count": 7,
     "metadata": {},
     "output_type": "execute_result"
    }
   ],
   "source": [
    "timtraceline(ml, 20, 20, 1, tstart=1, delt=5, nstep=40, hstepmax=2)"
   ]
  },
  {
   "cell_type": "code",
   "execution_count": 10,
   "metadata": {},
   "outputs": [
    {
     "name": "stdout",
     "output_type": "stream",
     "text": [
      "no message\n"
     ]
    },
    {
     "data": {
      "text/plain": [
       "{'trace': array([[ 20.        ,  20.        ,   3.        ,   1.        ],\n",
       "        [ 19.81965299,  19.81965299,   3.02688031,   6.        ],\n",
       "        [ 19.63477259,  19.63477259,   3.05415489,  11.        ],\n",
       "        [ 19.4494244 ,  19.4494244 ,   3.08214934,  16.        ],\n",
       "        [ 19.26387483,  19.26387483,   3.11090833,  21.        ],\n",
       "        [ 19.07820986,  19.07820986,   3.14046443,  26.        ],\n",
       "        [ 18.89247459,  18.89247459,   3.17084779,  31.        ],\n",
       "        [ 18.70669983,  18.70669983,   3.20208855,  36.        ],\n",
       "        [ 18.52091025,  18.52091025,   3.23421751,  41.        ],\n",
       "        [ 18.33512759,  18.33512759,   3.2672664 ,  46.        ],\n",
       "        [ 18.14937211,  18.14937211,   3.30126808,  51.        ],\n",
       "        [ 17.96366335,  17.96366335,   3.33625664,  56.        ],\n",
       "        [ 17.77802054,  17.77802054,   3.3722675 ,  61.        ],\n",
       "        [ 17.59246281,  17.59246281,   3.40933749,  66.        ],\n",
       "        [ 17.40700939,  17.40700939,   3.44750493,  71.        ],\n",
       "        [ 17.22167969,  17.22167969,   3.4868097 ,  76.        ],\n",
       "        [ 17.03649334,  17.03649334,   3.52729331,  81.        ],\n",
       "        [ 16.85147028,  16.85147028,   3.568999  ,  86.        ],\n",
       "        [ 16.66663076,  16.66663076,   3.61197183,  91.        ],\n",
       "        [ 16.48199536,  16.48199536,   3.65625873,  96.        ],\n",
       "        [ 16.29758502,  16.29758502,   3.70190859, 101.        ],\n",
       "        [ 16.11342211,  16.11342211,   3.74897298, 106.        ],\n",
       "        [ 15.92952654,  15.92952654,   3.79750422, 111.        ],\n",
       "        [ 15.745921  ,  15.745921  ,   3.8475581 , 116.        ],\n",
       "        [ 15.56262756,  15.56262756,   3.89919209, 121.        ],\n",
       "        [ 15.37966905,  15.37966905,   3.95246667, 126.        ],\n",
       "        [ 15.19706936,  15.19706936,   4.00744439, 131.        ],\n",
       "        [ 15.01485133,  15.01485133,   4.06419114, 136.        ],\n",
       "        [ 14.83303917,  14.83303917,   4.1227753 , 141.        ],\n",
       "        [ 14.65165685,  14.65165685,   4.18326826, 146.        ],\n",
       "        [ 14.47072882,  14.47072882,   4.24574485, 151.        ],\n",
       "        [ 14.29028007,  14.29028007,   4.31028271, 156.        ],\n",
       "        [ 14.11033582,  14.11033582,   4.37696313, 161.        ],\n",
       "        [ 13.93092143,  13.93092143,   4.44587099, 166.        ],\n",
       "        [ 13.75206257,  13.75206257,   4.5170949 , 171.        ],\n",
       "        [ 13.57378527,  13.57378527,   4.59072742, 176.        ],\n",
       "        [ 13.39611577,  13.39611577,   4.6668652 , 181.        ],\n",
       "        [ 13.21908045,  13.21908045,   4.74560927, 186.        ],\n",
       "        [ 13.04270605,  13.04270605,   4.82706516, 191.        ],\n",
       "        [ 12.86701931,  12.86701931,   4.91134318, 196.        ],\n",
       "        [ 12.6920473 ,  12.6920473 ,   4.99855857, 201.        ],\n",
       "        [ 12.68926529,  12.68926529,   5.        , 201.07983729],\n",
       "        [ 12.29763827,  12.29763827,   5.09032346, 206.07983729],\n",
       "        [ 11.900231  ,  11.900231  ,   5.1856984 , 211.07983729],\n",
       "        [ 11.49697142,  11.49697142,   5.28668945, 216.07983729],\n",
       "        [ 11.08780838,  11.08780838,   5.39396055, 221.07983729]]),\n",
       " 'message': 'no message',\n",
       " 'complete': False}"
      ]
     },
     "execution_count": 10,
     "metadata": {},
     "output_type": "execute_result"
    }
   ],
   "source": [
    "timtraceline(ml, 20, 20, 3, tstart=1, delt=5, nstep=45, hstepmax=2)"
   ]
  },
  {
   "cell_type": "code",
   "execution_count": 12,
   "metadata": {},
   "outputs": [
    {
     "data": {
      "text/plain": [
       "array([[ 6.        ,  6.        ,  9.9       ,  1.        ],\n",
       "       [ 5.9158023 ,  5.9158023 , 15.        ,  1.91048817],\n",
       "       [ 5.9158023 ,  5.9158023 , 15.        ,  1.91048818],\n",
       "       [ 4.50158873,  4.50158873, 14.79849933,  4.00500924],\n",
       "       [ 3.08737517,  3.08737517, 14.61659984,  5.46646347],\n",
       "       [ 1.67316161,  1.67316161, 14.46191522,  6.39043271],\n",
       "       [ 0.25894805,  0.25894805, 14.3473007 ,  6.85738351],\n",
       "       [ 0.        ,  0.        , 14.34075457,  6.87004649]])"
      ]
     },
     "execution_count": 12,
     "metadata": {},
     "output_type": "execute_result"
    }
   ],
   "source": [
    "xyzt"
   ]
  },
  {
   "cell_type": "code",
   "execution_count": 9,
   "metadata": {},
   "outputs": [
    {
     "data": {
      "text/plain": [
       "array([1])"
      ]
     },
     "execution_count": 9,
     "metadata": {},
     "output_type": "execute_result"
    }
   ],
   "source": [
    "w.layers"
   ]
  },
  {
   "cell_type": "code",
   "execution_count": 10,
   "metadata": {},
   "outputs": [
    {
     "data": {
      "text/plain": [
       "array([[100.0000001]])"
      ]
     },
     "execution_count": 10,
     "metadata": {},
     "output_type": "execute_result"
    }
   ],
   "source": [
    "w.discharge(5)"
   ]
  },
  {
   "cell_type": "code",
   "execution_count": 14,
   "metadata": {},
   "outputs": [
    {
     "data": {
      "text/plain": [
       "0"
      ]
     },
     "execution_count": 14,
     "metadata": {},
     "output_type": "execute_result"
    }
   ],
   "source": [
    "np.where(w.layers==1)[0][0]"
   ]
  },
  {
   "cell_type": "code",
   "execution_count": 16,
   "metadata": {},
   "outputs": [
    {
     "data": {
      "text/plain": [
       "NoneType"
      ]
     },
     "execution_count": 16,
     "metadata": {},
     "output_type": "execute_result"
    }
   ],
   "source": [
    "type(w.label)"
   ]
  },
  {
   "cell_type": "code",
   "execution_count": 18,
   "metadata": {},
   "outputs": [
    {
     "name": "stdout",
     "output_type": "stream",
     "text": [
      "hello\n"
     ]
    }
   ],
   "source": [
    "if not w.label:\n",
    "    print('hello')"
   ]
  },
  {
   "cell_type": "code",
   "execution_count": 4,
   "metadata": {},
   "outputs": [
    {
     "data": {
      "text/plain": [
       "[Well at (0.0, 0.0)]"
      ]
     },
     "execution_count": 4,
     "metadata": {},
     "output_type": "execute_result"
    }
   ],
   "source": [
    "ml.elementlist"
   ]
  },
  {
   "cell_type": "code",
   "execution_count": null,
   "metadata": {},
   "outputs": [],
   "source": []
  }
 ],
 "metadata": {
  "kernelspec": {
   "display_name": "Python 3",
   "language": "python",
   "name": "python3"
  },
  "language_info": {
   "codemirror_mode": {
    "name": "ipython",
    "version": 3
   },
   "file_extension": ".py",
   "mimetype": "text/x-python",
   "name": "python",
   "nbconvert_exporter": "python",
   "pygments_lexer": "ipython3",
   "version": "3.8.2"
  }
 },
 "nbformat": 4,
 "nbformat_minor": 4
}
