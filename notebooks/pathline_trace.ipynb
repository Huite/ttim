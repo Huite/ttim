{
 "cells": [
  {
   "cell_type": "markdown",
   "metadata": {},
   "source": [
    "### Tracing test"
   ]
  },
  {
   "cell_type": "code",
   "execution_count": 15,
   "metadata": {},
   "outputs": [],
   "source": [
    "import numpy as np\n",
    "import matplotlib.pyplot as plt\n",
    "from ttim import *"
   ]
  },
  {
   "cell_type": "code",
   "execution_count": 7,
   "metadata": {},
   "outputs": [
    {
     "name": "stdout",
     "output_type": "stream",
     "text": [
      "self.neq  1\n",
      "solution complete\n"
     ]
    }
   ],
   "source": [
    "Q = 100\n",
    "npor = 0.3\n",
    "k = 10\n",
    "H = 10\n",
    "T = k * H\n",
    "Ss = 1e-4\n",
    "S = Ss * H\n",
    "ml = ModelMaq(kaq=[k], z=[H, 0], Saq=[Ss], tmin=1, tmax=100, M=10)\n",
    "w = Well(ml, xw=0, yw=0, tsandQ=[(0, Q)])\n",
    "ml.solve()"
   ]
  },
  {
   "cell_type": "code",
   "execution_count": 18,
   "metadata": {},
   "outputs": [
    {
     "name": "stdout",
     "output_type": "stream",
     "text": [
      "no message\n"
     ]
    }
   ],
   "source": [
    "timtrace = timtraceline(ml, 50, 50, 0, tstart=1, delt=1, nstep=50)"
   ]
  },
  {
   "cell_type": "markdown",
   "metadata": {},
   "source": [
    "\\begin{equation}\n",
    "Q_r = -T\\frac{\\partial h}{\\partial r} = -T\\frac{\\text{d} h}{\\text{d} u}\\frac{\\partial u}{\\partial r} = -\\frac{Q}{2\\pi} \\frac{1}{r}\\exp(-u)\n",
    "\\end{equation}\n",
    "\\begin{equation}\n",
    "u =  \\frac{S r^2}{4T(t-t_0)}\n",
    "\\end{equation}"
   ]
  },
  {
   "cell_type": "code",
   "execution_count": 10,
   "metadata": {},
   "outputs": [],
   "source": [
    "def vxytheis(t, xy):\n",
    "    x, y = xy\n",
    "    r = np.sqrt(x ** 2 + y ** 2)\n",
    "    u = S * r ** 2 / (4 * T * t)\n",
    "    Qr = -Q / (2 * np.pi) / r * np.exp(-u)\n",
    "    vr = Qr / (H * npor)\n",
    "    vx = vr * x / r\n",
    "    vy = vr * y / r\n",
    "    return np.array([vx, vy])"
   ]
  },
  {
   "cell_type": "code",
   "execution_count": 11,
   "metadata": {},
   "outputs": [],
   "source": [
    "from scipy.integrate import solve_ivp\n",
    "t = np.arange(1, 52)\n",
    "path0 = solve_ivp(vxytheis, (1, 51), y0=[50, 50], t_eval=t)"
   ]
  },
  {
   "cell_type": "code",
   "execution_count": 24,
   "metadata": {},
   "outputs": [
    {
     "data": {
      "text/plain": [
       "Text(0, 0.5, 'x')"
      ]
     },
     "execution_count": 24,
     "metadata": {},
     "output_type": "execute_result"
    },
    {
     "data": {
      "image/png": "[encoded data removed]",
      "text/plain": [
       "<Figure size 432x288 with 1 Axes>"
      ]
     },
     "metadata": {
      "needs_background": "light"
     },
     "output_type": "display_data"
    }
   ],
   "source": [
    "plt.plot(t, path0.y[0])\n",
    "plt.plot(t, timtrace['trace'][:, 0], '.')\n",
    "plt.xlabel('time')\n",
    "plt.ylabel('x')"
   ]
  },
  {
   "cell_type": "code",
   "execution_count": null,
   "metadata": {},
   "outputs": [],
   "source": []
  }
 ],
 "metadata": {
  "kernelspec": {
   "display_name": "Python 3",
   "language": "python",
   "name": "python3"
  },
  "language_info": {
   "codemirror_mode": {
    "name": "ipython",
    "version": 3
   },
   "file_extension": ".py",
   "mimetype": "text/x-python",
   "name": "python",
   "nbconvert_exporter": "python",
   "pygments_lexer": "ipython3",
   "version": "3.8.2"
  }
 },
 "nbformat": 4,
 "nbformat_minor": 4
}
