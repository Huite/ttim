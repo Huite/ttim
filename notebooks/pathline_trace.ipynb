{
 "cells": [
  {
   "cell_type": "code",
   "execution_count": 1,
   "metadata": {},
   "outputs": [],
   "source": [
    "import numpy as np\n",
    "import matplotlib.pyplot as plt\n",
    "import ttim as tt\n",
    "import timml as tm"
   ]
  },
  {
   "cell_type": "markdown",
   "metadata": {},
   "source": [
    "### Example 4\n",
    "Aquifer storage and recovery"
   ]
  },
  {
   "cell_type": "code",
   "execution_count": 2,
   "metadata": {},
   "outputs": [],
   "source": [
    "# parameters\n",
    "Q = 100 # discharge of well, m^3/d\n",
    "k = 10 # hydraulic conductivity, m/d\n",
    "H = 10 # thickness of aquifer, m\n",
    "Ss = 1e-4 # specific storage, m^(-1)\n",
    "npor = 0.1 # porosity, -\n",
    "xw = 0 # x-location of well\n",
    "yw = 0 # y-location of well\n",
    "rw = 0.01 # radius of well"
   ]
  },
  {
   "cell_type": "code",
   "execution_count": 3,
   "metadata": {},
   "outputs": [
    {
     "name": "stdout",
     "output_type": "stream",
     "text": [
      "self.neq  1\n",
      "solution complete\n"
     ]
    }
   ],
   "source": [
    "ml = tt.ModelMaq(kaq=[k], z=[H, 0], Saq=[Ss], poraq=[npor], tmin=0.001, tmax=1000, M=10)\n",
    "w = tt.Well(ml, xw=0, yw=0, tsandQ=[(0, -Q)], rw=rw)\n",
    "ml.solve()"
   ]
  },
  {
   "cell_type": "code",
   "execution_count": 4,
   "metadata": {},
   "outputs": [
    {
     "name": "stdout",
     "output_type": "stream",
     "text": [
      "self.neq  1\n",
      "solution complete\n"
     ]
    }
   ],
   "source": [
    "ml = tt.ModelMaq(kaq=[k], z=[H, 0], Saq=[Ss], poraq=[npor], tmin=0.001, tmax=1000, M=10)\n",
    "w = tt.Well(ml, xw=0, yw=0, tsandQ=[(0, -Q), (100, Q)], rw=rw)\n",
    "ml.solve()"
   ]
  },
  {
   "cell_type": "code",
   "execution_count": 5,
   "metadata": {},
   "outputs": [
    {
     "data": {
      "text/plain": [
       "array([[0.98055413]])"
      ]
     },
     "execution_count": 5,
     "metadata": {},
     "output_type": "execute_result"
    }
   ],
   "source": [
    "ml.head(10, 0, 100 - 1e-6)"
   ]
  },
  {
   "cell_type": "code",
   "execution_count": 10,
   "metadata": {},
   "outputs": [
    {
     "data": {
      "text/plain": [
       "array([[0.8143499]])"
      ]
     },
     "execution_count": 10,
     "metadata": {},
     "output_type": "execute_result"
    }
   ],
   "source": [
    "ml.head(10, 0, 100 + 1e-3)"
   ]
  },
  {
   "cell_type": "code",
   "execution_count": 15,
   "metadata": {},
   "outputs": [
    {
     "data": {
      "text/plain": [
       "[<matplotlib.lines.Line2D at 0x129644730>]"
      ]
     },
     "execution_count": 15,
     "metadata": {},
     "output_type": "execute_result"
    },
    {
     "data": {
      "image/png": "[encoded data removed]",
      "text/plain": [
       "<Figure size 432x288 with 1 Axes>"
      ]
     },
     "metadata": {
      "needs_background": "light"
     },
     "output_type": "display_data"
    }
   ],
   "source": [
    "t = np.logspace(-3, 2, 100)\n",
    "h = ml.head(10, 0, t)\n",
    "plt.semilogx(t, h[0])"
   ]
  },
  {
   "cell_type": "code",
   "execution_count": 8,
   "metadata": {},
   "outputs": [
    {
     "data": {
      "text/plain": [
       "array([[ 0.97216983,  0.98055414, -0.60650735]])"
      ]
     },
     "execution_count": 8,
     "metadata": {},
     "output_type": "execute_result"
    }
   ],
   "source": [
    "ml.head(10, 0, [90, 100, 110])"
   ]
  },
  {
   "cell_type": "code",
   "execution_count": 58,
   "metadata": {},
   "outputs": [
    {
     "name": "stdout",
     "output_type": "stream",
     "text": [
      "reached maximum time tmax\n"
     ]
    }
   ],
   "source": [
    "trace = tt.timtrace(ml, xstart=rw, ystart=0, zstart=0.5 * H, tstartend=[0, 100], \n",
    "                    tstartoffset=0.001, tstep=0.1, hstepmax=2, nstepmax=2000)"
   ]
  },
  {
   "cell_type": "code",
   "execution_count": 59,
   "metadata": {},
   "outputs": [
    {
     "data": {
      "text/plain": [
       "[<matplotlib.lines.Line2D at 0x11c290580>]"
      ]
     },
     "execution_count": 59,
     "metadata": {},
     "output_type": "execute_result"
    },
    {
     "data": {
      "image/png": "[encoded data removed]",
      "text/plain": [
       "<Figure size 432x288 with 1 Axes>"
      ]
     },
     "metadata": {
      "needs_background": "light"
     },
     "output_type": "display_data"
    }
   ],
   "source": [
    "xyzt = trace['xyzt']\n",
    "plt.plot(xyzt[:, 3], xyzt[:, 0])"
   ]
  },
  {
   "cell_type": "code",
   "execution_count": 60,
   "metadata": {},
   "outputs": [
    {
     "name": "stdout",
     "output_type": "stream",
     "text": [
      "self.neq  1\n",
      "solution complete\n",
      "reached maximum time tmax\n",
      "reached maximum time tmax\n",
      "reached maximum time tmax\n"
     ]
    }
   ],
   "source": [
    "ml = tt.ModelMaq(kaq=[k], z=[H, 0], Saq=[Ss], poraq=[npor], tmin=0.001, tmax=1000, M=10)\n",
    "w = tt.Well(ml, xw=0, yw=0, tsandQ=[(0, -Q), (100, Q)], rw=rw)\n",
    "ml.solve()\n",
    "trace = tt.timtrace(ml, xstart=rw, ystart=0, zstart=0.5 * H, tstartend=[0, 0.1, 1, 100], \n",
    "                    tstartoffset=0.001, tstep=[0.01, 0.1, 1], hstepmax=2, nstepmax=2000)"
   ]
  },
  {
   "cell_type": "code",
   "execution_count": 61,
   "metadata": {},
   "outputs": [],
   "source": [
    "xend, yend, zend, tend = trace['xyzt'][-1]"
   ]
  },
  {
   "cell_type": "code",
   "execution_count": 62,
   "metadata": {},
   "outputs": [],
   "source": [
    "def integrand(r, t=100 - 1e-6):\n",
    "    h = ml.head(r, 0, t)\n",
    "    return h[0, 0] * 2 * np.pi * r * ml.aq.Saq[0]"
   ]
  },
  {
   "cell_type": "code",
   "execution_count": 63,
   "metadata": {},
   "outputs": [
    {
     "data": {
      "text/plain": [
       "array([0.0001])"
      ]
     },
     "execution_count": 63,
     "metadata": {},
     "output_type": "execute_result"
    }
   ],
   "source": [
    "ml.aq.Saq"
   ]
  },
  {
   "cell_type": "code",
   "execution_count": 70,
   "metadata": {},
   "outputs": [
    {
     "data": {
      "text/plain": [
       "10007.366405521809"
      ]
     },
     "execution_count": 70,
     "metadata": {},
     "output_type": "execute_result"
    }
   ],
   "source": [
    "from scipy.integrate import quad\n",
    "np.pi * xend ** 2 * ml.aq.Haq[0] * ml.aq.poraq[0] + quad(integrand, rw, xend)[0]"
   ]
  },
  {
   "cell_type": "code",
   "execution_count": 65,
   "metadata": {},
   "outputs": [
    {
     "data": {
      "text/plain": [
       "0.0003141592653589793"
      ]
     },
     "execution_count": 65,
     "metadata": {},
     "output_type": "execute_result"
    }
   ],
   "source": [
    "np.pi * rw ** 2 * ml.aq.Haq[0] * ml.aq.poraq[0]"
   ]
  },
  {
   "cell_type": "code",
   "execution_count": 98,
   "metadata": {},
   "outputs": [
    {
     "data": {
      "text/plain": [
       "array([1.e-03, 1.e-02, 1.e-01, 1.e+00, 1.e+01, 1.e+02, 1.e+03])"
      ]
     },
     "execution_count": 98,
     "metadata": {},
     "output_type": "execute_result"
    }
   ],
   "source": [
    "ml.tintervals"
   ]
  },
  {
   "cell_type": "code",
   "execution_count": 79,
   "metadata": {},
   "outputs": [
    {
     "data": {
      "image/png": "[encoded data removed]",
      "text/plain": [
       "<Figure size 720x288 with 2 Axes>"
      ]
     },
     "metadata": {
      "needs_background": "light"
     },
     "output_type": "display_data"
    }
   ],
   "source": [
    "r = np.logspace(-2, 1, 100)\n",
    "h = ml.headalongline(r, 0, t=100 - 1e-6)\n",
    "Qx = [ml.disvec(x, 0, t=100 - 1e-6)[0][0, 0] for x in r]\n",
    "plt.figure(figsize=(10, 4))\n",
    "plt.subplot(121)\n",
    "plt.plot(r, h[0, 0])\n",
    "plt.subplot(122)\n",
    "plt.loglog(r, Qx)\n",
    "plt.grid()"
   ]
  },
  {
   "cell_type": "code",
   "execution_count": 82,
   "metadata": {},
   "outputs": [
    {
     "data": {
      "text/plain": [
       "\u001b[0;31mSignature:\u001b[0m\n",
       "\u001b[0msolve_ivp\u001b[0m\u001b[0;34m(\u001b[0m\u001b[0;34m\u001b[0m\n",
       "\u001b[0;34m\u001b[0m    \u001b[0mfun\u001b[0m\u001b[0;34m,\u001b[0m\u001b[0;34m\u001b[0m\n",
       "\u001b[0;34m\u001b[0m    \u001b[0mt_span\u001b[0m\u001b[0;34m,\u001b[0m\u001b[0;34m\u001b[0m\n",
       "\u001b[0;34m\u001b[0m    \u001b[0my0\u001b[0m\u001b[0;34m,\u001b[0m\u001b[0;34m\u001b[0m\n",
       "\u001b[0;34m\u001b[0m    \u001b[0mmethod\u001b[0m\u001b[0;34m=\u001b[0m\u001b[0;34m'RK45'\u001b[0m\u001b[0;34m,\u001b[0m\u001b[0;34m\u001b[0m\n",
       "\u001b[0;34m\u001b[0m    \u001b[0mt_eval\u001b[0m\u001b[0;34m=\u001b[0m\u001b[0;32mNone\u001b[0m\u001b[0;34m,\u001b[0m\u001b[0;34m\u001b[0m\n",
       "\u001b[0;34m\u001b[0m    \u001b[0mdense_output\u001b[0m\u001b[0;34m=\u001b[0m\u001b[0;32mFalse\u001b[0m\u001b[0;34m,\u001b[0m\u001b[0;34m\u001b[0m\n",
       "\u001b[0;34m\u001b[0m    \u001b[0mevents\u001b[0m\u001b[0;34m=\u001b[0m\u001b[0;32mNone\u001b[0m\u001b[0;34m,\u001b[0m\u001b[0;34m\u001b[0m\n",
       "\u001b[0;34m\u001b[0m    \u001b[0mvectorized\u001b[0m\u001b[0;34m=\u001b[0m\u001b[0;32mFalse\u001b[0m\u001b[0;34m,\u001b[0m\u001b[0;34m\u001b[0m\n",
       "\u001b[0;34m\u001b[0m    \u001b[0margs\u001b[0m\u001b[0;34m=\u001b[0m\u001b[0;32mNone\u001b[0m\u001b[0;34m,\u001b[0m\u001b[0;34m\u001b[0m\n",
       "\u001b[0;34m\u001b[0m    \u001b[0;34m**\u001b[0m\u001b[0moptions\u001b[0m\u001b[0;34m,\u001b[0m\u001b[0;34m\u001b[0m\n",
       "\u001b[0;34m\u001b[0m\u001b[0;34m)\u001b[0m\u001b[0;34m\u001b[0m\u001b[0;34m\u001b[0m\u001b[0m\n",
       "\u001b[0;31mSource:\u001b[0m   \n",
       "\u001b[0;32mdef\u001b[0m \u001b[0msolve_ivp\u001b[0m\u001b[0;34m(\u001b[0m\u001b[0mfun\u001b[0m\u001b[0;34m,\u001b[0m \u001b[0mt_span\u001b[0m\u001b[0;34m,\u001b[0m \u001b[0my0\u001b[0m\u001b[0;34m,\u001b[0m \u001b[0mmethod\u001b[0m\u001b[0;34m=\u001b[0m\u001b[0;34m'RK45'\u001b[0m\u001b[0;34m,\u001b[0m \u001b[0mt_eval\u001b[0m\u001b[0;34m=\u001b[0m\u001b[0;32mNone\u001b[0m\u001b[0;34m,\u001b[0m \u001b[0mdense_output\u001b[0m\u001b[0;34m=\u001b[0m\u001b[0;32mFalse\u001b[0m\u001b[0;34m,\u001b[0m\u001b[0;34m\u001b[0m\n",
       "\u001b[0;34m\u001b[0m              \u001b[0mevents\u001b[0m\u001b[0;34m=\u001b[0m\u001b[0;32mNone\u001b[0m\u001b[0;34m,\u001b[0m \u001b[0mvectorized\u001b[0m\u001b[0;34m=\u001b[0m\u001b[0;32mFalse\u001b[0m\u001b[0;34m,\u001b[0m \u001b[0margs\u001b[0m\u001b[0;34m=\u001b[0m\u001b[0;32mNone\u001b[0m\u001b[0;34m,\u001b[0m \u001b[0;34m**\u001b[0m\u001b[0moptions\u001b[0m\u001b[0;34m)\u001b[0m\u001b[0;34m:\u001b[0m\u001b[0;34m\u001b[0m\n",
       "\u001b[0;34m\u001b[0m    \u001b[0;34m\"\"\"Solve an initial value problem for a system of ODEs.\u001b[0m\n",
       "\u001b[0;34m\u001b[0m\n",
       "\u001b[0;34m    This function numerically integrates a system of ordinary differential\u001b[0m\n",
       "\u001b[0;34m    equations given an initial value::\u001b[0m\n",
       "\u001b[0;34m\u001b[0m\n",
       "\u001b[0;34m        dy / dt = f(t, y)\u001b[0m\n",
       "\u001b[0;34m        y(t0) = y0\u001b[0m\n",
       "\u001b[0;34m\u001b[0m\n",
       "\u001b[0;34m    Here t is a 1-D independent variable (time), y(t) is an\u001b[0m\n",
       "\u001b[0;34m    N-D vector-valued function (state), and an N-D\u001b[0m\n",
       "\u001b[0;34m    vector-valued function f(t, y) determines the differential equations.\u001b[0m\n",
       "\u001b[0;34m    The goal is to find y(t) approximately satisfying the differential\u001b[0m\n",
       "\u001b[0;34m    equations, given an initial value y(t0)=y0.\u001b[0m\n",
       "\u001b[0;34m\u001b[0m\n",
       "\u001b[0;34m    Some of the solvers support integration in the complex domain, but note\u001b[0m\n",
       "\u001b[0;34m    that for stiff ODE solvers, the right-hand side must be\u001b[0m\n",
       "\u001b[0;34m    complex-differentiable (satisfy Cauchy-Riemann equations [11]_).\u001b[0m\n",
       "\u001b[0;34m    To solve a problem in the complex domain, pass y0 with a complex data type.\u001b[0m\n",
       "\u001b[0;34m    Another option always available is to rewrite your problem for real and\u001b[0m\n",
       "\u001b[0;34m    imaginary parts separately.\u001b[0m\n",
       "\u001b[0;34m\u001b[0m\n",
       "\u001b[0;34m    Parameters\u001b[0m\n",
       "\u001b[0;34m    ----------\u001b[0m\n",
       "\u001b[0;34m    fun : callable\u001b[0m\n",
       "\u001b[0;34m        Right-hand side of the system. The calling signature is ``fun(t, y)``.\u001b[0m\n",
       "\u001b[0;34m        Here `t` is a scalar, and there are two options for the ndarray `y`:\u001b[0m\n",
       "\u001b[0;34m        It can either have shape (n,); then `fun` must return array_like with\u001b[0m\n",
       "\u001b[0;34m        shape (n,). Alternatively, it can have shape (n, k); then `fun`\u001b[0m\n",
       "\u001b[0;34m        must return an array_like with shape (n, k), i.e., each column\u001b[0m\n",
       "\u001b[0;34m        corresponds to a single column in `y`. The choice between the two\u001b[0m\n",
       "\u001b[0;34m        options is determined by `vectorized` argument (see below). The\u001b[0m\n",
       "\u001b[0;34m        vectorized implementation allows a faster approximation of the Jacobian\u001b[0m\n",
       "\u001b[0;34m        by finite differences (required for stiff solvers).\u001b[0m\n",
       "\u001b[0;34m    t_span : 2-tuple of floats\u001b[0m\n",
       "\u001b[0;34m        Interval of integration (t0, tf). The solver starts with t=t0 and\u001b[0m\n",
       "\u001b[0;34m        integrates until it reaches t=tf.\u001b[0m\n",
       "\u001b[0;34m    y0 : array_like, shape (n,)\u001b[0m\n",
       "\u001b[0;34m        Initial state. For problems in the complex domain, pass `y0` with a\u001b[0m\n",
       "\u001b[0;34m        complex data type (even if the initial value is purely real).\u001b[0m\n",
       "\u001b[0;34m    method : string or `OdeSolver`, optional\u001b[0m\n",
       "\u001b[0;34m        Integration method to use:\u001b[0m\n",
       "\u001b[0;34m\u001b[0m\n",
       "\u001b[0;34m            * 'RK45' (default): Explicit Runge-Kutta method of order 5(4) [1]_.\u001b[0m\n",
       "\u001b[0;34m              The error is controlled assuming accuracy of the fourth-order\u001b[0m\n",
       "\u001b[0;34m              method, but steps are taken using the fifth-order accurate\u001b[0m\n",
       "\u001b[0;34m              formula (local extrapolation is done). A quartic interpolation\u001b[0m\n",
       "\u001b[0;34m              polynomial is used for the dense output [2]_. Can be applied in\u001b[0m\n",
       "\u001b[0;34m              the complex domain.\u001b[0m\n",
       "\u001b[0;34m            * 'RK23': Explicit Runge-Kutta method of order 3(2) [3]_. The error\u001b[0m\n",
       "\u001b[0;34m              is controlled assuming accuracy of the second-order method, but\u001b[0m\n",
       "\u001b[0;34m              steps are taken using the third-order accurate formula (local\u001b[0m\n",
       "\u001b[0;34m              extrapolation is done). A cubic Hermite polynomial is used for the\u001b[0m\n",
       "\u001b[0;34m              dense output. Can be applied in the complex domain.\u001b[0m\n",
       "\u001b[0;34m            * 'DOP853': Explicit Runge-Kutta method of order 8 [13]_.\u001b[0m\n",
       "\u001b[0;34m              Python implementation of the \"DOP853\" algorithm originally\u001b[0m\n",
       "\u001b[0;34m              written in Fortran [14]_. A 7-th order interpolation polynomial\u001b[0m\n",
       "\u001b[0;34m              accurate to 7-th order is used for the dense output.\u001b[0m\n",
       "\u001b[0;34m              Can be applied in the complex domain.\u001b[0m\n",
       "\u001b[0;34m            * 'Radau': Implicit Runge-Kutta method of the Radau IIA family of\u001b[0m\n",
       "\u001b[0;34m              order 5 [4]_. The error is controlled with a third-order accurate\u001b[0m\n",
       "\u001b[0;34m              embedded formula. A cubic polynomial which satisfies the\u001b[0m\n",
       "\u001b[0;34m              collocation conditions is used for the dense output.\u001b[0m\n",
       "\u001b[0;34m            * 'BDF': Implicit multi-step variable-order (1 to 5) method based\u001b[0m\n",
       "\u001b[0;34m              on a backward differentiation formula for the derivative\u001b[0m\n",
       "\u001b[0;34m              approximation [5]_. The implementation follows the one described\u001b[0m\n",
       "\u001b[0;34m              in [6]_. A quasi-constant step scheme is used and accuracy is\u001b[0m\n",
       "\u001b[0;34m              enhanced using the NDF modification. Can be applied in the\u001b[0m\n",
       "\u001b[0;34m              complex domain.\u001b[0m\n",
       "\u001b[0;34m            * 'LSODA': Adams/BDF method with automatic stiffness detection and\u001b[0m\n",
       "\u001b[0;34m              switching [7]_, [8]_. This is a wrapper of the Fortran solver\u001b[0m\n",
       "\u001b[0;34m              from ODEPACK.\u001b[0m\n",
       "\u001b[0;34m\u001b[0m\n",
       "\u001b[0;34m        Explicit Runge-Kutta methods ('RK23', 'RK45', 'DOP853') should be used\u001b[0m\n",
       "\u001b[0;34m        for non-stiff problems and implicit methods ('Radau', 'BDF') for\u001b[0m\n",
       "\u001b[0;34m        stiff problems [9]_. Among Runge-Kutta methods, 'DOP853' is recommended\u001b[0m\n",
       "\u001b[0;34m        for solving with high precision (low values of `rtol` and `atol`).\u001b[0m\n",
       "\u001b[0;34m\u001b[0m\n",
       "\u001b[0;34m        If not sure, first try to run 'RK45'. If it makes unusually many\u001b[0m\n",
       "\u001b[0;34m        iterations, diverges, or fails, your problem is likely to be stiff and\u001b[0m\n",
       "\u001b[0;34m        you should use 'Radau' or 'BDF'. 'LSODA' can also be a good universal\u001b[0m\n",
       "\u001b[0;34m        choice, but it might be somewhat less convenient to work with as it\u001b[0m\n",
       "\u001b[0;34m        wraps old Fortran code.\u001b[0m\n",
       "\u001b[0;34m\u001b[0m\n",
       "\u001b[0;34m        You can also pass an arbitrary class derived from `OdeSolver` which\u001b[0m\n",
       "\u001b[0;34m        implements the solver.\u001b[0m\n",
       "\u001b[0;34m    t_eval : array_like or None, optional\u001b[0m\n",
       "\u001b[0;34m        Times at which to store the computed solution, must be sorted and lie\u001b[0m\n",
       "\u001b[0;34m        within `t_span`. If None (default), use points selected by the solver.\u001b[0m\n",
       "\u001b[0;34m    dense_output : bool, optional\u001b[0m\n",
       "\u001b[0;34m        Whether to compute a continuous solution. Default is False.\u001b[0m\n",
       "\u001b[0;34m    events : callable, or list of callables, optional\u001b[0m\n",
       "\u001b[0;34m        Events to track. If None (default), no events will be tracked.\u001b[0m\n",
       "\u001b[0;34m        Each event occurs at the zeros of a continuous function of time and\u001b[0m\n",
       "\u001b[0;34m        state. Each function must have the signature ``event(t, y)`` and return\u001b[0m\n",
       "\u001b[0;34m        a float. The solver will find an accurate value of `t` at which\u001b[0m\n",
       "\u001b[0;34m        ``event(t, y(t)) = 0`` using a root-finding algorithm. By default, all\u001b[0m\n",
       "\u001b[0;34m        zeros will be found. The solver looks for a sign change over each step,\u001b[0m\n",
       "\u001b[0;34m        so if multiple zero crossings occur within one step, events may be\u001b[0m\n",
       "\u001b[0;34m        missed. Additionally each `event` function might have the following\u001b[0m\n",
       "\u001b[0;34m        attributes:\u001b[0m\n",
       "\u001b[0;34m\u001b[0m\n",
       "\u001b[0;34m            terminal: bool, optional\u001b[0m\n",
       "\u001b[0;34m                Whether to terminate integration if this event occurs.\u001b[0m\n",
       "\u001b[0;34m                Implicitly False if not assigned.\u001b[0m\n",
       "\u001b[0;34m            direction: float, optional\u001b[0m\n",
       "\u001b[0;34m                Direction of a zero crossing. If `direction` is positive,\u001b[0m\n",
       "\u001b[0;34m                `event` will only trigger when going from negative to positive,\u001b[0m\n",
       "\u001b[0;34m                and vice versa if `direction` is negative. If 0, then either\u001b[0m\n",
       "\u001b[0;34m                direction will trigger event. Implicitly 0 if not assigned.\u001b[0m\n",
       "\u001b[0;34m\u001b[0m\n",
       "\u001b[0;34m        You can assign attributes like ``event.terminal = True`` to any\u001b[0m\n",
       "\u001b[0;34m        function in Python.\u001b[0m\n",
       "\u001b[0;34m    vectorized : bool, optional\u001b[0m\n",
       "\u001b[0;34m        Whether `fun` is implemented in a vectorized fashion. Default is False.\u001b[0m\n",
       "\u001b[0;34m    args : tuple, optional\u001b[0m\n",
       "\u001b[0;34m        Additional arguments to pass to the user-defined functions.  If given,\u001b[0m\n",
       "\u001b[0;34m        the additional arguments are passed to all user-defined functions.\u001b[0m\n",
       "\u001b[0;34m        So if, for example, `fun` has the signature ``fun(t, y, a, b, c)``,\u001b[0m\n",
       "\u001b[0;34m        then `jac` (if given) and any event functions must have the same\u001b[0m\n",
       "\u001b[0;34m        signature, and `args` must be a tuple of length 3.\u001b[0m\n",
       "\u001b[0;34m    options\u001b[0m\n",
       "\u001b[0;34m        Options passed to a chosen solver. All options available for already\u001b[0m\n",
       "\u001b[0;34m        implemented solvers are listed below.\u001b[0m\n",
       "\u001b[0;34m    first_step : float or None, optional\u001b[0m\n",
       "\u001b[0;34m        Initial step size. Default is `None` which means that the algorithm\u001b[0m\n",
       "\u001b[0;34m        should choose.\u001b[0m\n",
       "\u001b[0;34m    max_step : float, optional\u001b[0m\n",
       "\u001b[0;34m        Maximum allowed step size. Default is np.inf, i.e., the step size is not\u001b[0m\n",
       "\u001b[0;34m        bounded and determined solely by the solver.\u001b[0m\n",
       "\u001b[0;34m    rtol, atol : float or array_like, optional\u001b[0m\n",
       "\u001b[0;34m        Relative and absolute tolerances. The solver keeps the local error\u001b[0m\n",
       "\u001b[0;34m        estimates less than ``atol + rtol * abs(y)``. Here `rtol` controls a\u001b[0m\n",
       "\u001b[0;34m        relative accuracy (number of correct digits). But if a component of `y`\u001b[0m\n",
       "\u001b[0;34m        is approximately below `atol`, the error only needs to fall within\u001b[0m\n",
       "\u001b[0;34m        the same `atol` threshold, and the number of correct digits is not\u001b[0m\n",
       "\u001b[0;34m        guaranteed. If components of y have different scales, it might be\u001b[0m\n",
       "\u001b[0;34m        beneficial to set different `atol` values for different components by\u001b[0m\n",
       "\u001b[0;34m        passing array_like with shape (n,) for `atol`. Default values are\u001b[0m\n",
       "\u001b[0;34m        1e-3 for `rtol` and 1e-6 for `atol`.\u001b[0m\n",
       "\u001b[0;34m    jac : array_like, sparse_matrix, callable or None, optional\u001b[0m\n",
       "\u001b[0;34m        Jacobian matrix of the right-hand side of the system with respect\u001b[0m\n",
       "\u001b[0;34m        to y, required by the 'Radau', 'BDF' and 'LSODA' method. The\u001b[0m\n",
       "\u001b[0;34m        Jacobian matrix has shape (n, n) and its element (i, j) is equal to\u001b[0m\n",
       "\u001b[0;34m        ``d f_i / d y_j``.  There are three ways to define the Jacobian:\u001b[0m\n",
       "\u001b[0;34m\u001b[0m\n",
       "\u001b[0;34m            * If array_like or sparse_matrix, the Jacobian is assumed to\u001b[0m\n",
       "\u001b[0;34m              be constant. Not supported by 'LSODA'.\u001b[0m\n",
       "\u001b[0;34m            * If callable, the Jacobian is assumed to depend on both\u001b[0m\n",
       "\u001b[0;34m              t and y; it will be called as ``jac(t, y)``, as necessary.\u001b[0m\n",
       "\u001b[0;34m              For 'Radau' and 'BDF' methods, the return value might be a\u001b[0m\n",
       "\u001b[0;34m              sparse matrix.\u001b[0m\n",
       "\u001b[0;34m            * If None (default), the Jacobian will be approximated by\u001b[0m\n",
       "\u001b[0;34m              finite differences.\u001b[0m\n",
       "\u001b[0;34m\u001b[0m\n",
       "\u001b[0;34m        It is generally recommended to provide the Jacobian rather than\u001b[0m\n",
       "\u001b[0;34m        relying on a finite-difference approximation.\u001b[0m\n",
       "\u001b[0;34m    jac_sparsity : array_like, sparse matrix or None, optional\u001b[0m\n",
       "\u001b[0;34m        Defines a sparsity structure of the Jacobian matrix for a finite-\u001b[0m\n",
       "\u001b[0;34m        difference approximation. Its shape must be (n, n). This argument\u001b[0m\n",
       "\u001b[0;34m        is ignored if `jac` is not `None`. If the Jacobian has only few\u001b[0m\n",
       "\u001b[0;34m        non-zero elements in *each* row, providing the sparsity structure\u001b[0m\n",
       "\u001b[0;34m        will greatly speed up the computations [10]_. A zero entry means that\u001b[0m\n",
       "\u001b[0;34m        a corresponding element in the Jacobian is always zero. If None\u001b[0m\n",
       "\u001b[0;34m        (default), the Jacobian is assumed to be dense.\u001b[0m\n",
       "\u001b[0;34m        Not supported by 'LSODA', see `lband` and `uband` instead.\u001b[0m\n",
       "\u001b[0;34m    lband, uband : int or None, optional\u001b[0m\n",
       "\u001b[0;34m        Parameters defining the bandwidth of the Jacobian for the 'LSODA'\u001b[0m\n",
       "\u001b[0;34m        method, i.e., ``jac[i, j] != 0 only for i - lband <= j <= i + uband``.\u001b[0m\n",
       "\u001b[0;34m        Default is None. Setting these requires your jac routine to return the\u001b[0m\n",
       "\u001b[0;34m        Jacobian in the packed format: the returned array must have ``n``\u001b[0m\n",
       "\u001b[0;34m        columns and ``uband + lband + 1`` rows in which Jacobian diagonals are\u001b[0m\n",
       "\u001b[0;34m        written. Specifically ``jac_packed[uband + i - j , j] = jac[i, j]``.\u001b[0m\n",
       "\u001b[0;34m        The same format is used in `scipy.linalg.solve_banded` (check for an\u001b[0m\n",
       "\u001b[0;34m        illustration).  These parameters can be also used with ``jac=None`` to\u001b[0m\n",
       "\u001b[0;34m        reduce the number of Jacobian elements estimated by finite differences.\u001b[0m\n",
       "\u001b[0;34m    min_step : float, optional\u001b[0m\n",
       "\u001b[0;34m        The minimum allowed step size for 'LSODA' method.\u001b[0m\n",
       "\u001b[0;34m        By default `min_step` is zero.\u001b[0m\n",
       "\u001b[0;34m\u001b[0m\n",
       "\u001b[0;34m    Returns\u001b[0m\n",
       "\u001b[0;34m    -------\u001b[0m\n",
       "\u001b[0;34m    Bunch object with the following fields defined:\u001b[0m\n",
       "\u001b[0;34m    t : ndarray, shape (n_points,)\u001b[0m\n",
       "\u001b[0;34m        Time points.\u001b[0m\n",
       "\u001b[0;34m    y : ndarray, shape (n, n_points)\u001b[0m\n",
       "\u001b[0;34m        Values of the solution at `t`.\u001b[0m\n",
       "\u001b[0;34m    sol : `OdeSolution` or None\u001b[0m\n",
       "\u001b[0;34m        Found solution as `OdeSolution` instance; None if `dense_output` was\u001b[0m\n",
       "\u001b[0;34m        set to False.\u001b[0m\n",
       "\u001b[0;34m    t_events : list of ndarray or None\u001b[0m\n",
       "\u001b[0;34m        Contains for each event type a list of arrays at which an event of\u001b[0m\n",
       "\u001b[0;34m        that type event was detected. None if `events` was None.\u001b[0m\n",
       "\u001b[0;34m    y_events : list of ndarray or None\u001b[0m\n",
       "\u001b[0;34m        For each value of `t_events`, the corresponding value of the solution.\u001b[0m\n",
       "\u001b[0;34m        None if `events` was None.\u001b[0m\n",
       "\u001b[0;34m    nfev : int\u001b[0m\n",
       "\u001b[0;34m        Number of evaluations of the right-hand side.\u001b[0m\n",
       "\u001b[0;34m    njev : int\u001b[0m\n",
       "\u001b[0;34m        Number of evaluations of the Jacobian.\u001b[0m\n",
       "\u001b[0;34m    nlu : int\u001b[0m\n",
       "\u001b[0;34m        Number of LU decompositions.\u001b[0m\n",
       "\u001b[0;34m    status : int\u001b[0m\n",
       "\u001b[0;34m        Reason for algorithm termination:\u001b[0m\n",
       "\u001b[0;34m\u001b[0m\n",
       "\u001b[0;34m            * -1: Integration step failed.\u001b[0m\n",
       "\u001b[0;34m            *  0: The solver successfully reached the end of `tspan`.\u001b[0m\n",
       "\u001b[0;34m            *  1: A termination event occurred.\u001b[0m\n",
       "\u001b[0;34m\u001b[0m\n",
       "\u001b[0;34m    message : string\u001b[0m\n",
       "\u001b[0;34m        Human-readable description of the termination reason.\u001b[0m\n",
       "\u001b[0;34m    success : bool\u001b[0m\n",
       "\u001b[0;34m        True if the solver reached the interval end or a termination event\u001b[0m\n",
       "\u001b[0;34m        occurred (``status >= 0``).\u001b[0m\n",
       "\u001b[0;34m\u001b[0m\n",
       "\u001b[0;34m    References\u001b[0m\n",
       "\u001b[0;34m    ----------\u001b[0m\n",
       "\u001b[0;34m    .. [1] J. R. Dormand, P. J. Prince, \"A family of embedded Runge-Kutta\u001b[0m\n",
       "\u001b[0;34m           formulae\", Journal of Computational and Applied Mathematics, Vol. 6,\u001b[0m\n",
       "\u001b[0;34m           No. 1, pp. 19-26, 1980.\u001b[0m\n",
       "\u001b[0;34m    .. [2] L. W. Shampine, \"Some Practical Runge-Kutta Formulas\", Mathematics\u001b[0m\n",
       "\u001b[0;34m           of Computation,, Vol. 46, No. 173, pp. 135-150, 1986.\u001b[0m\n",
       "\u001b[0;34m    .. [3] P. Bogacki, L.F. Shampine, \"A 3(2) Pair of Runge-Kutta Formulas\",\u001b[0m\n",
       "\u001b[0;34m           Appl. Math. Lett. Vol. 2, No. 4. pp. 321-325, 1989.\u001b[0m\n",
       "\u001b[0;34m    .. [4] E. Hairer, G. Wanner, \"Solving Ordinary Differential Equations II:\u001b[0m\n",
       "\u001b[0;34m           Stiff and Differential-Algebraic Problems\", Sec. IV.8.\u001b[0m\n",
       "\u001b[0;34m    .. [5] `Backward Differentiation Formula\u001b[0m\n",
       "\u001b[0;34m            <https://en.wikipedia.org/wiki/Backward_differentiation_formula>`_\u001b[0m\n",
       "\u001b[0;34m            on Wikipedia.\u001b[0m\n",
       "\u001b[0;34m    .. [6] L. F. Shampine, M. W. Reichelt, \"THE MATLAB ODE SUITE\", SIAM J. SCI.\u001b[0m\n",
       "\u001b[0;34m           COMPUTE., Vol. 18, No. 1, pp. 1-22, January 1997.\u001b[0m\n",
       "\u001b[0;34m    .. [7] A. C. Hindmarsh, \"ODEPACK, A Systematized Collection of ODE\u001b[0m\n",
       "\u001b[0;34m           Solvers,\" IMACS Transactions on Scientific Computation, Vol 1.,\u001b[0m\n",
       "\u001b[0;34m           pp. 55-64, 1983.\u001b[0m\n",
       "\u001b[0;34m    .. [8] L. Petzold, \"Automatic selection of methods for solving stiff and\u001b[0m\n",
       "\u001b[0;34m           nonstiff systems of ordinary differential equations\", SIAM Journal\u001b[0m\n",
       "\u001b[0;34m           on Scientific and Statistical Computing, Vol. 4, No. 1, pp. 136-148,\u001b[0m\n",
       "\u001b[0;34m           1983.\u001b[0m\n",
       "\u001b[0;34m    .. [9] `Stiff equation <https://en.wikipedia.org/wiki/Stiff_equation>`_ on\u001b[0m\n",
       "\u001b[0;34m           Wikipedia.\u001b[0m\n",
       "\u001b[0;34m    .. [10] A. Curtis, M. J. D. Powell, and J. Reid, \"On the estimation of\u001b[0m\n",
       "\u001b[0;34m            sparse Jacobian matrices\", Journal of the Institute of Mathematics\u001b[0m\n",
       "\u001b[0;34m            and its Applications, 13, pp. 117-120, 1974.\u001b[0m\n",
       "\u001b[0;34m    .. [11] `Cauchy-Riemann equations\u001b[0m\n",
       "\u001b[0;34m             <https://en.wikipedia.org/wiki/Cauchy-Riemann_equations>`_ on\u001b[0m\n",
       "\u001b[0;34m             Wikipedia.\u001b[0m\n",
       "\u001b[0;34m    .. [12] `Lotka-Volterra equations\u001b[0m\n",
       "\u001b[0;34m            <https://en.wikipedia.org/wiki/Lotka%E2%80%93Volterra_equations>`_\u001b[0m\n",
       "\u001b[0;34m            on Wikipedia.\u001b[0m\n",
       "\u001b[0;34m    .. [13] E. Hairer, S. P. Norsett G. Wanner, \"Solving Ordinary Differential\u001b[0m\n",
       "\u001b[0;34m            Equations I: Nonstiff Problems\", Sec. II.\u001b[0m\n",
       "\u001b[0;34m    .. [14] `Page with original Fortran code of DOP853\u001b[0m\n",
       "\u001b[0;34m            <http://www.unige.ch/~hairer/software.html>`_.\u001b[0m\n",
       "\u001b[0;34m\u001b[0m\n",
       "\u001b[0;34m    Examples\u001b[0m\n",
       "\u001b[0;34m    --------\u001b[0m\n",
       "\u001b[0;34m    Basic exponential decay showing automatically chosen time points.\u001b[0m\n",
       "\u001b[0;34m\u001b[0m\n",
       "\u001b[0;34m    >>> from scipy.integrate import solve_ivp\u001b[0m\n",
       "\u001b[0;34m    >>> def exponential_decay(t, y): return -0.5 * y\u001b[0m\n",
       "\u001b[0;34m    >>> sol = solve_ivp(exponential_decay, [0, 10], [2, 4, 8])\u001b[0m\n",
       "\u001b[0;34m    >>> print(sol.t)\u001b[0m\n",
       "\u001b[0;34m    [ 0.          0.11487653  1.26364188  3.06061781  4.81611105  6.57445806\u001b[0m\n",
       "\u001b[0;34m      8.33328988 10.        ]\u001b[0m\n",
       "\u001b[0;34m    >>> print(sol.y)\u001b[0m\n",
       "\u001b[0;34m    [[2.         1.88836035 1.06327177 0.43319312 0.18017253 0.07483045\u001b[0m\n",
       "\u001b[0;34m      0.03107158 0.01350781]\u001b[0m\n",
       "\u001b[0;34m     [4.         3.7767207  2.12654355 0.86638624 0.36034507 0.14966091\u001b[0m\n",
       "\u001b[0;34m      0.06214316 0.02701561]\u001b[0m\n",
       "\u001b[0;34m     [8.         7.5534414  4.25308709 1.73277247 0.72069014 0.29932181\u001b[0m\n",
       "\u001b[0;34m      0.12428631 0.05403123]]\u001b[0m\n",
       "\u001b[0;34m\u001b[0m\n",
       "\u001b[0;34m    Specifying points where the solution is desired.\u001b[0m\n",
       "\u001b[0;34m\u001b[0m\n",
       "\u001b[0;34m    >>> sol = solve_ivp(exponential_decay, [0, 10], [2, 4, 8],\u001b[0m\n",
       "\u001b[0;34m    ...                 t_eval=[0, 1, 2, 4, 10])\u001b[0m\n",
       "\u001b[0;34m    >>> print(sol.t)\u001b[0m\n",
       "\u001b[0;34m    [ 0  1  2  4 10]\u001b[0m\n",
       "\u001b[0;34m    >>> print(sol.y)\u001b[0m\n",
       "\u001b[0;34m    [[2.         1.21305369 0.73534021 0.27066736 0.01350938]\u001b[0m\n",
       "\u001b[0;34m     [4.         2.42610739 1.47068043 0.54133472 0.02701876]\u001b[0m\n",
       "\u001b[0;34m     [8.         4.85221478 2.94136085 1.08266944 0.05403753]]\u001b[0m\n",
       "\u001b[0;34m\u001b[0m\n",
       "\u001b[0;34m    Cannon fired upward with terminal event upon impact. The ``terminal`` and\u001b[0m\n",
       "\u001b[0;34m    ``direction`` fields of an event are applied by monkey patching a function.\u001b[0m\n",
       "\u001b[0;34m    Here ``y[0]`` is position and ``y[1]`` is velocity. The projectile starts\u001b[0m\n",
       "\u001b[0;34m    at position 0 with velocity +10. Note that the integration never reaches\u001b[0m\n",
       "\u001b[0;34m    t=100 because the event is terminal.\u001b[0m\n",
       "\u001b[0;34m\u001b[0m\n",
       "\u001b[0;34m    >>> def upward_cannon(t, y): return [y[1], -0.5]\u001b[0m\n",
       "\u001b[0;34m    >>> def hit_ground(t, y): return y[0]\u001b[0m\n",
       "\u001b[0;34m    >>> hit_ground.terminal = True\u001b[0m\n",
       "\u001b[0;34m    >>> hit_ground.direction = -1\u001b[0m\n",
       "\u001b[0;34m    >>> sol = solve_ivp(upward_cannon, [0, 100], [0, 10], events=hit_ground)\u001b[0m\n",
       "\u001b[0;34m    >>> print(sol.t_events)\u001b[0m\n",
       "\u001b[0;34m    [array([40.])]\u001b[0m\n",
       "\u001b[0;34m    >>> print(sol.t)\u001b[0m\n",
       "\u001b[0;34m    [0.00000000e+00 9.99900010e-05 1.09989001e-03 1.10988901e-02\u001b[0m\n",
       "\u001b[0;34m     1.11088891e-01 1.11098890e+00 1.11099890e+01 4.00000000e+01]\u001b[0m\n",
       "\u001b[0;34m\u001b[0m\n",
       "\u001b[0;34m    Use `dense_output` and `events` to find position, which is 100, at the apex\u001b[0m\n",
       "\u001b[0;34m    of the cannonball's trajectory. Apex is not defined as terminal, so both\u001b[0m\n",
       "\u001b[0;34m    apex and hit_ground are found. There is no information at t=20, so the sol\u001b[0m\n",
       "\u001b[0;34m    attribute is used to evaluate the solution. The sol attribute is returned\u001b[0m\n",
       "\u001b[0;34m    by setting ``dense_output=True``. Alternatively, the `y_events` attribute\u001b[0m\n",
       "\u001b[0;34m    can be used to access the solution at the time of the event.\u001b[0m\n",
       "\u001b[0;34m\u001b[0m\n",
       "\u001b[0;34m    >>> def apex(t, y): return y[1]\u001b[0m\n",
       "\u001b[0;34m    >>> sol = solve_ivp(upward_cannon, [0, 100], [0, 10],\u001b[0m\n",
       "\u001b[0;34m    ...                 events=(hit_ground, apex), dense_output=True)\u001b[0m\n",
       "\u001b[0;34m    >>> print(sol.t_events)\u001b[0m\n",
       "\u001b[0;34m    [array([40.]), array([20.])]\u001b[0m\n",
       "\u001b[0;34m    >>> print(sol.t)\u001b[0m\n",
       "\u001b[0;34m    [0.00000000e+00 9.99900010e-05 1.09989001e-03 1.10988901e-02\u001b[0m\n",
       "\u001b[0;34m     1.11088891e-01 1.11098890e+00 1.11099890e+01 4.00000000e+01]\u001b[0m\n",
       "\u001b[0;34m    >>> print(sol.sol(sol.t_events[1][0]))\u001b[0m\n",
       "\u001b[0;34m    [100.   0.]\u001b[0m\n",
       "\u001b[0;34m    >>> print(sol.y_events)\u001b[0m\n",
       "\u001b[0;34m    [array([[-5.68434189e-14, -1.00000000e+01]]), array([[1.00000000e+02, 1.77635684e-15]])]\u001b[0m\n",
       "\u001b[0;34m\u001b[0m\n",
       "\u001b[0;34m    As an example of a system with additional parameters, we'll implement\u001b[0m\n",
       "\u001b[0;34m    the Lotka-Volterra equations [12]_.\u001b[0m\n",
       "\u001b[0;34m\u001b[0m\n",
       "\u001b[0;34m    >>> def lotkavolterra(t, z, a, b, c, d):\u001b[0m\n",
       "\u001b[0;34m    ...     x, y = z\u001b[0m\n",
       "\u001b[0;34m    ...     return [a*x - b*x*y, -c*y + d*x*y]\u001b[0m\n",
       "\u001b[0;34m    ...\u001b[0m\n",
       "\u001b[0;34m\u001b[0m\n",
       "\u001b[0;34m    We pass in the parameter values a=1.5, b=1, c=3 and d=1 with the `args`\u001b[0m\n",
       "\u001b[0;34m    argument.\u001b[0m\n",
       "\u001b[0;34m\u001b[0m\n",
       "\u001b[0;34m    >>> sol = solve_ivp(lotkavolterra, [0, 15], [10, 5], args=(1.5, 1, 3, 1),\u001b[0m\n",
       "\u001b[0;34m    ...                 dense_output=True)\u001b[0m\n",
       "\u001b[0;34m\u001b[0m\n",
       "\u001b[0;34m    Compute a dense solution and plot it.\u001b[0m\n",
       "\u001b[0;34m\u001b[0m\n",
       "\u001b[0;34m    >>> t = np.linspace(0, 15, 300)\u001b[0m\n",
       "\u001b[0;34m    >>> z = sol.sol(t)\u001b[0m\n",
       "\u001b[0;34m    >>> import matplotlib.pyplot as plt\u001b[0m\n",
       "\u001b[0;34m    >>> plt.plot(t, z.T)\u001b[0m\n",
       "\u001b[0;34m    >>> plt.xlabel('t')\u001b[0m\n",
       "\u001b[0;34m    >>> plt.legend(['x', 'y'], shadow=True)\u001b[0m\n",
       "\u001b[0;34m    >>> plt.title('Lotka-Volterra System')\u001b[0m\n",
       "\u001b[0;34m    >>> plt.show()\u001b[0m\n",
       "\u001b[0;34m\u001b[0m\n",
       "\u001b[0;34m    \"\"\"\u001b[0m\u001b[0;34m\u001b[0m\n",
       "\u001b[0;34m\u001b[0m    \u001b[0;32mif\u001b[0m \u001b[0mmethod\u001b[0m \u001b[0;32mnot\u001b[0m \u001b[0;32min\u001b[0m \u001b[0mMETHODS\u001b[0m \u001b[0;32mand\u001b[0m \u001b[0;32mnot\u001b[0m \u001b[0;34m(\u001b[0m\u001b[0;34m\u001b[0m\n",
       "\u001b[0;34m\u001b[0m            \u001b[0minspect\u001b[0m\u001b[0;34m.\u001b[0m\u001b[0misclass\u001b[0m\u001b[0;34m(\u001b[0m\u001b[0mmethod\u001b[0m\u001b[0;34m)\u001b[0m \u001b[0;32mand\u001b[0m \u001b[0missubclass\u001b[0m\u001b[0;34m(\u001b[0m\u001b[0mmethod\u001b[0m\u001b[0;34m,\u001b[0m \u001b[0mOdeSolver\u001b[0m\u001b[0;34m)\u001b[0m\u001b[0;34m)\u001b[0m\u001b[0;34m:\u001b[0m\u001b[0;34m\u001b[0m\n",
       "\u001b[0;34m\u001b[0m        \u001b[0;32mraise\u001b[0m \u001b[0mValueError\u001b[0m\u001b[0;34m(\u001b[0m\u001b[0;34m\"`method` must be one of {} or OdeSolver class.\"\u001b[0m\u001b[0;34m\u001b[0m\n",
       "\u001b[0;34m\u001b[0m                         \u001b[0;34m.\u001b[0m\u001b[0mformat\u001b[0m\u001b[0;34m(\u001b[0m\u001b[0mMETHODS\u001b[0m\u001b[0;34m)\u001b[0m\u001b[0;34m)\u001b[0m\u001b[0;34m\u001b[0m\n",
       "\u001b[0;34m\u001b[0m\u001b[0;34m\u001b[0m\n",
       "\u001b[0;34m\u001b[0m    \u001b[0mt0\u001b[0m\u001b[0;34m,\u001b[0m \u001b[0mtf\u001b[0m \u001b[0;34m=\u001b[0m \u001b[0mfloat\u001b[0m\u001b[0;34m(\u001b[0m\u001b[0mt_span\u001b[0m\u001b[0;34m[\u001b[0m\u001b[0;36m0\u001b[0m\u001b[0;34m]\u001b[0m\u001b[0;34m)\u001b[0m\u001b[0;34m,\u001b[0m \u001b[0mfloat\u001b[0m\u001b[0;34m(\u001b[0m\u001b[0mt_span\u001b[0m\u001b[0;34m[\u001b[0m\u001b[0;36m1\u001b[0m\u001b[0;34m]\u001b[0m\u001b[0;34m)\u001b[0m\u001b[0;34m\u001b[0m\n",
       "\u001b[0;34m\u001b[0m\u001b[0;34m\u001b[0m\n",
       "\u001b[0;34m\u001b[0m    \u001b[0;32mif\u001b[0m \u001b[0margs\u001b[0m \u001b[0;32mis\u001b[0m \u001b[0;32mnot\u001b[0m \u001b[0;32mNone\u001b[0m\u001b[0;34m:\u001b[0m\u001b[0;34m\u001b[0m\n",
       "\u001b[0;34m\u001b[0m        \u001b[0;31m# Wrap the user's fun (and jac, if given) in lambdas to hide the\u001b[0m\u001b[0;34m\u001b[0m\n",
       "\u001b[0;34m\u001b[0m        \u001b[0;31m# additional parameters.  Pass in the original fun as a keyword\u001b[0m\u001b[0;34m\u001b[0m\n",
       "\u001b[0;34m\u001b[0m        \u001b[0;31m# argument to keep it in the scope of the lambda.\u001b[0m\u001b[0;34m\u001b[0m\n",
       "\u001b[0;34m\u001b[0m        \u001b[0mfun\u001b[0m \u001b[0;34m=\u001b[0m \u001b[0;32mlambda\u001b[0m \u001b[0mt\u001b[0m\u001b[0;34m,\u001b[0m \u001b[0mx\u001b[0m\u001b[0;34m,\u001b[0m \u001b[0mfun\u001b[0m\u001b[0;34m=\u001b[0m\u001b[0mfun\u001b[0m\u001b[0;34m:\u001b[0m \u001b[0mfun\u001b[0m\u001b[0;34m(\u001b[0m\u001b[0mt\u001b[0m\u001b[0;34m,\u001b[0m \u001b[0mx\u001b[0m\u001b[0;34m,\u001b[0m \u001b[0;34m*\u001b[0m\u001b[0margs\u001b[0m\u001b[0;34m)\u001b[0m\u001b[0;34m\u001b[0m\n",
       "\u001b[0;34m\u001b[0m        \u001b[0mjac\u001b[0m \u001b[0;34m=\u001b[0m \u001b[0moptions\u001b[0m\u001b[0;34m.\u001b[0m\u001b[0mget\u001b[0m\u001b[0;34m(\u001b[0m\u001b[0;34m'jac'\u001b[0m\u001b[0;34m)\u001b[0m\u001b[0;34m\u001b[0m\n",
       "\u001b[0;34m\u001b[0m        \u001b[0;32mif\u001b[0m \u001b[0mcallable\u001b[0m\u001b[0;34m(\u001b[0m\u001b[0mjac\u001b[0m\u001b[0;34m)\u001b[0m\u001b[0;34m:\u001b[0m\u001b[0;34m\u001b[0m\n",
       "\u001b[0;34m\u001b[0m            \u001b[0moptions\u001b[0m\u001b[0;34m[\u001b[0m\u001b[0;34m'jac'\u001b[0m\u001b[0;34m]\u001b[0m \u001b[0;34m=\u001b[0m \u001b[0;32mlambda\u001b[0m \u001b[0mt\u001b[0m\u001b[0;34m,\u001b[0m \u001b[0mx\u001b[0m\u001b[0;34m:\u001b[0m \u001b[0mjac\u001b[0m\u001b[0;34m(\u001b[0m\u001b[0mt\u001b[0m\u001b[0;34m,\u001b[0m \u001b[0mx\u001b[0m\u001b[0;34m,\u001b[0m \u001b[0;34m*\u001b[0m\u001b[0margs\u001b[0m\u001b[0;34m)\u001b[0m\u001b[0;34m\u001b[0m\n",
       "\u001b[0;34m\u001b[0m\u001b[0;34m\u001b[0m\n",
       "\u001b[0;34m\u001b[0m    \u001b[0;32mif\u001b[0m \u001b[0mt_eval\u001b[0m \u001b[0;32mis\u001b[0m \u001b[0;32mnot\u001b[0m \u001b[0;32mNone\u001b[0m\u001b[0;34m:\u001b[0m\u001b[0;34m\u001b[0m\n",
       "\u001b[0;34m\u001b[0m        \u001b[0mt_eval\u001b[0m \u001b[0;34m=\u001b[0m \u001b[0mnp\u001b[0m\u001b[0;34m.\u001b[0m\u001b[0masarray\u001b[0m\u001b[0;34m(\u001b[0m\u001b[0mt_eval\u001b[0m\u001b[0;34m)\u001b[0m\u001b[0;34m\u001b[0m\n",
       "\u001b[0;34m\u001b[0m        \u001b[0;32mif\u001b[0m \u001b[0mt_eval\u001b[0m\u001b[0;34m.\u001b[0m\u001b[0mndim\u001b[0m \u001b[0;34m!=\u001b[0m \u001b[0;36m1\u001b[0m\u001b[0;34m:\u001b[0m\u001b[0;34m\u001b[0m\n",
       "\u001b[0;34m\u001b[0m            \u001b[0;32mraise\u001b[0m \u001b[0mValueError\u001b[0m\u001b[0;34m(\u001b[0m\u001b[0;34m\"`t_eval` must be 1-dimensional.\"\u001b[0m\u001b[0;34m)\u001b[0m\u001b[0;34m\u001b[0m\n",
       "\u001b[0;34m\u001b[0m\u001b[0;34m\u001b[0m\n",
       "\u001b[0;34m\u001b[0m        \u001b[0;32mif\u001b[0m \u001b[0mnp\u001b[0m\u001b[0;34m.\u001b[0m\u001b[0many\u001b[0m\u001b[0;34m(\u001b[0m\u001b[0mt_eval\u001b[0m \u001b[0;34m<\u001b[0m \u001b[0mmin\u001b[0m\u001b[0;34m(\u001b[0m\u001b[0mt0\u001b[0m\u001b[0;34m,\u001b[0m \u001b[0mtf\u001b[0m\u001b[0;34m)\u001b[0m\u001b[0;34m)\u001b[0m \u001b[0;32mor\u001b[0m \u001b[0mnp\u001b[0m\u001b[0;34m.\u001b[0m\u001b[0many\u001b[0m\u001b[0;34m(\u001b[0m\u001b[0mt_eval\u001b[0m \u001b[0;34m>\u001b[0m \u001b[0mmax\u001b[0m\u001b[0;34m(\u001b[0m\u001b[0mt0\u001b[0m\u001b[0;34m,\u001b[0m \u001b[0mtf\u001b[0m\u001b[0;34m)\u001b[0m\u001b[0;34m)\u001b[0m\u001b[0;34m:\u001b[0m\u001b[0;34m\u001b[0m\n",
       "\u001b[0;34m\u001b[0m            \u001b[0;32mraise\u001b[0m \u001b[0mValueError\u001b[0m\u001b[0;34m(\u001b[0m\u001b[0;34m\"Values in `t_eval` are not within `t_span`.\"\u001b[0m\u001b[0;34m)\u001b[0m\u001b[0;34m\u001b[0m\n",
       "\u001b[0;34m\u001b[0m\u001b[0;34m\u001b[0m\n",
       "\u001b[0;34m\u001b[0m        \u001b[0md\u001b[0m \u001b[0;34m=\u001b[0m \u001b[0mnp\u001b[0m\u001b[0;34m.\u001b[0m\u001b[0mdiff\u001b[0m\u001b[0;34m(\u001b[0m\u001b[0mt_eval\u001b[0m\u001b[0;34m)\u001b[0m\u001b[0;34m\u001b[0m\n",
       "\u001b[0;34m\u001b[0m        \u001b[0;32mif\u001b[0m \u001b[0mtf\u001b[0m \u001b[0;34m>\u001b[0m \u001b[0mt0\u001b[0m \u001b[0;32mand\u001b[0m \u001b[0mnp\u001b[0m\u001b[0;34m.\u001b[0m\u001b[0many\u001b[0m\u001b[0;34m(\u001b[0m\u001b[0md\u001b[0m \u001b[0;34m<=\u001b[0m \u001b[0;36m0\u001b[0m\u001b[0;34m)\u001b[0m \u001b[0;32mor\u001b[0m \u001b[0mtf\u001b[0m \u001b[0;34m<\u001b[0m \u001b[0mt0\u001b[0m \u001b[0;32mand\u001b[0m \u001b[0mnp\u001b[0m\u001b[0;34m.\u001b[0m\u001b[0many\u001b[0m\u001b[0;34m(\u001b[0m\u001b[0md\u001b[0m \u001b[0;34m>=\u001b[0m \u001b[0;36m0\u001b[0m\u001b[0;34m)\u001b[0m\u001b[0;34m:\u001b[0m\u001b[0;34m\u001b[0m\n",
       "\u001b[0;34m\u001b[0m            \u001b[0;32mraise\u001b[0m \u001b[0mValueError\u001b[0m\u001b[0;34m(\u001b[0m\u001b[0;34m\"Values in `t_eval` are not properly sorted.\"\u001b[0m\u001b[0;34m)\u001b[0m\u001b[0;34m\u001b[0m\n",
       "\u001b[0;34m\u001b[0m\u001b[0;34m\u001b[0m\n",
       "\u001b[0;34m\u001b[0m        \u001b[0;32mif\u001b[0m \u001b[0mtf\u001b[0m \u001b[0;34m>\u001b[0m \u001b[0mt0\u001b[0m\u001b[0;34m:\u001b[0m\u001b[0;34m\u001b[0m\n",
       "\u001b[0;34m\u001b[0m            \u001b[0mt_eval_i\u001b[0m \u001b[0;34m=\u001b[0m \u001b[0;36m0\u001b[0m\u001b[0;34m\u001b[0m\n",
       "\u001b[0;34m\u001b[0m        \u001b[0;32melse\u001b[0m\u001b[0;34m:\u001b[0m\u001b[0;34m\u001b[0m\n",
       "\u001b[0;34m\u001b[0m            \u001b[0;31m# Make order of t_eval decreasing to use np.searchsorted.\u001b[0m\u001b[0;34m\u001b[0m\n",
       "\u001b[0;34m\u001b[0m            \u001b[0mt_eval\u001b[0m \u001b[0;34m=\u001b[0m \u001b[0mt_eval\u001b[0m\u001b[0;34m[\u001b[0m\u001b[0;34m:\u001b[0m\u001b[0;34m:\u001b[0m\u001b[0;34m-\u001b[0m\u001b[0;36m1\u001b[0m\u001b[0;34m]\u001b[0m\u001b[0;34m\u001b[0m\n",
       "\u001b[0;34m\u001b[0m            \u001b[0;31m# This will be an upper bound for slices.\u001b[0m\u001b[0;34m\u001b[0m\n",
       "\u001b[0;34m\u001b[0m            \u001b[0mt_eval_i\u001b[0m \u001b[0;34m=\u001b[0m \u001b[0mt_eval\u001b[0m\u001b[0;34m.\u001b[0m\u001b[0mshape\u001b[0m\u001b[0;34m[\u001b[0m\u001b[0;36m0\u001b[0m\u001b[0;34m]\u001b[0m\u001b[0;34m\u001b[0m\n",
       "\u001b[0;34m\u001b[0m\u001b[0;34m\u001b[0m\n",
       "\u001b[0;34m\u001b[0m    \u001b[0;32mif\u001b[0m \u001b[0mmethod\u001b[0m \u001b[0;32min\u001b[0m \u001b[0mMETHODS\u001b[0m\u001b[0;34m:\u001b[0m\u001b[0;34m\u001b[0m\n",
       "\u001b[0;34m\u001b[0m        \u001b[0mmethod\u001b[0m \u001b[0;34m=\u001b[0m \u001b[0mMETHODS\u001b[0m\u001b[0;34m[\u001b[0m\u001b[0mmethod\u001b[0m\u001b[0;34m]\u001b[0m\u001b[0;34m\u001b[0m\n",
       "\u001b[0;34m\u001b[0m\u001b[0;34m\u001b[0m\n",
       "\u001b[0;34m\u001b[0m    \u001b[0msolver\u001b[0m \u001b[0;34m=\u001b[0m \u001b[0mmethod\u001b[0m\u001b[0;34m(\u001b[0m\u001b[0mfun\u001b[0m\u001b[0;34m,\u001b[0m \u001b[0mt0\u001b[0m\u001b[0;34m,\u001b[0m \u001b[0my0\u001b[0m\u001b[0;34m,\u001b[0m \u001b[0mtf\u001b[0m\u001b[0;34m,\u001b[0m \u001b[0mvectorized\u001b[0m\u001b[0;34m=\u001b[0m\u001b[0mvectorized\u001b[0m\u001b[0;34m,\u001b[0m \u001b[0;34m**\u001b[0m\u001b[0moptions\u001b[0m\u001b[0;34m)\u001b[0m\u001b[0;34m\u001b[0m\n",
       "\u001b[0;34m\u001b[0m\u001b[0;34m\u001b[0m\n",
       "\u001b[0;34m\u001b[0m    \u001b[0;32mif\u001b[0m \u001b[0mt_eval\u001b[0m \u001b[0;32mis\u001b[0m \u001b[0;32mNone\u001b[0m\u001b[0;34m:\u001b[0m\u001b[0;34m\u001b[0m\n",
       "\u001b[0;34m\u001b[0m        \u001b[0mts\u001b[0m \u001b[0;34m=\u001b[0m \u001b[0;34m[\u001b[0m\u001b[0mt0\u001b[0m\u001b[0;34m]\u001b[0m\u001b[0;34m\u001b[0m\n",
       "\u001b[0;34m\u001b[0m        \u001b[0mys\u001b[0m \u001b[0;34m=\u001b[0m \u001b[0;34m[\u001b[0m\u001b[0my0\u001b[0m\u001b[0;34m]\u001b[0m\u001b[0;34m\u001b[0m\n",
       "\u001b[0;34m\u001b[0m    \u001b[0;32melif\u001b[0m \u001b[0mt_eval\u001b[0m \u001b[0;32mis\u001b[0m \u001b[0;32mnot\u001b[0m \u001b[0;32mNone\u001b[0m \u001b[0;32mand\u001b[0m \u001b[0mdense_output\u001b[0m\u001b[0;34m:\u001b[0m\u001b[0;34m\u001b[0m\n",
       "\u001b[0;34m\u001b[0m        \u001b[0mts\u001b[0m \u001b[0;34m=\u001b[0m \u001b[0;34m[\u001b[0m\u001b[0;34m]\u001b[0m\u001b[0;34m\u001b[0m\n",
       "\u001b[0;34m\u001b[0m        \u001b[0mti\u001b[0m \u001b[0;34m=\u001b[0m \u001b[0;34m[\u001b[0m\u001b[0mt0\u001b[0m\u001b[0;34m]\u001b[0m\u001b[0;34m\u001b[0m\n",
       "\u001b[0;34m\u001b[0m        \u001b[0mys\u001b[0m \u001b[0;34m=\u001b[0m \u001b[0;34m[\u001b[0m\u001b[0;34m]\u001b[0m\u001b[0;34m\u001b[0m\n",
       "\u001b[0;34m\u001b[0m    \u001b[0;32melse\u001b[0m\u001b[0;34m:\u001b[0m\u001b[0;34m\u001b[0m\n",
       "\u001b[0;34m\u001b[0m        \u001b[0mts\u001b[0m \u001b[0;34m=\u001b[0m \u001b[0;34m[\u001b[0m\u001b[0;34m]\u001b[0m\u001b[0;34m\u001b[0m\n",
       "\u001b[0;34m\u001b[0m        \u001b[0mys\u001b[0m \u001b[0;34m=\u001b[0m \u001b[0;34m[\u001b[0m\u001b[0;34m]\u001b[0m\u001b[0;34m\u001b[0m\n",
       "\u001b[0;34m\u001b[0m\u001b[0;34m\u001b[0m\n",
       "\u001b[0;34m\u001b[0m    \u001b[0minterpolants\u001b[0m \u001b[0;34m=\u001b[0m \u001b[0;34m[\u001b[0m\u001b[0;34m]\u001b[0m\u001b[0;34m\u001b[0m\n",
       "\u001b[0;34m\u001b[0m\u001b[0;34m\u001b[0m\n",
       "\u001b[0;34m\u001b[0m    \u001b[0mevents\u001b[0m\u001b[0;34m,\u001b[0m \u001b[0mis_terminal\u001b[0m\u001b[0;34m,\u001b[0m \u001b[0mevent_dir\u001b[0m \u001b[0;34m=\u001b[0m \u001b[0mprepare_events\u001b[0m\u001b[0;34m(\u001b[0m\u001b[0mevents\u001b[0m\u001b[0;34m)\u001b[0m\u001b[0;34m\u001b[0m\n",
       "\u001b[0;34m\u001b[0m\u001b[0;34m\u001b[0m\n",
       "\u001b[0;34m\u001b[0m    \u001b[0;32mif\u001b[0m \u001b[0mevents\u001b[0m \u001b[0;32mis\u001b[0m \u001b[0;32mnot\u001b[0m \u001b[0;32mNone\u001b[0m\u001b[0;34m:\u001b[0m\u001b[0;34m\u001b[0m\n",
       "\u001b[0;34m\u001b[0m        \u001b[0;32mif\u001b[0m \u001b[0margs\u001b[0m \u001b[0;32mis\u001b[0m \u001b[0;32mnot\u001b[0m \u001b[0;32mNone\u001b[0m\u001b[0;34m:\u001b[0m\u001b[0;34m\u001b[0m\n",
       "\u001b[0;34m\u001b[0m            \u001b[0;31m# Wrap user functions in lambdas to hide the additional parameters.\u001b[0m\u001b[0;34m\u001b[0m\n",
       "\u001b[0;34m\u001b[0m            \u001b[0;31m# The original event function is passed as a keyword argument to the\u001b[0m\u001b[0;34m\u001b[0m\n",
       "\u001b[0;34m\u001b[0m            \u001b[0;31m# lambda to keep the original function in scope (i.e., avoid the\u001b[0m\u001b[0;34m\u001b[0m\n",
       "\u001b[0;34m\u001b[0m            \u001b[0;31m# late binding closure \"gotcha\").\u001b[0m\u001b[0;34m\u001b[0m\n",
       "\u001b[0;34m\u001b[0m            \u001b[0mevents\u001b[0m \u001b[0;34m=\u001b[0m \u001b[0;34m[\u001b[0m\u001b[0;32mlambda\u001b[0m \u001b[0mt\u001b[0m\u001b[0;34m,\u001b[0m \u001b[0mx\u001b[0m\u001b[0;34m,\u001b[0m \u001b[0mevent\u001b[0m\u001b[0;34m=\u001b[0m\u001b[0mevent\u001b[0m\u001b[0;34m:\u001b[0m \u001b[0mevent\u001b[0m\u001b[0;34m(\u001b[0m\u001b[0mt\u001b[0m\u001b[0;34m,\u001b[0m \u001b[0mx\u001b[0m\u001b[0;34m,\u001b[0m \u001b[0;34m*\u001b[0m\u001b[0margs\u001b[0m\u001b[0;34m)\u001b[0m\u001b[0;34m\u001b[0m\n",
       "\u001b[0;34m\u001b[0m                      \u001b[0;32mfor\u001b[0m \u001b[0mevent\u001b[0m \u001b[0;32min\u001b[0m \u001b[0mevents\u001b[0m\u001b[0;34m]\u001b[0m\u001b[0;34m\u001b[0m\n",
       "\u001b[0;34m\u001b[0m        \u001b[0mg\u001b[0m \u001b[0;34m=\u001b[0m \u001b[0;34m[\u001b[0m\u001b[0mevent\u001b[0m\u001b[0;34m(\u001b[0m\u001b[0mt0\u001b[0m\u001b[0;34m,\u001b[0m \u001b[0my0\u001b[0m\u001b[0;34m)\u001b[0m \u001b[0;32mfor\u001b[0m \u001b[0mevent\u001b[0m \u001b[0;32min\u001b[0m \u001b[0mevents\u001b[0m\u001b[0;34m]\u001b[0m\u001b[0;34m\u001b[0m\n",
       "\u001b[0;34m\u001b[0m        \u001b[0mt_events\u001b[0m \u001b[0;34m=\u001b[0m \u001b[0;34m[\u001b[0m\u001b[0;34m[\u001b[0m\u001b[0;34m]\u001b[0m \u001b[0;32mfor\u001b[0m \u001b[0m_\u001b[0m \u001b[0;32min\u001b[0m \u001b[0mrange\u001b[0m\u001b[0;34m(\u001b[0m\u001b[0mlen\u001b[0m\u001b[0;34m(\u001b[0m\u001b[0mevents\u001b[0m\u001b[0;34m)\u001b[0m\u001b[0;34m)\u001b[0m\u001b[0;34m]\u001b[0m\u001b[0;34m\u001b[0m\n",
       "\u001b[0;34m\u001b[0m        \u001b[0my_events\u001b[0m \u001b[0;34m=\u001b[0m \u001b[0;34m[\u001b[0m\u001b[0;34m[\u001b[0m\u001b[0;34m]\u001b[0m \u001b[0;32mfor\u001b[0m \u001b[0m_\u001b[0m \u001b[0;32min\u001b[0m \u001b[0mrange\u001b[0m\u001b[0;34m(\u001b[0m\u001b[0mlen\u001b[0m\u001b[0;34m(\u001b[0m\u001b[0mevents\u001b[0m\u001b[0;34m)\u001b[0m\u001b[0;34m)\u001b[0m\u001b[0;34m]\u001b[0m\u001b[0;34m\u001b[0m\n",
       "\u001b[0;34m\u001b[0m    \u001b[0;32melse\u001b[0m\u001b[0;34m:\u001b[0m\u001b[0;34m\u001b[0m\n",
       "\u001b[0;34m\u001b[0m        \u001b[0mt_events\u001b[0m \u001b[0;34m=\u001b[0m \u001b[0;32mNone\u001b[0m\u001b[0;34m\u001b[0m\n",
       "\u001b[0;34m\u001b[0m        \u001b[0my_events\u001b[0m \u001b[0;34m=\u001b[0m \u001b[0;32mNone\u001b[0m\u001b[0;34m\u001b[0m\n",
       "\u001b[0;34m\u001b[0m\u001b[0;34m\u001b[0m\n",
       "\u001b[0;34m\u001b[0m    \u001b[0mstatus\u001b[0m \u001b[0;34m=\u001b[0m \u001b[0;32mNone\u001b[0m\u001b[0;34m\u001b[0m\n",
       "\u001b[0;34m\u001b[0m    \u001b[0;32mwhile\u001b[0m \u001b[0mstatus\u001b[0m \u001b[0;32mis\u001b[0m \u001b[0;32mNone\u001b[0m\u001b[0;34m:\u001b[0m\u001b[0;34m\u001b[0m\n",
       "\u001b[0;34m\u001b[0m        \u001b[0mmessage\u001b[0m \u001b[0;34m=\u001b[0m \u001b[0msolver\u001b[0m\u001b[0;34m.\u001b[0m\u001b[0mstep\u001b[0m\u001b[0;34m(\u001b[0m\u001b[0;34m)\u001b[0m\u001b[0;34m\u001b[0m\n",
       "\u001b[0;34m\u001b[0m\u001b[0;34m\u001b[0m\n",
       "\u001b[0;34m\u001b[0m        \u001b[0;32mif\u001b[0m \u001b[0msolver\u001b[0m\u001b[0;34m.\u001b[0m\u001b[0mstatus\u001b[0m \u001b[0;34m==\u001b[0m \u001b[0;34m'finished'\u001b[0m\u001b[0;34m:\u001b[0m\u001b[0;34m\u001b[0m\n",
       "\u001b[0;34m\u001b[0m            \u001b[0mstatus\u001b[0m \u001b[0;34m=\u001b[0m \u001b[0;36m0\u001b[0m\u001b[0;34m\u001b[0m\n",
       "\u001b[0;34m\u001b[0m        \u001b[0;32melif\u001b[0m \u001b[0msolver\u001b[0m\u001b[0;34m.\u001b[0m\u001b[0mstatus\u001b[0m \u001b[0;34m==\u001b[0m \u001b[0;34m'failed'\u001b[0m\u001b[0;34m:\u001b[0m\u001b[0;34m\u001b[0m\n",
       "\u001b[0;34m\u001b[0m            \u001b[0mstatus\u001b[0m \u001b[0;34m=\u001b[0m \u001b[0;34m-\u001b[0m\u001b[0;36m1\u001b[0m\u001b[0;34m\u001b[0m\n",
       "\u001b[0;34m\u001b[0m            \u001b[0;32mbreak\u001b[0m\u001b[0;34m\u001b[0m\n",
       "\u001b[0;34m\u001b[0m\u001b[0;34m\u001b[0m\n",
       "\u001b[0;34m\u001b[0m        \u001b[0mt_old\u001b[0m \u001b[0;34m=\u001b[0m \u001b[0msolver\u001b[0m\u001b[0;34m.\u001b[0m\u001b[0mt_old\u001b[0m\u001b[0;34m\u001b[0m\n",
       "\u001b[0;34m\u001b[0m        \u001b[0mt\u001b[0m \u001b[0;34m=\u001b[0m \u001b[0msolver\u001b[0m\u001b[0;34m.\u001b[0m\u001b[0mt\u001b[0m\u001b[0;34m\u001b[0m\n",
       "\u001b[0;34m\u001b[0m        \u001b[0my\u001b[0m \u001b[0;34m=\u001b[0m \u001b[0msolver\u001b[0m\u001b[0;34m.\u001b[0m\u001b[0my\u001b[0m\u001b[0;34m\u001b[0m\n",
       "\u001b[0;34m\u001b[0m\u001b[0;34m\u001b[0m\n",
       "\u001b[0;34m\u001b[0m        \u001b[0;32mif\u001b[0m \u001b[0mdense_output\u001b[0m\u001b[0;34m:\u001b[0m\u001b[0;34m\u001b[0m\n",
       "\u001b[0;34m\u001b[0m            \u001b[0msol\u001b[0m \u001b[0;34m=\u001b[0m \u001b[0msolver\u001b[0m\u001b[0;34m.\u001b[0m\u001b[0mdense_output\u001b[0m\u001b[0;34m(\u001b[0m\u001b[0;34m)\u001b[0m\u001b[0;34m\u001b[0m\n",
       "\u001b[0;34m\u001b[0m            \u001b[0minterpolants\u001b[0m\u001b[0;34m.\u001b[0m\u001b[0mappend\u001b[0m\u001b[0;34m(\u001b[0m\u001b[0msol\u001b[0m\u001b[0;34m)\u001b[0m\u001b[0;34m\u001b[0m\n",
       "\u001b[0;34m\u001b[0m        \u001b[0;32melse\u001b[0m\u001b[0;34m:\u001b[0m\u001b[0;34m\u001b[0m\n",
       "\u001b[0;34m\u001b[0m            \u001b[0msol\u001b[0m \u001b[0;34m=\u001b[0m \u001b[0;32mNone\u001b[0m\u001b[0;34m\u001b[0m\n",
       "\u001b[0;34m\u001b[0m\u001b[0;34m\u001b[0m\n",
       "\u001b[0;34m\u001b[0m        \u001b[0;32mif\u001b[0m \u001b[0mevents\u001b[0m \u001b[0;32mis\u001b[0m \u001b[0;32mnot\u001b[0m \u001b[0;32mNone\u001b[0m\u001b[0;34m:\u001b[0m\u001b[0;34m\u001b[0m\n",
       "\u001b[0;34m\u001b[0m            \u001b[0mg_new\u001b[0m \u001b[0;34m=\u001b[0m \u001b[0;34m[\u001b[0m\u001b[0mevent\u001b[0m\u001b[0;34m(\u001b[0m\u001b[0mt\u001b[0m\u001b[0;34m,\u001b[0m \u001b[0my\u001b[0m\u001b[0;34m)\u001b[0m \u001b[0;32mfor\u001b[0m \u001b[0mevent\u001b[0m \u001b[0;32min\u001b[0m \u001b[0mevents\u001b[0m\u001b[0;34m]\u001b[0m\u001b[0;34m\u001b[0m\n",
       "\u001b[0;34m\u001b[0m            \u001b[0mactive_events\u001b[0m \u001b[0;34m=\u001b[0m \u001b[0mfind_active_events\u001b[0m\u001b[0;34m(\u001b[0m\u001b[0mg\u001b[0m\u001b[0;34m,\u001b[0m \u001b[0mg_new\u001b[0m\u001b[0;34m,\u001b[0m \u001b[0mevent_dir\u001b[0m\u001b[0;34m)\u001b[0m\u001b[0;34m\u001b[0m\n",
       "\u001b[0;34m\u001b[0m            \u001b[0;32mif\u001b[0m \u001b[0mactive_events\u001b[0m\u001b[0;34m.\u001b[0m\u001b[0msize\u001b[0m \u001b[0;34m>\u001b[0m \u001b[0;36m0\u001b[0m\u001b[0;34m:\u001b[0m\u001b[0;34m\u001b[0m\n",
       "\u001b[0;34m\u001b[0m                \u001b[0;32mif\u001b[0m \u001b[0msol\u001b[0m \u001b[0;32mis\u001b[0m \u001b[0;32mNone\u001b[0m\u001b[0;34m:\u001b[0m\u001b[0;34m\u001b[0m\n",
       "\u001b[0;34m\u001b[0m                    \u001b[0msol\u001b[0m \u001b[0;34m=\u001b[0m \u001b[0msolver\u001b[0m\u001b[0;34m.\u001b[0m\u001b[0mdense_output\u001b[0m\u001b[0;34m(\u001b[0m\u001b[0;34m)\u001b[0m\u001b[0;34m\u001b[0m\n",
       "\u001b[0;34m\u001b[0m\u001b[0;34m\u001b[0m\n",
       "\u001b[0;34m\u001b[0m                \u001b[0mroot_indices\u001b[0m\u001b[0;34m,\u001b[0m \u001b[0mroots\u001b[0m\u001b[0;34m,\u001b[0m \u001b[0mterminate\u001b[0m \u001b[0;34m=\u001b[0m \u001b[0mhandle_events\u001b[0m\u001b[0;34m(\u001b[0m\u001b[0;34m\u001b[0m\n",
       "\u001b[0;34m\u001b[0m                    \u001b[0msol\u001b[0m\u001b[0;34m,\u001b[0m \u001b[0mevents\u001b[0m\u001b[0;34m,\u001b[0m \u001b[0mactive_events\u001b[0m\u001b[0;34m,\u001b[0m \u001b[0mis_terminal\u001b[0m\u001b[0;34m,\u001b[0m \u001b[0mt_old\u001b[0m\u001b[0;34m,\u001b[0m \u001b[0mt\u001b[0m\u001b[0;34m)\u001b[0m\u001b[0;34m\u001b[0m\n",
       "\u001b[0;34m\u001b[0m\u001b[0;34m\u001b[0m\n",
       "\u001b[0;34m\u001b[0m                \u001b[0;32mfor\u001b[0m \u001b[0me\u001b[0m\u001b[0;34m,\u001b[0m \u001b[0mte\u001b[0m \u001b[0;32min\u001b[0m \u001b[0mzip\u001b[0m\u001b[0;34m(\u001b[0m\u001b[0mroot_indices\u001b[0m\u001b[0;34m,\u001b[0m \u001b[0mroots\u001b[0m\u001b[0;34m)\u001b[0m\u001b[0;34m:\u001b[0m\u001b[0;34m\u001b[0m\n",
       "\u001b[0;34m\u001b[0m                    \u001b[0mt_events\u001b[0m\u001b[0;34m[\u001b[0m\u001b[0me\u001b[0m\u001b[0;34m]\u001b[0m\u001b[0;34m.\u001b[0m\u001b[0mappend\u001b[0m\u001b[0;34m(\u001b[0m\u001b[0mte\u001b[0m\u001b[0;34m)\u001b[0m\u001b[0;34m\u001b[0m\n",
       "\u001b[0;34m\u001b[0m                    \u001b[0my_events\u001b[0m\u001b[0;34m[\u001b[0m\u001b[0me\u001b[0m\u001b[0;34m]\u001b[0m\u001b[0;34m.\u001b[0m\u001b[0mappend\u001b[0m\u001b[0;34m(\u001b[0m\u001b[0msol\u001b[0m\u001b[0;34m(\u001b[0m\u001b[0mte\u001b[0m\u001b[0;34m)\u001b[0m\u001b[0;34m)\u001b[0m\u001b[0;34m\u001b[0m\n",
       "\u001b[0;34m\u001b[0m\u001b[0;34m\u001b[0m\n",
       "\u001b[0;34m\u001b[0m                \u001b[0;32mif\u001b[0m \u001b[0mterminate\u001b[0m\u001b[0;34m:\u001b[0m\u001b[0;34m\u001b[0m\n",
       "\u001b[0;34m\u001b[0m                    \u001b[0mstatus\u001b[0m \u001b[0;34m=\u001b[0m \u001b[0;36m1\u001b[0m\u001b[0;34m\u001b[0m\n",
       "\u001b[0;34m\u001b[0m                    \u001b[0mt\u001b[0m \u001b[0;34m=\u001b[0m \u001b[0mroots\u001b[0m\u001b[0;34m[\u001b[0m\u001b[0;34m-\u001b[0m\u001b[0;36m1\u001b[0m\u001b[0;34m]\u001b[0m\u001b[0;34m\u001b[0m\n",
       "\u001b[0;34m\u001b[0m                    \u001b[0my\u001b[0m \u001b[0;34m=\u001b[0m \u001b[0msol\u001b[0m\u001b[0;34m(\u001b[0m\u001b[0mt\u001b[0m\u001b[0;34m)\u001b[0m\u001b[0;34m\u001b[0m\n",
       "\u001b[0;34m\u001b[0m\u001b[0;34m\u001b[0m\n",
       "\u001b[0;34m\u001b[0m            \u001b[0mg\u001b[0m \u001b[0;34m=\u001b[0m \u001b[0mg_new\u001b[0m\u001b[0;34m\u001b[0m\n",
       "\u001b[0;34m\u001b[0m\u001b[0;34m\u001b[0m\n",
       "\u001b[0;34m\u001b[0m        \u001b[0;32mif\u001b[0m \u001b[0mt_eval\u001b[0m \u001b[0;32mis\u001b[0m \u001b[0;32mNone\u001b[0m\u001b[0;34m:\u001b[0m\u001b[0;34m\u001b[0m\n",
       "\u001b[0;34m\u001b[0m            \u001b[0mts\u001b[0m\u001b[0;34m.\u001b[0m\u001b[0mappend\u001b[0m\u001b[0;34m(\u001b[0m\u001b[0mt\u001b[0m\u001b[0;34m)\u001b[0m\u001b[0;34m\u001b[0m\n",
       "\u001b[0;34m\u001b[0m            \u001b[0mys\u001b[0m\u001b[0;34m.\u001b[0m\u001b[0mappend\u001b[0m\u001b[0;34m(\u001b[0m\u001b[0my\u001b[0m\u001b[0;34m)\u001b[0m\u001b[0;34m\u001b[0m\n",
       "\u001b[0;34m\u001b[0m        \u001b[0;32melse\u001b[0m\u001b[0;34m:\u001b[0m\u001b[0;34m\u001b[0m\n",
       "\u001b[0;34m\u001b[0m            \u001b[0;31m# The value in t_eval equal to t will be included.\u001b[0m\u001b[0;34m\u001b[0m\n",
       "\u001b[0;34m\u001b[0m            \u001b[0;32mif\u001b[0m \u001b[0msolver\u001b[0m\u001b[0;34m.\u001b[0m\u001b[0mdirection\u001b[0m \u001b[0;34m>\u001b[0m \u001b[0;36m0\u001b[0m\u001b[0;34m:\u001b[0m\u001b[0;34m\u001b[0m\n",
       "\u001b[0;34m\u001b[0m                \u001b[0mt_eval_i_new\u001b[0m \u001b[0;34m=\u001b[0m \u001b[0mnp\u001b[0m\u001b[0;34m.\u001b[0m\u001b[0msearchsorted\u001b[0m\u001b[0;34m(\u001b[0m\u001b[0mt_eval\u001b[0m\u001b[0;34m,\u001b[0m \u001b[0mt\u001b[0m\u001b[0;34m,\u001b[0m \u001b[0mside\u001b[0m\u001b[0;34m=\u001b[0m\u001b[0;34m'right'\u001b[0m\u001b[0;34m)\u001b[0m\u001b[0;34m\u001b[0m\n",
       "\u001b[0;34m\u001b[0m                \u001b[0mt_eval_step\u001b[0m \u001b[0;34m=\u001b[0m \u001b[0mt_eval\u001b[0m\u001b[0;34m[\u001b[0m\u001b[0mt_eval_i\u001b[0m\u001b[0;34m:\u001b[0m\u001b[0mt_eval_i_new\u001b[0m\u001b[0;34m]\u001b[0m\u001b[0;34m\u001b[0m\n",
       "\u001b[0;34m\u001b[0m            \u001b[0;32melse\u001b[0m\u001b[0;34m:\u001b[0m\u001b[0;34m\u001b[0m\n",
       "\u001b[0;34m\u001b[0m                \u001b[0mt_eval_i_new\u001b[0m \u001b[0;34m=\u001b[0m \u001b[0mnp\u001b[0m\u001b[0;34m.\u001b[0m\u001b[0msearchsorted\u001b[0m\u001b[0;34m(\u001b[0m\u001b[0mt_eval\u001b[0m\u001b[0;34m,\u001b[0m \u001b[0mt\u001b[0m\u001b[0;34m,\u001b[0m \u001b[0mside\u001b[0m\u001b[0;34m=\u001b[0m\u001b[0;34m'left'\u001b[0m\u001b[0;34m)\u001b[0m\u001b[0;34m\u001b[0m\n",
       "\u001b[0;34m\u001b[0m                \u001b[0;31m# It has to be done with two slice operations, because\u001b[0m\u001b[0;34m\u001b[0m\n",
       "\u001b[0;34m\u001b[0m                \u001b[0;31m# you can't slice to 0th element inclusive using backward\u001b[0m\u001b[0;34m\u001b[0m\n",
       "\u001b[0;34m\u001b[0m                \u001b[0;31m# slicing.\u001b[0m\u001b[0;34m\u001b[0m\n",
       "\u001b[0;34m\u001b[0m                \u001b[0mt_eval_step\u001b[0m \u001b[0;34m=\u001b[0m \u001b[0mt_eval\u001b[0m\u001b[0;34m[\u001b[0m\u001b[0mt_eval_i_new\u001b[0m\u001b[0;34m:\u001b[0m\u001b[0mt_eval_i\u001b[0m\u001b[0;34m]\u001b[0m\u001b[0;34m[\u001b[0m\u001b[0;34m:\u001b[0m\u001b[0;34m:\u001b[0m\u001b[0;34m-\u001b[0m\u001b[0;36m1\u001b[0m\u001b[0;34m]\u001b[0m\u001b[0;34m\u001b[0m\n",
       "\u001b[0;34m\u001b[0m\u001b[0;34m\u001b[0m\n",
       "\u001b[0;34m\u001b[0m            \u001b[0;32mif\u001b[0m \u001b[0mt_eval_step\u001b[0m\u001b[0;34m.\u001b[0m\u001b[0msize\u001b[0m \u001b[0;34m>\u001b[0m \u001b[0;36m0\u001b[0m\u001b[0;34m:\u001b[0m\u001b[0;34m\u001b[0m\n",
       "\u001b[0;34m\u001b[0m                \u001b[0;32mif\u001b[0m \u001b[0msol\u001b[0m \u001b[0;32mis\u001b[0m \u001b[0;32mNone\u001b[0m\u001b[0;34m:\u001b[0m\u001b[0;34m\u001b[0m\n",
       "\u001b[0;34m\u001b[0m                    \u001b[0msol\u001b[0m \u001b[0;34m=\u001b[0m \u001b[0msolver\u001b[0m\u001b[0;34m.\u001b[0m\u001b[0mdense_output\u001b[0m\u001b[0;34m(\u001b[0m\u001b[0;34m)\u001b[0m\u001b[0;34m\u001b[0m\n",
       "\u001b[0;34m\u001b[0m                \u001b[0mts\u001b[0m\u001b[0;34m.\u001b[0m\u001b[0mappend\u001b[0m\u001b[0;34m(\u001b[0m\u001b[0mt_eval_step\u001b[0m\u001b[0;34m)\u001b[0m\u001b[0;34m\u001b[0m\n",
       "\u001b[0;34m\u001b[0m                \u001b[0mys\u001b[0m\u001b[0;34m.\u001b[0m\u001b[0mappend\u001b[0m\u001b[0;34m(\u001b[0m\u001b[0msol\u001b[0m\u001b[0;34m(\u001b[0m\u001b[0mt_eval_step\u001b[0m\u001b[0;34m)\u001b[0m\u001b[0;34m)\u001b[0m\u001b[0;34m\u001b[0m\n",
       "\u001b[0;34m\u001b[0m                \u001b[0mt_eval_i\u001b[0m \u001b[0;34m=\u001b[0m \u001b[0mt_eval_i_new\u001b[0m\u001b[0;34m\u001b[0m\n",
       "\u001b[0;34m\u001b[0m\u001b[0;34m\u001b[0m\n",
       "\u001b[0;34m\u001b[0m        \u001b[0;32mif\u001b[0m \u001b[0mt_eval\u001b[0m \u001b[0;32mis\u001b[0m \u001b[0;32mnot\u001b[0m \u001b[0;32mNone\u001b[0m \u001b[0;32mand\u001b[0m \u001b[0mdense_output\u001b[0m\u001b[0;34m:\u001b[0m\u001b[0;34m\u001b[0m\n",
       "\u001b[0;34m\u001b[0m            \u001b[0mti\u001b[0m\u001b[0;34m.\u001b[0m\u001b[0mappend\u001b[0m\u001b[0;34m(\u001b[0m\u001b[0mt\u001b[0m\u001b[0;34m)\u001b[0m\u001b[0;34m\u001b[0m\n",
       "\u001b[0;34m\u001b[0m\u001b[0;34m\u001b[0m\n",
       "\u001b[0;34m\u001b[0m    \u001b[0mmessage\u001b[0m \u001b[0;34m=\u001b[0m \u001b[0mMESSAGES\u001b[0m\u001b[0;34m.\u001b[0m\u001b[0mget\u001b[0m\u001b[0;34m(\u001b[0m\u001b[0mstatus\u001b[0m\u001b[0;34m,\u001b[0m \u001b[0mmessage\u001b[0m\u001b[0;34m)\u001b[0m\u001b[0;34m\u001b[0m\n",
       "\u001b[0;34m\u001b[0m\u001b[0;34m\u001b[0m\n",
       "\u001b[0;34m\u001b[0m    \u001b[0;32mif\u001b[0m \u001b[0mt_events\u001b[0m \u001b[0;32mis\u001b[0m \u001b[0;32mnot\u001b[0m \u001b[0;32mNone\u001b[0m\u001b[0;34m:\u001b[0m\u001b[0;34m\u001b[0m\n",
       "\u001b[0;34m\u001b[0m        \u001b[0mt_events\u001b[0m \u001b[0;34m=\u001b[0m \u001b[0;34m[\u001b[0m\u001b[0mnp\u001b[0m\u001b[0;34m.\u001b[0m\u001b[0masarray\u001b[0m\u001b[0;34m(\u001b[0m\u001b[0mte\u001b[0m\u001b[0;34m)\u001b[0m \u001b[0;32mfor\u001b[0m \u001b[0mte\u001b[0m \u001b[0;32min\u001b[0m \u001b[0mt_events\u001b[0m\u001b[0;34m]\u001b[0m\u001b[0;34m\u001b[0m\n",
       "\u001b[0;34m\u001b[0m        \u001b[0my_events\u001b[0m \u001b[0;34m=\u001b[0m \u001b[0;34m[\u001b[0m\u001b[0mnp\u001b[0m\u001b[0;34m.\u001b[0m\u001b[0masarray\u001b[0m\u001b[0;34m(\u001b[0m\u001b[0mye\u001b[0m\u001b[0;34m)\u001b[0m \u001b[0;32mfor\u001b[0m \u001b[0mye\u001b[0m \u001b[0;32min\u001b[0m \u001b[0my_events\u001b[0m\u001b[0;34m]\u001b[0m\u001b[0;34m\u001b[0m\n",
       "\u001b[0;34m\u001b[0m\u001b[0;34m\u001b[0m\n",
       "\u001b[0;34m\u001b[0m    \u001b[0;32mif\u001b[0m \u001b[0mt_eval\u001b[0m \u001b[0;32mis\u001b[0m \u001b[0;32mNone\u001b[0m\u001b[0;34m:\u001b[0m\u001b[0;34m\u001b[0m\n",
       "\u001b[0;34m\u001b[0m        \u001b[0mts\u001b[0m \u001b[0;34m=\u001b[0m \u001b[0mnp\u001b[0m\u001b[0;34m.\u001b[0m\u001b[0marray\u001b[0m\u001b[0;34m(\u001b[0m\u001b[0mts\u001b[0m\u001b[0;34m)\u001b[0m\u001b[0;34m\u001b[0m\n",
       "\u001b[0;34m\u001b[0m        \u001b[0mys\u001b[0m \u001b[0;34m=\u001b[0m \u001b[0mnp\u001b[0m\u001b[0;34m.\u001b[0m\u001b[0mvstack\u001b[0m\u001b[0;34m(\u001b[0m\u001b[0mys\u001b[0m\u001b[0;34m)\u001b[0m\u001b[0;34m.\u001b[0m\u001b[0mT\u001b[0m\u001b[0;34m\u001b[0m\n",
       "\u001b[0;34m\u001b[0m    \u001b[0;32melse\u001b[0m\u001b[0;34m:\u001b[0m\u001b[0;34m\u001b[0m\n",
       "\u001b[0;34m\u001b[0m        \u001b[0mts\u001b[0m \u001b[0;34m=\u001b[0m \u001b[0mnp\u001b[0m\u001b[0;34m.\u001b[0m\u001b[0mhstack\u001b[0m\u001b[0;34m(\u001b[0m\u001b[0mts\u001b[0m\u001b[0;34m)\u001b[0m\u001b[0;34m\u001b[0m\n",
       "\u001b[0;34m\u001b[0m        \u001b[0mys\u001b[0m \u001b[0;34m=\u001b[0m \u001b[0mnp\u001b[0m\u001b[0;34m.\u001b[0m\u001b[0mhstack\u001b[0m\u001b[0;34m(\u001b[0m\u001b[0mys\u001b[0m\u001b[0;34m)\u001b[0m\u001b[0;34m\u001b[0m\n",
       "\u001b[0;34m\u001b[0m\u001b[0;34m\u001b[0m\n",
       "\u001b[0;34m\u001b[0m    \u001b[0;32mif\u001b[0m \u001b[0mdense_output\u001b[0m\u001b[0;34m:\u001b[0m\u001b[0;34m\u001b[0m\n",
       "\u001b[0;34m\u001b[0m        \u001b[0;32mif\u001b[0m \u001b[0mt_eval\u001b[0m \u001b[0;32mis\u001b[0m \u001b[0;32mNone\u001b[0m\u001b[0;34m:\u001b[0m\u001b[0;34m\u001b[0m\n",
       "\u001b[0;34m\u001b[0m            \u001b[0msol\u001b[0m \u001b[0;34m=\u001b[0m \u001b[0mOdeSolution\u001b[0m\u001b[0;34m(\u001b[0m\u001b[0mts\u001b[0m\u001b[0;34m,\u001b[0m \u001b[0minterpolants\u001b[0m\u001b[0;34m)\u001b[0m\u001b[0;34m\u001b[0m\n",
       "\u001b[0;34m\u001b[0m        \u001b[0;32melse\u001b[0m\u001b[0;34m:\u001b[0m\u001b[0;34m\u001b[0m\n",
       "\u001b[0;34m\u001b[0m            \u001b[0msol\u001b[0m \u001b[0;34m=\u001b[0m \u001b[0mOdeSolution\u001b[0m\u001b[0;34m(\u001b[0m\u001b[0mti\u001b[0m\u001b[0;34m,\u001b[0m \u001b[0minterpolants\u001b[0m\u001b[0;34m)\u001b[0m\u001b[0;34m\u001b[0m\n",
       "\u001b[0;34m\u001b[0m    \u001b[0;32melse\u001b[0m\u001b[0;34m:\u001b[0m\u001b[0;34m\u001b[0m\n",
       "\u001b[0;34m\u001b[0m        \u001b[0msol\u001b[0m \u001b[0;34m=\u001b[0m \u001b[0;32mNone\u001b[0m\u001b[0;34m\u001b[0m\n",
       "\u001b[0;34m\u001b[0m\u001b[0;34m\u001b[0m\n",
       "\u001b[0;34m\u001b[0m    \u001b[0;32mreturn\u001b[0m \u001b[0mOdeResult\u001b[0m\u001b[0;34m(\u001b[0m\u001b[0mt\u001b[0m\u001b[0;34m=\u001b[0m\u001b[0mts\u001b[0m\u001b[0;34m,\u001b[0m \u001b[0my\u001b[0m\u001b[0;34m=\u001b[0m\u001b[0mys\u001b[0m\u001b[0;34m,\u001b[0m \u001b[0msol\u001b[0m\u001b[0;34m=\u001b[0m\u001b[0msol\u001b[0m\u001b[0;34m,\u001b[0m \u001b[0mt_events\u001b[0m\u001b[0;34m=\u001b[0m\u001b[0mt_events\u001b[0m\u001b[0;34m,\u001b[0m \u001b[0my_events\u001b[0m\u001b[0;34m=\u001b[0m\u001b[0my_events\u001b[0m\u001b[0;34m,\u001b[0m\u001b[0;34m\u001b[0m\n",
       "\u001b[0;34m\u001b[0m                     \u001b[0mnfev\u001b[0m\u001b[0;34m=\u001b[0m\u001b[0msolver\u001b[0m\u001b[0;34m.\u001b[0m\u001b[0mnfev\u001b[0m\u001b[0;34m,\u001b[0m \u001b[0mnjev\u001b[0m\u001b[0;34m=\u001b[0m\u001b[0msolver\u001b[0m\u001b[0;34m.\u001b[0m\u001b[0mnjev\u001b[0m\u001b[0;34m,\u001b[0m \u001b[0mnlu\u001b[0m\u001b[0;34m=\u001b[0m\u001b[0msolver\u001b[0m\u001b[0;34m.\u001b[0m\u001b[0mnlu\u001b[0m\u001b[0;34m,\u001b[0m\u001b[0;34m\u001b[0m\n",
       "\u001b[0;34m\u001b[0m                     \u001b[0mstatus\u001b[0m\u001b[0;34m=\u001b[0m\u001b[0mstatus\u001b[0m\u001b[0;34m,\u001b[0m \u001b[0mmessage\u001b[0m\u001b[0;34m=\u001b[0m\u001b[0mmessage\u001b[0m\u001b[0;34m,\u001b[0m \u001b[0msuccess\u001b[0m\u001b[0;34m=\u001b[0m\u001b[0mstatus\u001b[0m \u001b[0;34m>=\u001b[0m \u001b[0;36m0\u001b[0m\u001b[0;34m)\u001b[0m\u001b[0;34m\u001b[0m\u001b[0;34m\u001b[0m\u001b[0m\n",
       "\u001b[0;31mFile:\u001b[0m      /anaconda3/lib/python3.8/site-packages/scipy/integrate/_ivp/ivp.py\n",
       "\u001b[0;31mType:\u001b[0m      function\n"
      ]
     },
     "metadata": {},
     "output_type": "display_data"
    }
   ],
   "source": [
    "from scipy.integrate import solve_ivp\n",
    "solve_ivp??"
   ]
  },
  {
   "cell_type": "markdown",
   "metadata": {},
   "source": [
    "### Pathline tracing"
   ]
  },
  {
   "cell_type": "markdown",
   "metadata": {},
   "source": [
    "Pathlines are computed through numerical integration of the velocity vector. Pathlines are computed with the `timtrace` function. The `timtrace` function takes as input arguments the starting locations of the pathline (`xstart`, `ystart`, `zstart`), a list with the starting time and end time of the pathline (`tstartend`), a time offset (`tstartoffset`), and a maximum time step (`tstep`). The pathline starts at the starting time plus the time offset (`tstartoffset`). When the starting time is at the time of a change in boundary condition (e.g., a well starts pumping), the time offset can not be smaller than `tmin`. The `timtrace` function has several keyword arguments to affect the numerical integration procedure. The `hstepmax` keyword is used here, which is the maximum horizontal step (in the length units consistently used throughout the model). \n",
    "\n",
    "The `timtrace` function returns a dictionary with three three entries:\n",
    "\n",
    "- `'xyzt'` : 2D array with four columns: x, y, z, t along pathline\n",
    "- `'message'` : list with text messages of each section of the pathline\n",
    "- `'status'` : numerical indication of the result. Negative is likely undesirable.\n",
    "    \n",
    "The status can be one of the following:\n",
    "- -2 : reached maximum number of steps before reaching maximum time\n",
    "- -1 : starting z value not inside aquifer\n",
    "- +1 : reached maximum time\n",
    "- +2 : reached element   \n",
    "\n",
    "The `message` is automatically printed to the screen unless the keyword `silent` is set to `True`. "
   ]
  },
  {
   "cell_type": "markdown",
   "metadata": {},
   "source": [
    "### Example 1\n",
    "Consider a well that starts pumping at $t=0$ in a confined aquifer. The well is located at the origin of the coordinate system."
   ]
  },
  {
   "cell_type": "code",
   "execution_count": 2,
   "metadata": {},
   "outputs": [],
   "source": [
    "# parameters\n",
    "Q = 100 # discharge of well, m^3/d\n",
    "k = 10 # hydraulic conductivity, m/d\n",
    "H = 10 # thickness of aquifer, m\n",
    "Ss = 1e-4 # specific storage, m^(-1)\n",
    "npor = 0.3 # porosity, -\n",
    "xw = 0 # x-location of well\n",
    "yw = 0 # y-location of well\n",
    "rw = 0.3 # radius of well"
   ]
  },
  {
   "cell_type": "code",
   "execution_count": 3,
   "metadata": {},
   "outputs": [
    {
     "name": "stdout",
     "output_type": "stream",
     "text": [
      "self.neq  1\n",
      "solution complete\n"
     ]
    }
   ],
   "source": [
    "ml = tt.ModelMaq(kaq=[k], z=[H, 0], Saq=[Ss], tmin=0.001, tmax=1000, M=10)\n",
    "w = tt.Well(ml, xw=0, yw=0, tsandQ=[(0, Q)], rw=rw)\n",
    "ml.solve()"
   ]
  },
  {
   "cell_type": "markdown",
   "metadata": {},
   "source": [
    "A pathline is started at $(x,y,z)=(10, 10, 5)$ and followed for 10 days. "
   ]
  },
  {
   "cell_type": "code",
   "execution_count": 34,
   "metadata": {},
   "outputs": [
    {
     "name": "stdout",
     "output_type": "stream",
     "text": [
      "reached maximum time tmax\n"
     ]
    }
   ],
   "source": [
    "trace = tt.timtrace(ml, xstart=10, ystart=10, zstart=0.5 * H, tstartend=[0, 10], \n",
    "                    tstartoffset=0.001, tstep=1, hstepmax=2)"
   ]
  },
  {
   "cell_type": "markdown",
   "metadata": {},
   "source": [
    "The output of the `timtrace` function is stored in the `trace` dictionary. The entries of the dictionary are printed below. Note that the pathline starts at $t=0.001$ d, which is the specified `tstartoffset`, that steps are taken with a length of 1 day, and that the pathline is terminated when the maximum time of 10 days is reached. "
   ]
  },
  {
   "cell_type": "code",
   "execution_count": 5,
   "metadata": {},
   "outputs": [
    {
     "name": "stdout",
     "output_type": "stream",
     "text": [
      "xyzt array of pathline:\n",
      "[[1.00000000e+01 1.00000000e+01 5.00000000e+00 0.00000000e+00]\n",
      " [1.00000000e+01 1.00000000e+01 5.00000000e+00 1.00000000e-03]\n",
      " [9.78472212e+00 9.78472212e+00 5.00000000e+00 1.00100000e+00]\n",
      " [9.50986380e+00 9.50986380e+00 5.00000000e+00 2.00100000e+00]\n",
      " [9.22677289e+00 9.22677289e+00 5.00000000e+00 3.00100000e+00]\n",
      " [8.93469839e+00 8.93469839e+00 5.00000000e+00 4.00100000e+00]\n",
      " [8.63273762e+00 8.63273762e+00 5.00000000e+00 5.00100000e+00]\n",
      " [8.31981832e+00 8.31981832e+00 5.00000000e+00 6.00100000e+00]\n",
      " [7.99465612e+00 7.99465612e+00 5.00000000e+00 7.00100000e+00]\n",
      " [7.65569276e+00 7.65569276e+00 5.00000000e+00 8.00100000e+00]\n",
      " [7.30100747e+00 7.30100747e+00 5.00000000e+00 9.00100000e+00]\n",
      " [6.93806421e+00 6.93806421e+00 5.00000000e+00 1.00000000e+01]]\n",
      "trace message: ['reached maximum time tmax']\n",
      "trace status: [1]\n"
     ]
    }
   ],
   "source": [
    "print('xyzt array of pathline:')\n",
    "print(trace['xyzt'])\n",
    "print('trace message:', trace['message'])\n",
    "print('trace status:', trace['status'])"
   ]
  },
  {
   "cell_type": "markdown",
   "metadata": {},
   "source": [
    "When the pathline is computed for a max of 20 days (i.e., the last entry in `tstartend` equals 20), the well is reached before $t=20$ d is reached"
   ]
  },
  {
   "cell_type": "code",
   "execution_count": 16,
   "metadata": {},
   "outputs": [
    {
     "name": "stdout",
     "output_type": "stream",
     "text": [
      "reached element of type well: Well at (0.0, 0.0)\n"
     ]
    }
   ],
   "source": [
    "trace = tt.timtrace(ml, xstart=10, ystart=10, zstart=0.5 * H, tstartend=[0, 20], \n",
    "                    tstartoffset=0.001, tstep=1, hstepmax=2)"
   ]
  },
  {
   "cell_type": "code",
   "execution_count": 17,
   "metadata": {},
   "outputs": [
    {
     "name": "stdout",
     "output_type": "stream",
     "text": [
      "last two entries in xyzt:\n",
      "[[ 0.94871432  0.94871432  5.         18.8683065 ]\n",
      " [ 0.          0.          5.         19.20762075]]\n"
     ]
    }
   ],
   "source": [
    "print('last two entries in xyzt:')\n",
    "print(trace['xyzt'][-2:])"
   ]
  },
  {
   "cell_type": "markdown",
   "metadata": {},
   "source": [
    "When the horizontal stepsize is larger than the specified `hstepmax` value, the timestep is reduced. For example, specifying `hstepmax=0.5` and following the pathline for 4 days gives"
   ]
  },
  {
   "cell_type": "code",
   "execution_count": 31,
   "metadata": {},
   "outputs": [
    {
     "name": "stdout",
     "output_type": "stream",
     "text": [
      "reached maximum time tmax\n"
     ]
    }
   ],
   "source": [
    "trace = tt.timtrace(ml, xstart=10, ystart=10, zstart=0.5 * H, tstartend=[0, 1], \n",
    "                    tstartoffset=0.001, tstep=1, hstepmax=0.1)"
   ]
  },
  {
   "cell_type": "code",
   "execution_count": 29,
   "metadata": {},
   "outputs": [
    {
     "name": "stdout",
     "output_type": "stream",
     "text": [
      "xyzt:\n",
      "[[1.00000000e+01 1.00000000e+01 5.00000000e+00 0.00000000e+00]\n",
      " [1.00000000e+01 1.00000000e+01 5.00000000e+00 1.00000000e-03]\n",
      " [9.92928932e+00 9.92928932e+00 5.00000000e+00 3.31474847e-01]\n",
      " [9.85857864e+00 9.85857864e+00 5.00000000e+00 5.95520257e-01]\n",
      " [9.78786797e+00 9.78786797e+00 5.00000000e+00 8.57557196e-01]\n",
      " [9.74928649e+00 9.74928649e+00 5.00000000e+00 1.00000000e+00]]\n",
      "length of first step: 0.10\n"
     ]
    }
   ],
   "source": [
    "xyzt = trace['xyzt']\n",
    "print('xyzt:')\n",
    "print(trace['xyzt'])\n",
    "x0, y0, z0, t0 = xyzt[1]\n",
    "x1, y1, z1, t1 = xyzt[2]\n",
    "print(f'length of first step: {np.sqrt((x1 - x0) ** 2 + (y1 - y0) ** 2):.2f}')"
   ]
  },
  {
   "cell_type": "markdown",
   "metadata": {},
   "source": [
    "The other keyword arguments are `nstepmax=100`, `silent=False`, and `correctionstep=True`. The `nstepmax` is the maximum number of steps. Numerical integration stops when the maximum number of steps is reached and the returned `status` is `-2`. For most practical cases, this is an undesirable result and the maximum number of steps should be increased. Setting `silent=True` prevents the message from being printed to the screen, which may be useful when a lot of pathlines are computed, for example in a loop. When the `correctionstep` is set to `True` (default), the numerical integration scheme is a predictor-correcter scheme. When `correctionstep` is set to `False`, the integration scheme is forward integration through time, which is less accurate but quicker. "
   ]
  },
  {
   "cell_type": "markdown",
   "metadata": {},
   "source": [
    "### Example 2\n",
    "Consider a well in a confined aquifer. The well starts pumping with discharge $Q$ at time $t=0$ and starts injection with discharge $Q$ at time $t=10$ d. The well is located at the origin of the coordinate system."
   ]
  },
  {
   "cell_type": "code",
   "execution_count": 39,
   "metadata": {},
   "outputs": [
    {
     "name": "stdout",
     "output_type": "stream",
     "text": [
      "self.neq  1\n",
      "solution complete\n"
     ]
    }
   ],
   "source": [
    "ml = tt.ModelMaq(kaq=[k], z=[H, 0], Saq=[Ss], tmin=0.001, tmax=1000, M=10)\n",
    "w = tt.Well(ml, xw=0, yw=0, tsandQ=[(0, Q), (10, -Q)], rw=rw)\n",
    "ml.solve()"
   ]
  },
  {
   "cell_type": "markdown",
   "metadata": {},
   "source": [
    "A pathline is started at $(x,y,z)=(10, 10, 5)$ and followed for 20 days. The `tstartend` list is now `[0, 10, 20]` and `tstartoffset=0.001`. This means that the pathline consists of two sections. The first section starts at $t=0.001$ d and is followed up till $t=10$ d. The second section starts  at $t=10.001$ d (from the endpoint at $t=10$ d of the first section) and is followed up till $t=20$ d. The `nstepmax` keyword is the maximum number of steps for each section of the pathline. There are two messages printed to the screen, one for each section. "
   ]
  },
  {
   "cell_type": "code",
   "execution_count": 47,
   "metadata": {},
   "outputs": [
    {
     "name": "stdout",
     "output_type": "stream",
     "text": [
      "reached maximum time tmax\n",
      "reached maximum time tmax\n"
     ]
    }
   ],
   "source": [
    "trace = tt.timtrace(ml, xstart=10, ystart=10, zstart=0.5 * H, tstartend=[0, 10, 20], \n",
    "                    tstartoffset=0.001, tstep=1, hstepmax=2)"
   ]
  },
  {
   "cell_type": "markdown",
   "metadata": {},
   "source": [
    "The $x,y,z,t$ array is printed below. Note that the first section ends at $t=10$ d. \n",
    "After 20 d, the pathline ends at (almost) the same location as it started. The small discrepancy is caused by numerical error of the integration scheme and by the increase in storage that is neglected."
   ]
  },
  {
   "cell_type": "code",
   "execution_count": 50,
   "metadata": {},
   "outputs": [
    {
     "name": "stdout",
     "output_type": "stream",
     "text": [
      "xyzt:\n",
      "[[1.00000000e+01 1.00000000e+01 5.00000000e+00 0.00000000e+00]\n",
      " [1.00000000e+01 1.00000000e+01 5.00000000e+00 1.00000000e-03]\n",
      " [9.78472212e+00 9.78472212e+00 5.00000000e+00 1.00100000e+00]\n",
      " [9.50986380e+00 9.50986380e+00 5.00000000e+00 2.00100000e+00]\n",
      " [9.22677289e+00 9.22677289e+00 5.00000000e+00 3.00100000e+00]\n",
      " [8.93469839e+00 8.93469839e+00 5.00000000e+00 4.00100000e+00]\n",
      " [8.63273762e+00 8.63273762e+00 5.00000000e+00 5.00100000e+00]\n",
      " [8.31981832e+00 8.31981832e+00 5.00000000e+00 6.00100000e+00]\n",
      " [7.99465612e+00 7.99465612e+00 5.00000000e+00 7.00100000e+00]\n",
      " [7.65569276e+00 7.65569276e+00 5.00000000e+00 8.00100000e+00]\n",
      " [7.30100747e+00 7.30100747e+00 5.00000000e+00 9.00100000e+00]\n",
      " [6.93806421e+00 6.93806421e+00 5.00000000e+00 1.00000000e+01]\n",
      " [6.93806421e+00 6.93806421e+00 5.00000000e+00 1.00010000e+01]\n",
      " [7.23288902e+00 7.23288902e+00 5.00000000e+00 1.10010000e+01]\n",
      " [7.59064546e+00 7.59064546e+00 5.00000000e+00 1.20010000e+01]\n",
      " [7.93233482e+00 7.93233482e+00 5.00000000e+00 1.30010000e+01]\n",
      " [8.25991940e+00 8.25991940e+00 5.00000000e+00 1.40010000e+01]\n",
      " [8.57500768e+00 8.57500768e+00 5.00000000e+00 1.50010000e+01]\n",
      " [8.87892681e+00 8.87892681e+00 5.00000000e+00 1.60010000e+01]\n",
      " [9.17278541e+00 9.17278541e+00 5.00000000e+00 1.70010000e+01]\n",
      " [9.45752040e+00 9.45752040e+00 5.00000000e+00 1.80010000e+01]\n",
      " [9.73393184e+00 9.73393184e+00 5.00000000e+00 1.90010000e+01]\n",
      " [1.00061463e+01 1.00061463e+01 5.00000000e+00 2.00000000e+01]]\n"
     ]
    }
   ],
   "source": [
    "xyzt = trace['xyzt']\n",
    "print('xyzt:')\n",
    "print(trace['xyzt'])"
   ]
  },
  {
   "cell_type": "markdown",
   "metadata": {},
   "source": [
    "### Example 3\n",
    "Consider an injection well in a semi-confined aquifer. The well starts injecting with discharge $Q$ at time $t=0$ and starts injection with discharge $Q$ at time $t=10$ d. The well is located at the origin of the coordinate system. "
   ]
  },
  {
   "cell_type": "code",
   "execution_count": 2,
   "metadata": {},
   "outputs": [],
   "source": [
    "# parameters\n",
    "k = 20 # hydraulic conductivity aquifer, m/d\n",
    "H = 10 # thickness of aquifers, m\n",
    "Hstar = 2 # thickness of leaky layer, m\n",
    "c = 100 # resistance of leaky layer, d\n",
    "Ss = 1e-4 # specific storage of both aquifers, m^(-1)\n",
    "npor = 0.3 # porosity of both aquifers, -\n",
    "Q = 1000 # discharge of well in aquifer 1, m^3/d\n",
    "xw = 0 # x-location of well\n",
    "yw = 0 # y-location of well\n",
    "rw = 0.3 # radius of well"
   ]
  },
  {
   "cell_type": "code",
   "execution_count": 3,
   "metadata": {},
   "outputs": [
    {
     "name": "stdout",
     "output_type": "stream",
     "text": [
      "self.neq  1\n",
      "solution complete\n"
     ]
    }
   ],
   "source": [
    "ml = tt.ModelMaq(kaq=[k], z=[H + Hstar, H, 0], c=[c], Saq=Ss, \n",
    "                 topboundary='semi', tmin=0.001, tmax=1000, M=10)\n",
    "w = tt.Well(ml, xw=0, yw=0, tsandQ=[(0, -Q)], layers=0, rw=0.3)\n",
    "ml.solve()"
   ]
  },
  {
   "cell_type": "markdown",
   "metadata": {},
   "source": [
    "Nine pathlines are started at the well screen at different elevations in the aquifer and followed for a max of 1000 days. Five of the nine pathlines end at the top of the semi-confining layer within the 1000 days (the five pathlines that start at the highest elevations)."
   ]
  },
  {
   "cell_type": "code",
   "execution_count": 10,
   "metadata": {},
   "outputs": [
    {
     "data": {
      "image/png": "[encoded data removed]",
      "text/plain": [
       "<Figure size 432x288 with 1 Axes>"
      ]
     },
     "metadata": {
      "needs_background": "light"
     },
     "output_type": "display_data"
    }
   ],
   "source": [
    "plt.subplot(111, aspect=10)\n",
    "zstart = np.arange(1.0, 10, 1)\n",
    "for zs in zstart:\n",
    "    trace = tt.timtrace(ml, xstart=rw, ystart=0, zstart=zs, \n",
    "                        tstartend=[0, 1000], tstartoffset=0.01, tstep=100, \n",
    "                        nstepmax=100, hstepmax=2, silent=True)\n",
    "    xyzt = trace['xyzt']\n",
    "    plt.plot(xyzt[:, 0], xyzt[:, 2])\n",
    "for y in [0, H, H + Hstar]:\n",
    "    plt.axhline(y, color='k')"
   ]
  },
  {
   "cell_type": "code",
   "execution_count": 15,
   "metadata": {},
   "outputs": [
    {
     "data": {
      "text/plain": [
       "(1, 1)"
      ]
     },
     "execution_count": 15,
     "metadata": {},
     "output_type": "execute_result"
    }
   ],
   "source": [
    "ml.head(5, 5, 5, layers=0).shape"
   ]
  },
  {
   "cell_type": "code",
   "execution_count": 128,
   "metadata": {},
   "outputs": [
    {
     "data": {
      "text/plain": [
       "[<matplotlib.lines.Line2D at 0x122f46a60>]"
      ]
     },
     "execution_count": 128,
     "metadata": {},
     "output_type": "execute_result"
    },
    {
     "data": {
      "image/png": "[encoded data removed]",
      "text/plain": [
       "<Figure size 432x288 with 1 Axes>"
      ]
     },
     "metadata": {
      "needs_background": "light"
     },
     "output_type": "display_data"
    }
   ],
   "source": [
    "x = np.linspace(rw, 200, 100)\n",
    "h = ml.headalongline(x, 0, 0.1)\n",
    "plt.plot(x, h[0, 0])\n",
    "h = ml.headalongline(x, 0, 1)\n",
    "plt.plot(x, h[0, 0])"
   ]
  },
  {
   "cell_type": "code",
   "execution_count": 123,
   "metadata": {},
   "outputs": [
    {
     "data": {
      "text/plain": [
       "[<matplotlib.lines.Line2D at 0x123c46220>]"
      ]
     },
     "execution_count": 123,
     "metadata": {},
     "output_type": "execute_result"
    },
    {
     "data": {
      "image/png": "[encoded data removed]",
      "text/plain": [
       "<Figure size 432x288 with 1 Axes>"
      ]
     },
     "metadata": {
      "needs_background": "light"
     },
     "output_type": "display_data"
    }
   ],
   "source": [
    "t = np.logspace(-3, 2, 100)\n",
    "h = w.headinside(t)\n",
    "plt.semilogx(t, h[0])"
   ]
  },
  {
   "cell_type": "code",
   "execution_count": 116,
   "metadata": {},
   "outputs": [
    {
     "data": {
      "text/plain": [
       "141.4213562373095"
      ]
     },
     "execution_count": 116,
     "metadata": {},
     "output_type": "execute_result"
    }
   ],
   "source": [
    "np.sqrt(k * H * c)"
   ]
  },
  {
   "cell_type": "code",
   "execution_count": 104,
   "metadata": {},
   "outputs": [],
   "source": [
    "# parameters\n",
    "k0 = 20 # hydraulic conductivity aquifer 0, m/d\n",
    "k1 = 40 # hydraulic conductivity aquifer 1, m/d\n",
    "H = 10 # thickness of both aquifers, m\n",
    "Hstar = 2 # thickness of leaky layer, m\n",
    "c = 100 # resistance of leaky layer, d\n",
    "Ss = 1e-4 # specific storage of both aquifers, m^(-1)\n",
    "npor = 0.3 # porosity of both aquifers, -\n",
    "Q = 100 # discharge of well in aquifer 1, m^3/d\n",
    "xw = 0 # x-location of well\n",
    "yw = 0 # y-location of well\n",
    "rw = 0.3 # radius of well"
   ]
  },
  {
   "cell_type": "code",
   "execution_count": 105,
   "metadata": {},
   "outputs": [
    {
     "name": "stdout",
     "output_type": "stream",
     "text": [
      "self.neq  1\n",
      "solution complete\n"
     ]
    }
   ],
   "source": [
    "ml = tt.ModelMaq(kaq=[k0, k1], z=[H + Hstar + H, H + Hstar, H, 0], c=[c], Saq=[Ss, Ss], \n",
    "                 tmin=0.01, tmax=10000, M=10)\n",
    "w = tt.Well(ml, xw=0, yw=0, tsandQ=[(0, Q)], layers=1, rw=0.3)\n",
    "ml.solve()"
   ]
  },
  {
   "cell_type": "code",
   "execution_count": 108,
   "metadata": {},
   "outputs": [
    {
     "data": {
      "image/png": "[encoded data removed]",
      "text/plain": [
       "<Figure size 432x288 with 1 Axes>"
      ]
     },
     "metadata": {
      "needs_background": "light"
     },
     "output_type": "display_data"
    }
   ],
   "source": [
    "zstart = np.hstack((np.arange(1, 10, 2), np.arange(13, 22, 2)))\n",
    "for zs in zstart:\n",
    "    trace = tt.timtrace(ml, xstart=100, ystart=0, zstart=zs, \n",
    "                        tstartend=[0, 10000], tstartoffset=0.01, tstep=100, \n",
    "                        nstepmax=100, hstepmax=2, silent=True)\n",
    "    xyzt = trace['xyzt']\n",
    "    plt.plot(xyzt[:, 0], xyzt[:, 2])\n",
    "for y in [0, H, H + Hstar, H + Hstar + H]:\n",
    "    plt.axhline(y, color='k')\n",
    "plt.axis('scaled');"
   ]
  },
  {
   "cell_type": "code",
   "execution_count": 110,
   "metadata": {},
   "outputs": [
    {
     "data": {
      "text/plain": [
       "array([[1.00000000e+02, 0.00000000e+00, 1.00000000e+00, 0.00000000e+00],\n",
       "       [1.00000000e+02, 0.00000000e+00, 1.00000000e+00, 1.00000000e-02],\n",
       "       [9.80000000e+01, 0.00000000e+00, 9.97471846e-01, 5.32099582e+01],\n",
       "       [9.60000000e+01, 0.00000000e+00, 9.94584121e-01, 9.42742075e+01],\n",
       "       [9.40000000e+01, 0.00000000e+00, 9.91698424e-01, 1.34373621e+02],\n",
       "       [9.20000000e+01, 0.00000000e+00, 9.88815329e-01, 1.73514044e+02],\n",
       "       [9.00000000e+01, 0.00000000e+00, 9.85935620e-01, 2.11700770e+02],\n",
       "       [8.80000000e+01, 0.00000000e+00, 9.83060151e-01, 2.48938970e+02],\n",
       "       [8.60000000e+01, 0.00000000e+00, 9.80189832e-01, 2.85233771e+02],\n",
       "       [8.40000000e+01, 0.00000000e+00, 9.77325613e-01, 3.20590297e+02],\n",
       "       [8.20000000e+01, 0.00000000e+00, 9.74468487e-01, 3.55013678e+02],\n",
       "       [8.00000000e+01, 0.00000000e+00, 9.71619485e-01, 3.88509052e+02],\n",
       "       [7.80000000e+01, 0.00000000e+00, 9.68779680e-01, 4.21081569e+02],\n",
       "       [7.60000000e+01, 0.00000000e+00, 9.65950189e-01, 4.52736388e+02],\n",
       "       [7.40000000e+01, 0.00000000e+00, 9.63132175e-01, 4.83478676e+02],\n",
       "       [7.20000000e+01, 0.00000000e+00, 9.60326845e-01, 5.13313607e+02],\n",
       "       [7.00000000e+01, 0.00000000e+00, 9.57535460e-01, 5.42246361e+02],\n",
       "       [6.80000000e+01, 0.00000000e+00, 9.54759334e-01, 5.70282119e+02],\n",
       "       [6.60000000e+01, 0.00000000e+00, 9.51999837e-01, 5.97426062e+02],\n",
       "       [6.40000000e+01, 0.00000000e+00, 9.49258399e-01, 6.23683367e+02],\n",
       "       [6.20000000e+01, 0.00000000e+00, 9.46536518e-01, 6.49059206e+02],\n",
       "       [6.00000000e+01, 0.00000000e+00, 9.43835760e-01, 6.73558741e+02],\n",
       "       [5.80000000e+01, 0.00000000e+00, 9.41157765e-01, 6.97187121e+02],\n",
       "       [5.60000000e+01, 0.00000000e+00, 9.38504256e-01, 7.19949476e+02],\n",
       "       [5.40000000e+01, 0.00000000e+00, 9.35877042e-01, 7.41850918e+02],\n",
       "       [5.20000000e+01, 0.00000000e+00, 9.33278027e-01, 7.62896533e+02],\n",
       "       [5.00000000e+01, 0.00000000e+00, 9.30709220e-01, 7.83091378e+02],\n",
       "       [4.80000000e+01, 0.00000000e+00, 9.28172738e-01, 8.02440476e+02],\n",
       "       [4.60000000e+01, 0.00000000e+00, 9.25670825e-01, 8.20948811e+02],\n",
       "       [4.40000000e+01, 0.00000000e+00, 9.23205858e-01, 8.38621321e+02],\n",
       "       [4.20000000e+01, 0.00000000e+00, 9.20780362e-01, 8.55462896e+02],\n",
       "       [4.00000000e+01, 0.00000000e+00, 9.18397028e-01, 8.71478367e+02],\n",
       "       [3.80000000e+01, 0.00000000e+00, 9.16058728e-01, 8.86672503e+02],\n",
       "       [3.60000000e+01, 0.00000000e+00, 9.13768539e-01, 9.01050000e+02],\n",
       "       [3.40000000e+01, 0.00000000e+00, 9.11529764e-01, 9.14615475e+02],\n",
       "       [3.20000000e+01, 0.00000000e+00, 9.09345967e-01, 9.27373454e+02],\n",
       "       [3.00000000e+01, 0.00000000e+00, 9.07221003e-01, 9.39328366e+02],\n",
       "       [2.80000000e+01, 0.00000000e+00, 9.05159062e-01, 9.50484522e+02],\n",
       "       [2.60000000e+01, 0.00000000e+00, 9.03164719e-01, 9.60846111e+02],\n",
       "       [2.40000000e+01, 0.00000000e+00, 9.01243000e-01, 9.70417173e+02],\n",
       "       [2.20000000e+01, 0.00000000e+00, 8.99399458e-01, 9.79201582e+02],\n",
       "       [2.00000000e+01, 0.00000000e+00, 8.97640272e-01, 9.87203018e+02],\n",
       "       [1.80000000e+01, 0.00000000e+00, 8.95972386e-01, 9.94424927e+02],\n",
       "       [1.60000000e+01, 0.00000000e+00, 8.94403718e-01, 1.00087048e+03],\n",
       "       [1.40000000e+01, 0.00000000e+00, 8.92943317e-01, 1.00654246e+03],\n",
       "       [1.20000000e+01, 0.00000000e+00, 8.91601731e-01, 1.01144317e+03],\n",
       "       [1.00000000e+01, 0.00000000e+00, 8.90391622e-01, 1.01557417e+03],\n",
       "       [8.00000001e+00, 0.00000000e+00, 8.89328625e-01, 1.01893583e+03],\n",
       "       [6.00000001e+00, 0.00000000e+00, 8.88433035e-01, 1.02152620e+03],\n",
       "       [4.00000001e+00, 0.00000000e+00, 8.87733671e-01, 1.02333778e+03],\n",
       "       [2.00000001e+00, 0.00000000e+00, 8.87280790e-01, 1.02434351e+03],\n",
       "       [1.00000079e-08, 0.00000000e+00, 8.86372147e-01, 1.02585182e+03],\n",
       "       [0.00000000e+00, 0.00000000e+00, 8.86360044e-01, 1.02586878e+03]])"
      ]
     },
     "execution_count": 110,
     "metadata": {},
     "output_type": "execute_result"
    }
   ],
   "source": [
    "trace = tt.timtrace(ml, xstart=100, ystart=0, zstart=1, \n",
    "                        tstartend=[0, 10000], tstartoffset=0.01, tstep=100, \n",
    "                        nstepmax=100, hstepmax=2, silent=True)\n",
    "trace['xyzt']"
   ]
  },
  {
   "cell_type": "code",
   "execution_count": 57,
   "metadata": {},
   "outputs": [],
   "source": [
    "k0 = 10\n",
    "k1 = 40\n",
    "H = 10\n",
    "Hstar = 2\n",
    "c = 100\n",
    "T = k * H\n",
    "Ss = 1e-4\n",
    "S = Ss * H"
   ]
  },
  {
   "cell_type": "code",
   "execution_count": 60,
   "metadata": {},
   "outputs": [
    {
     "data": {
      "image/png": "[encoded data removed]",
      "text/plain": [
       "<Figure size 432x288 with 1 Axes>"
      ]
     },
     "metadata": {
      "needs_background": "light"
     },
     "output_type": "display_data"
    }
   ],
   "source": [
    "zstart = np.linspace(10.5, 14.5, 10)\n",
    "for zs in zstart:\n",
    "    trace = tt.timtrace(ml, xstart=0.1, ystart=.1, zstart=zs, \n",
    "                     tstartend=[0, 100], tstartoffset=0.01, tstep=5, \n",
    "                     nstepmax=40, hstepmax=2, silent=True)\n",
    "    xyzt = trace['xyzt']\n",
    "    plt.plot(xyzt[:, 0], xyzt[:, 2])\n",
    "for y in [5, 10, 15]:\n",
    "    plt.axhline(y, color='k')\n",
    "plt.axis('scaled');"
   ]
  },
  {
   "cell_type": "code",
   "execution_count": 5,
   "metadata": {},
   "outputs": [
    {
     "data": {
      "text/plain": [
       "1.44"
      ]
     },
     "execution_count": 5,
     "metadata": {},
     "output_type": "execute_result"
    }
   ],
   "source": [
    "ml = ModelMaq(kaq=[k], z=[H, 0], Saq=[Ss], tmin=0.01, tmax=1000, M=10)\n",
    "w = Well(ml, xw=0, yw=0, tsandQ=[(0, -Q), (100, Q), (200, -Q)], rw=0.3)\n",
    "ml.solve()\n",
    "trace = timtrace(ml, xstart=0.3, ystart=0, zstart=0, \n",
    "                 tstartend=[0, 100, 200, 400], tstartoffset=0.01, deltlist=10, \n",
    "                 nstepmax=120, hstepmax=2, correctionstep=True)\n",
    "xyzt = trace['trace']"
   ]
  },
  {
   "cell_type": "code",
   "execution_count": 3,
   "metadata": {},
   "outputs": [
    {
     "data": {
      "text/plain": [
       "\u001b[0;31mSignature:\u001b[0m\n",
       "\u001b[0mtimtrace\u001b[0m\u001b[0;34m(\u001b[0m\u001b[0;34m\u001b[0m\n",
       "\u001b[0;34m\u001b[0m    \u001b[0mml\u001b[0m\u001b[0;34m,\u001b[0m\u001b[0;34m\u001b[0m\n",
       "\u001b[0;34m\u001b[0m    \u001b[0mxstart\u001b[0m\u001b[0;34m,\u001b[0m\u001b[0;34m\u001b[0m\n",
       "\u001b[0;34m\u001b[0m    \u001b[0mystart\u001b[0m\u001b[0;34m,\u001b[0m\u001b[0;34m\u001b[0m\n",
       "\u001b[0;34m\u001b[0m    \u001b[0mzstart\u001b[0m\u001b[0;34m,\u001b[0m\u001b[0;34m\u001b[0m\n",
       "\u001b[0;34m\u001b[0m    \u001b[0mtstartend\u001b[0m\u001b[0;34m,\u001b[0m\u001b[0;34m\u001b[0m\n",
       "\u001b[0;34m\u001b[0m    \u001b[0mtstartoffset\u001b[0m\u001b[0;34m,\u001b[0m\u001b[0;34m\u001b[0m\n",
       "\u001b[0;34m\u001b[0m    \u001b[0mdeltlist\u001b[0m\u001b[0;34m,\u001b[0m\u001b[0;34m\u001b[0m\n",
       "\u001b[0;34m\u001b[0m    \u001b[0mnstepmax\u001b[0m\u001b[0;34m=\u001b[0m\u001b[0;36m100\u001b[0m\u001b[0;34m,\u001b[0m\u001b[0;34m\u001b[0m\n",
       "\u001b[0;34m\u001b[0m    \u001b[0mhstepmax\u001b[0m\u001b[0;34m=\u001b[0m\u001b[0;36m10\u001b[0m\u001b[0;34m,\u001b[0m\u001b[0;34m\u001b[0m\n",
       "\u001b[0;34m\u001b[0m    \u001b[0msilent\u001b[0m\u001b[0;34m=\u001b[0m\u001b[0;32mFalse\u001b[0m\u001b[0;34m,\u001b[0m\u001b[0;34m\u001b[0m\n",
       "\u001b[0;34m\u001b[0m    \u001b[0mcorrectionstep\u001b[0m\u001b[0;34m=\u001b[0m\u001b[0;32mTrue\u001b[0m\u001b[0;34m,\u001b[0m\u001b[0;34m\u001b[0m\n",
       "\u001b[0;34m\u001b[0m\u001b[0;34m)\u001b[0m\u001b[0;34m\u001b[0m\u001b[0;34m\u001b[0m\u001b[0m\n",
       "\u001b[0;31mDocstring:\u001b[0m\n",
       "Compute a pathline by numerical integration of the velocity vector.\n",
       "Pathline is broken up in sections for which starting times are provided. \n",
       "Pathline is computed from first starting time + offset until second\n",
       "starting time, then continued from second starting time + offset until \n",
       "third starting time, etc. \n",
       "\n",
       "Parameters\n",
       "----------\n",
       "model : Model object\n",
       "    model\n",
       "xstart : float\n",
       "    x-coordinate of starting location of pathline\n",
       "ystart : float\n",
       "    y-coordinate of starting location of pathline\n",
       "zstart : float\n",
       "    z-coordinate of starting location of pathline\n",
       "tstartend : list\n",
       "    list of starting times of pathline. last entry is the ending time.\n",
       "tstartoffset : float\n",
       "    time after starting time when pathline is started. this value can not\n",
       "    be smaller than tmin.\n",
       "deltlist : scalar or list\n",
       "    maximum time step for each step along pathline. either one value for\n",
       "    all sections, or list with value for each section.\n",
       "nstepmax : integer\n",
       "    maximu number of steps per section\n",
       "hstepmax : float or integer\n",
       "    maximum length of horizontal step\n",
       "silent : boolean\n",
       "    parameter to indicate if message should be printed to the screen for\n",
       "    each section of the pathline\n",
       "correctionstep : boolean\n",
       "    parameter to indicate if a correction step (Euler's method) should\n",
       "    be taken. Taking a correction step is more accurate, especially for \n",
       "    curved pathlines.\n",
       "\n",
       "    \n",
       "Returns\n",
       "--------\n",
       "result : dictionary with three entries\n",
       "\n",
       "    * xyzt : 2D array with four columns: x, y, z, t along pathline\n",
       "    * message : list with text messages of each section of the pathline\n",
       "    * status : numerical indication of the result. Negative is likely\n",
       "    undesirable.\n",
       "    \n",
       "        * -2 : reached maximum number of steps before reaching maximum time\n",
       "        * -1 : starting z value not inside aquifer\n",
       "        * +1 : reached maximum time\n",
       "        * +2 : reached element   \n",
       "\u001b[0;31mFile:\u001b[0m      ~/git/ttim/ttim/trace.py\n",
       "\u001b[0;31mType:\u001b[0m      function\n"
      ]
     },
     "metadata": {},
     "output_type": "display_data"
    }
   ],
   "source": []
  },
  {
   "cell_type": "code",
   "execution_count": null,
   "metadata": {},
   "outputs": [],
   "source": []
  },
  {
   "cell_type": "markdown",
   "metadata": {},
   "source": [
    "Pathlines are computed through numerical integration of the velocity vector.\n",
    "Pathline is broken up in sections for which starting times are provided. \n",
    "Pathline is computed from first starting time + offset until second\n",
    "starting time, then continued from second starting time + offset until \n",
    "third starting time, etc."
   ]
  },
  {
   "cell_type": "code",
   "execution_count": 1,
   "metadata": {},
   "outputs": [],
   "source": [
    "import numpy as np\n",
    "import matplotlib.pyplot as plt\n",
    "from ttim import *"
   ]
  },
  {
   "cell_type": "markdown",
   "metadata": {},
   "source": [
    "Start well with `tsandQ=[(0, -Q), (100, Q), (200, -Q)]`"
   ]
  },
  {
   "cell_type": "code",
   "execution_count": 2,
   "metadata": {},
   "outputs": [
    {
     "name": "stdout",
     "output_type": "stream",
     "text": [
      "self.neq  1\n",
      "solution complete\n",
      "reached maximum time tmax\n",
      "reached maximum time tmax\n",
      "reached maximum time tmax\n"
     ]
    }
   ],
   "source": [
    "Q = 100\n",
    "npor = 0.3\n",
    "k = 10\n",
    "H = 10\n",
    "T = k * H\n",
    "Ss = 1e-4\n",
    "S = Ss * H\n",
    "ml = ModelMaq(kaq=[k], z=[H, 0], Saq=[Ss], tmin=0.01, tmax=1000, M=10)\n",
    "w = Well(ml, xw=0, yw=0, tsandQ=[(0, -Q), (100, Q), (200, -Q)], rw=0.3)\n",
    "ml.solve()\n",
    "trace = timtrace(ml, xstart=0.3, ystart=0, zstart=0, \n",
    "                 tstartend=[0, 100, 200, 400], tstartoffset=0.01, deltlist=10, \n",
    "                 nstepmax=120, hstepmax=2, correctionstep=True)\n",
    "xyzt = trace['trace']"
   ]
  },
  {
   "cell_type": "code",
   "execution_count": 3,
   "metadata": {},
   "outputs": [
    {
     "data": {
      "image/png": "[encoded data removed]",
      "text/plain": [
       "<Figure size 432x288 with 1 Axes>"
      ]
     },
     "metadata": {
      "needs_background": "light"
     },
     "output_type": "display_data"
    }
   ],
   "source": [
    "plt.plot(xyzt[:, 3], xyzt[:, 0])\n",
    "plt.grid()"
   ]
  },
  {
   "cell_type": "code",
   "execution_count": 4,
   "metadata": {},
   "outputs": [
    {
     "data": {
      "text/plain": [
       "([1, 1, 1],\n",
       " ['reached maximum time tmax',\n",
       "  'reached maximum time tmax',\n",
       "  'reached maximum time tmax'])"
      ]
     },
     "execution_count": 4,
     "metadata": {},
     "output_type": "execute_result"
    }
   ],
   "source": [
    "trace['status'], trace['message']"
   ]
  },
  {
   "cell_type": "markdown",
   "metadata": {},
   "source": [
    "#### Terminates at well"
   ]
  },
  {
   "cell_type": "code",
   "execution_count": 5,
   "metadata": {},
   "outputs": [
    {
     "name": "stdout",
     "output_type": "stream",
     "text": [
      "self.neq  1\n",
      "solution complete\n",
      "reached maximum time tmax\n",
      "reached well element with label: testwell\n",
      "[1, 2] ['reached maximum time tmax', 'reached well element with label: testwell']\n",
      "[[  3.8943918    0.           0.         201.42194579]\n",
      " [  1.8943918    0.           0.         202.38286201]\n",
      " [  0.           0.           0.         203.05932345]]\n"
     ]
    }
   ],
   "source": [
    "ml = ModelMaq(kaq=[k], z=[H, 0], Saq=[Ss], tmin=0.01, tmax=1000, M=10)\n",
    "w = Well(ml, xw=0, yw=0, tsandQ=[(0, -Q), (100, Q)], rw=0.3, label='testwell')\n",
    "ml.solve()\n",
    "trace = timtrace(ml, xstart=0.3, ystart=0, zstart=0, \n",
    "                 tstartend=[0, 100, 300], tstartoffset=0.01, deltlist=10, \n",
    "                 nstepmax=120, hstepmax=2, correctionstep=True)\n",
    "xyzt = trace['trace']\n",
    "print(trace['status'], trace['message'])\n",
    "print(xyzt[-3:])"
   ]
  },
  {
   "cell_type": "markdown",
   "metadata": {},
   "source": [
    "#### Compare to numerical integration of velocity from Theis equation\n",
    "\\begin{equation}\n",
    "Q_r = -T\\frac{\\partial h}{\\partial r} = -T\\frac{\\text{d} h}{\\text{d} u}\\frac{\\partial u}{\\partial r} = -\\frac{Q}{2\\pi} \\frac{1}{r}\\exp(-u)\n",
    "\\end{equation}\n",
    "\\begin{equation}\n",
    "u =  \\frac{S r^2}{4T(t-t_0)}\n",
    "\\end{equation}"
   ]
  },
  {
   "cell_type": "code",
   "execution_count": 6,
   "metadata": {},
   "outputs": [],
   "source": [
    "def vxytheis(t, xy):\n",
    "    Q = -100\n",
    "    npor = 0.3\n",
    "    k = 10\n",
    "    H = 10\n",
    "    Ss = 1e-4\n",
    "    T = k * H\n",
    "    S = Ss * H\n",
    "    x, y = xy\n",
    "    r = np.sqrt(x ** 2 + y ** 2)\n",
    "    u = S * r ** 2 / (4 * T * t)\n",
    "    Qr = -Q / (2 * np.pi) / r * np.exp(-u)\n",
    "    vr = Qr / (H * npor)\n",
    "    vx = vr * x / r\n",
    "    vy = vr * y / r\n",
    "    return np.array([vx, vy])"
   ]
  },
  {
   "cell_type": "code",
   "execution_count": 7,
   "metadata": {},
   "outputs": [
    {
     "data": {
      "image/png": "[encoded data removed]",
      "text/plain": [
       "<Figure size 432x288 with 1 Axes>"
      ]
     },
     "metadata": {
      "needs_background": "light"
     },
     "output_type": "display_data"
    }
   ],
   "source": [
    "from scipy.integrate import solve_ivp\n",
    "t = np.linspace(0.01, 100, 100)\n",
    "path0 = solve_ivp(vxytheis, (0.01, 100), y0=[0.3, 0], t_eval=t)\n",
    "plt.plot(path0.t, path0.y[0]);"
   ]
  },
  {
   "cell_type": "markdown",
   "metadata": {},
   "source": [
    "#### Velocities in multi-layer system"
   ]
  },
  {
   "cell_type": "code",
   "execution_count": 61,
   "metadata": {},
   "outputs": [
    {
     "name": "stdout",
     "output_type": "stream",
     "text": [
      "self.neq  1\n",
      "solution complete\n"
     ]
    }
   ],
   "source": [
    "Q = 100\n",
    "npor = 0.3\n",
    "k0 = 10\n",
    "k1 = 40\n",
    "H = 10\n",
    "Hstar = 2\n",
    "c = 100\n",
    "T = k * H\n",
    "Ss = 1e-4\n",
    "S = Ss * H\n",
    "ml = tt.ModelMaq(kaq=[k0, k1], z=[2 * H + Hstar, H + Hstar, H, 0], c=[c], Saq=[Ss], tmin=0.01, tmax=10000, M=10)\n",
    "w = tt.Well(ml, xw=0, yw=0, tsandQ=[(0, -Q)], layers=0, rw=0.3)\n",
    "ml.solve()"
   ]
  },
  {
   "cell_type": "code",
   "execution_count": 62,
   "metadata": {},
   "outputs": [
    {
     "data": {
      "image/png": "[encoded data removed]",
      "text/plain": [
       "<Figure size 432x288 with 1 Axes>"
      ]
     },
     "metadata": {
      "needs_background": "light"
     },
     "output_type": "display_data"
    }
   ],
   "source": [
    "zstart = np.linspace(10.5, 14.5, 10)\n",
    "for zs in zstart:\n",
    "    trace = tt.timtrace(ml, xstart=0.1, ystart=.1, zstart=zs, \n",
    "                     tstartend=[0, 100], tstartoffset=0.01, tstep=5, \n",
    "                     nstepmax=40, hstepmax=2, silent=True)\n",
    "    xyzt = trace['xyzt']\n",
    "    plt.plot(xyzt[:, 0], xyzt[:, 2])\n",
    "for y in [5, 10, 15]:\n",
    "    plt.axhline(y, color='k')\n",
    "plt.axis('scaled');"
   ]
  },
  {
   "cell_type": "code",
   "execution_count": 64,
   "metadata": {},
   "outputs": [
    {
     "ename": "TypeError",
     "evalue": "timtrace() got an unexpected keyword argument 'deltlist'",
     "output_type": "error",
     "traceback": [
      "\u001b[0;31m---------------------------------------------------------------------------\u001b[0m",
      "\u001b[0;31mTypeError\u001b[0m                                 Traceback (most recent call last)",
      "\u001b[0;32m<ipython-input-64-ed42dcc77ad8>\u001b[0m in \u001b[0;36m<module>\u001b[0;34m\u001b[0m\n\u001b[1;32m      1\u001b[0m \u001b[0;32mfor\u001b[0m \u001b[0mz\u001b[0m \u001b[0;32min\u001b[0m \u001b[0mnp\u001b[0m\u001b[0;34m.\u001b[0m\u001b[0marange\u001b[0m\u001b[0;34m(\u001b[0m\u001b[0;36m13\u001b[0m\u001b[0;34m,\u001b[0m \u001b[0;36m22\u001b[0m\u001b[0;34m)\u001b[0m\u001b[0;34m:\u001b[0m\u001b[0;34m\u001b[0m\u001b[0;34m\u001b[0m\u001b[0m\n\u001b[0;32m----> 2\u001b[0;31m     trace = tt.timtrace(ml, xstart=0.3, ystart=0, zstart=z, \n\u001b[0m\u001b[1;32m      3\u001b[0m                      \u001b[0mtstartend\u001b[0m\u001b[0;34m=\u001b[0m\u001b[0;34m[\u001b[0m\u001b[0;36m0\u001b[0m\u001b[0;34m,\u001b[0m \u001b[0;36m1000\u001b[0m\u001b[0;34m]\u001b[0m\u001b[0;34m,\u001b[0m \u001b[0mtstartoffset\u001b[0m\u001b[0;34m=\u001b[0m\u001b[0;36m0.01\u001b[0m\u001b[0;34m,\u001b[0m \u001b[0mdeltlist\u001b[0m\u001b[0;34m=\u001b[0m\u001b[0;36m10\u001b[0m\u001b[0;34m,\u001b[0m\u001b[0;34m\u001b[0m\u001b[0;34m\u001b[0m\u001b[0m\n\u001b[1;32m      4\u001b[0m                      nstepmax=500, hstepmax=2, correctionstep=True, silent=True)\n\u001b[1;32m      5\u001b[0m     \u001b[0mxyzt\u001b[0m \u001b[0;34m=\u001b[0m \u001b[0mtrace\u001b[0m\u001b[0;34m[\u001b[0m\u001b[0;34m'trace'\u001b[0m\u001b[0;34m]\u001b[0m\u001b[0;34m\u001b[0m\u001b[0;34m\u001b[0m\u001b[0m\n",
      "\u001b[0;31mTypeError\u001b[0m: timtrace() got an unexpected keyword argument 'deltlist'"
     ]
    }
   ],
   "source": [
    "for z in np.arange(13, 22):\n",
    "    trace = tt.timtrace(ml, xstart=0.3, ystart=0, zstart=z, \n",
    "                     tstartend=[0, 1000], tstartoffset=0.01, deltlist=10, \n",
    "                     nstepmax=500, hstepmax=2, correctionstep=True, silent=True)\n",
    "    xyzt = trace['trace']\n",
    "    plt.plot(xyzt[:, 0], xyzt[:, 2])"
   ]
  },
  {
   "cell_type": "markdown",
   "metadata": {},
   "source": [
    "#### Model3D"
   ]
  },
  {
   "cell_type": "code",
   "execution_count": 79,
   "metadata": {},
   "outputs": [
    {
     "name": "stdout",
     "output_type": "stream",
     "text": [
      "self.neq  1\n",
      "solution complete\n"
     ]
    }
   ],
   "source": [
    "Q = 100\n",
    "npor = 0.3\n",
    "k = 10\n",
    "H = 10\n",
    "Hstar = 2\n",
    "c = 1000\n",
    "T = k * H\n",
    "#Ss = 1e-4\n",
    "Ss = 1e-8\n",
    "S = Ss * H\n",
    "ml = tt.Model3D(kaq=10, z=[20, 15, 10, 5, 0], tmin=0.01, tmax=1000)\n",
    "w = tt.Well(ml, xw=0, yw=0, tsandQ=[(0, -Q), (100, Q)], layers=1, rw=0.1)\n",
    "ml.solve()"
   ]
  },
  {
   "cell_type": "code",
   "execution_count": null,
   "metadata": {},
   "outputs": [],
   "source": [
    "ml.head(1"
   ]
  },
  {
   "cell_type": "code",
   "execution_count": 69,
   "metadata": {},
   "outputs": [
    {
     "data": {
      "image/png": "[encoded data removed]",
      "text/plain": [
       "<Figure size 432x288 with 1 Axes>"
      ]
     },
     "metadata": {
      "needs_background": "light"
     },
     "output_type": "display_data"
    }
   ],
   "source": [
    "zstart = np.linspace(10.01, 14.99, 31)\n",
    "for zs in zstart:\n",
    "    trace = tt.timtrace(ml, xstart=0.1, ystart=.1, zstart=zs, \n",
    "                     tstartend=[0, 100], tstartoffset=0.01, tstep=5, \n",
    "                     nstepmax=40, hstepmax=2, silent=True)\n",
    "    xyzt = trace['xyzt']\n",
    "    plt.plot(xyzt[:, 0], xyzt[:, 2])\n",
    "for y in [5, 10, 15]:\n",
    "    plt.axhline(y, color='k')\n",
    "plt.axis('scaled');"
   ]
  },
  {
   "cell_type": "code",
   "execution_count": 81,
   "metadata": {},
   "outputs": [
    {
     "name": "stdout",
     "output_type": "stream",
     "text": [
      "Warning, some of the times are smaller than tmin after\n",
      "a change in boundary condition. nans are substituted\n"
     ]
    },
    {
     "data": {
      "text/plain": [
       "array([[nan],\n",
       "       [nan],\n",
       "       [nan],\n",
       "       [nan]])"
      ]
     },
     "execution_count": 81,
     "metadata": {},
     "output_type": "execute_result"
    }
   ],
   "source": [
    "ml.head(0, 0, 100)"
   ]
  },
  {
   "cell_type": "code",
   "execution_count": 83,
   "metadata": {},
   "outputs": [],
   "source": [
    "h = ml.headalongline(np.linspace(0, 20, 100), np.zeros(100), t=100 - 1e-6)"
   ]
  },
  {
   "cell_type": "code",
   "execution_count": 88,
   "metadata": {},
   "outputs": [
    {
     "data": {
      "text/plain": [
       "array([[1.90565058]])"
      ]
     },
     "execution_count": 88,
     "metadata": {},
     "output_type": "execute_result"
    }
   ],
   "source": [
    "w.headinside(99)"
   ]
  },
  {
   "cell_type": "code",
   "execution_count": 12,
   "metadata": {},
   "outputs": [
    {
     "data": {
      "image/png": "[encoded data removed]",
      "text/plain": [
       "<Figure size 432x288 with 1 Axes>"
      ]
     },
     "metadata": {
      "needs_background": "light"
     },
     "output_type": "display_data"
    }
   ],
   "source": [
    "zstart = np.linspace(10.01, 14.99, 31)\n",
    "for zs in zstart:\n",
    "    trace = timtrace(ml, xstart=0.1, ystart=0.1, zstart=zs, \n",
    "                     tstartend=[0, 100, 200], tstartoffset=0.01, deltlist=5, \n",
    "                     nstepmax=40, hstepmax=2, silent=True, correctionstep=True)\n",
    "    xyzt = trace['trace']\n",
    "    plt.plot(xyzt[:, 0], xyzt[:, 2])\n",
    "for y in [5, 10, 15]:\n",
    "    plt.axhline(y, color='k')\n",
    "plt.axis('scaled');"
   ]
  }
 ],
 "metadata": {
  "kernelspec": {
   "display_name": "Python 3",
   "language": "python",
   "name": "python3"
  },
  "language_info": {
   "codemirror_mode": {
    "name": "ipython",
    "version": 3
   },
   "file_extension": ".py",
   "mimetype": "text/x-python",
   "name": "python",
   "nbconvert_exporter": "python",
   "pygments_lexer": "ipython3",
   "version": "3.8.2"
  }
 },
 "nbformat": 4,
 "nbformat_minor": 4
}
