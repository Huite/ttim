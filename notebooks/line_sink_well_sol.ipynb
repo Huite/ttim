{
 "cells": [
  {
   "cell_type": "markdown",
   "metadata": {},
   "source": [
    "## Well near a straight river"
   ]
  },
  {
   "cell_type": "code",
   "execution_count": null,
   "metadata": {
    "collapsed": true
   },
   "outputs": [],
   "source": [
    "from ttim import *\n",
    "import numpy as np\n",
    "import matplotlib.pyplot as plt\n",
    "%matplotlib inline"
   ]
  },
  {
   "cell_type": "markdown",
   "metadata": {},
   "source": [
    "Consider a well in the middle aquifer of a three aquifer system located at $(x,y)=(0,0)$. The well starts pumping at time $t=0$ at a discharge of $Q=1000$ m$^3$/d. Aquifer properties are the shown in table 3 (same as exercise 2). A stream runs North-South along the line $x=50$. The head along the stream is fixed. \n",
    "\n",
    "#### Table 3 - Aquifer properties for exercise 3.\n",
    "|               | $k$ (m/d) | $c$ (d) |  $S$  | $S_s$ | $z_t$ (m) | $z_b$ (m)|\n",
    "|---------------| ---------:| -------:| -----:| -----:| ---------:| --------:|\n",
    "|Aquifer 0      |      1    |         |   0.1 |       |   25      |        20|\n",
    "|Leaky layer 1  |           |  1000   |       |0      |   20      |        18|\n",
    "|Aquifer 1      |     20    |         |       |0.0001 |   18      |        10|\n",
    "|Leaky layer 2  |           |  2000   |       |0      |   10      |         8|\n",
    "|Aquifer 2      |      2    |         |       |0.0001 |    8      |         0|\n",
    "\n",
    "#### Exercise 3a\n",
    "Model a 1000 m long section of the stream using 12 linesinks with $y$-endpoints at [-500,-300,-200,-100,-50,0,50,100,200,300,500]. Create a cross-section of the head along $y=0$ from $x=-200$ to $x=200$ in all 3 layers."
   ]
  },
  {
   "cell_type": "code",
   "execution_count": null,
   "metadata": {},
   "outputs": [],
   "source": [
    "ml = ModelMaq(kaq=[1, 20, 2], z=[25, 20, 18, 10, 8, 0], c=[1000, 2000],\n",
    "              Saq=[0.1, 1e-4, 1e-4], Sll=[0, 0], phreatictop=True,\n",
    "              tmin=0.1, tmax=1000, M=20)\n",
    "w = Well(ml, xw=0, yw=0, rw=0.2, tsandQ=[(0, 1000)], layers=1, label='well 1')\n",
    "yls = [-500, -300, -200, -100, -50, 0, 50, 100, 200, 300, 500]\n",
    "xls = 50 * np.ones(len(yls))\n",
    "ls1 = HeadLineSinkString(ml, list(zip(xls, yls)), tsandh='fixed', layers=0, label='river')\n",
    "ml.solve()\n",
    "ml.xsection(x1=-200, x2=200, npoints=100, t=100, layers=[0, 1, 2]) "
   ]
  },
  {
   "cell_type": "markdown",
   "metadata": {},
   "source": [
    "#### Exercise 3b\n",
    "Compute the discharge of the stream section (the stream depletion) as a function of time from $t=0.1$ till $t=1000$ days."
   ]
  },
  {
   "cell_type": "code",
   "execution_count": null,
   "metadata": {},
   "outputs": [],
   "source": [
    "t = np.logspace(-1, 3, 100)\n",
    "Q = ls1.discharge(t)\n",
    "plt.semilogx(t, Q[0])\n",
    "plt.ylabel('Q [m$^3$/d]')\n",
    "plt.xlabel('time [days]');"
   ]
  },
  {
   "cell_type": "markdown",
   "metadata": {},
   "source": [
    "#### Exercise 3c\n",
    "Make a contour plot of each layer after 100 days of pumping. Use 20 grid points in each direction (this may take a little time)."
   ]
  },
  {
   "cell_type": "code",
   "execution_count": null,
   "metadata": {
    "scrolled": false
   },
   "outputs": [],
   "source": [
    "ml.contour(win=[-200, 200, -200, 200], ngr=[20, 20], t=100, layers=0,\n",
    "           levels=20, color='b', labels='True', decimals=2, figsize=(8, 8))\n",
    "ml.contour(win=[-200, 200, -200, 200], ngr=[20, 20], t=100, layers=1,\n",
    "           levels=20, color='b', labels='True', decimals=2, figsize=(8, 8))"
   ]
  },
  {
   "cell_type": "markdown",
   "metadata": {},
   "source": [
    "#### Exercise 3d\n",
    "The discharge of the well is $Q=1000$ m$^3$/d for 100 days every summer. Compute the stream depletion for a five year period."
   ]
  },
  {
   "cell_type": "code",
   "execution_count": null,
   "metadata": {},
   "outputs": [],
   "source": [
    "ml = ModelMaq(kaq=[1, 20, 2], z=[25, 20, 18, 10, 8, 0], c=[1000, 2000],\n",
    "              Saq=[0.1, 1e-4, 1e-4], Sll=[0, 0], phreatictop=True,\n",
    "              tmin=0.1, tmax=2000, M=20)\n",
    "tsandQ=[(0, 1000), (100, 0), (365, 1000), (465, 0), \n",
    "        (730, 1000), (830, 0), (1095, 1000), (1195, 0),\n",
    "        (1460, 1000), (1560, 0)]\n",
    "w = Well(ml, xw=0, yw=0, rw=0.2, tsandQ=tsandQ, layers=1, label='well 1')\n",
    "yls = [-500, -300, -200, -100, -50, 0, 50, 100, 200, 300, 500]\n",
    "xls = 50 * np.ones(len(yls))\n",
    "ls1 = HeadLineSinkString(ml, list(zip(xls, yls)), tsandh='fixed', layers=0, label='river')\n",
    "ml.solve()\n",
    "\n",
    "t = np.linspace(0.1, 2000, 200)\n",
    "Q = ls1.discharge(t)\n",
    "plt.plot(t, Q[0])\n",
    "plt.ylabel('Q [m$^3$/d]')\n",
    "plt.xlabel('time [days]');"
   ]
  },
  {
   "cell_type": "code",
   "execution_count": null,
   "metadata": {
    "collapsed": true
   },
   "outputs": [],
   "source": []
  }
 ],
 "metadata": {
  "kernelspec": {
   "display_name": "Python 3",
   "language": "python",
   "name": "python3"
  },
  "language_info": {
   "codemirror_mode": {
    "name": "ipython",
    "version": 3
   },
   "file_extension": ".py",
   "mimetype": "text/x-python",
   "name": "python",
   "nbconvert_exporter": "python",
   "pygments_lexer": "ipython3",
   "version": "3.6.0"
  }
 },
 "nbformat": 4,
 "nbformat_minor": 1
}
