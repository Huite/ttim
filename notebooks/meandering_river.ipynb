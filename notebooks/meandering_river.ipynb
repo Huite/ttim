{
 "cells": [
  {
   "cell_type": "code",
   "execution_count": null,
   "metadata": {
    "collapsed": true
   },
   "outputs": [],
   "source": [
    "import numpy as np\n",
    "%matplotlib inline\n",
    "from ttim import *"
   ]
  },
  {
   "cell_type": "code",
   "execution_count": null,
   "metadata": {
    "collapsed": true
   },
   "outputs": [],
   "source": [
    "ml = Model3D(kaq=[2, 1, 5, 10, 4], z=[10, 8, 6, 4, 2, 0], \\\n",
    "             Saq=[.1, .0001, .0002, .0002, .0001], \\\n",
    "             phreatictop=True, kzoverkh=0.1, topboundary='conf', \\\n",
    "             tmin=1e-3, tmax=1e3 )\n",
    "w = Well(ml, 0, -25, rw=.3, tsandQ=[(0, 100)], layers=[2, 3])\n",
    "\n",
    "dxdy = 30 * np.pi / 100 * np.cos(np.pi)\n",
    "y1 = np.arange(-150, -100, 10)\n",
    "x1 = (y1 + 100) * dxdy\n",
    "y2 = np.linspace(-100, 100, 20)\n",
    "x2 = 30 * np.sin(y2 * np.pi / 100)\n",
    "xls = np.hstack((x1, x2))\n",
    "yls = np.hstack((y1, y2))\n",
    "xy = np.array([xls, yls]).T\n",
    "\n",
    "ls1 = HeadLineSinkString(ml, xy=xy, tsandh='fixed', layers=[0, 1])"
   ]
  },
  {
   "cell_type": "code",
   "execution_count": null,
   "metadata": {},
   "outputs": [],
   "source": [
    "ml.solve()"
   ]
  },
  {
   "cell_type": "code",
   "execution_count": null,
   "metadata": {},
   "outputs": [],
   "source": [
    "ml.contour(win = [-50, 50, -150, 150], ngr=20, t=1, layers=2)"
   ]
  }
 ],
 "metadata": {
  "kernelspec": {
   "display_name": "Python 3",
   "language": "python",
   "name": "python3"
  },
  "language_info": {
   "codemirror_mode": {
    "name": "ipython",
    "version": 3
   },
   "file_extension": ".py",
   "mimetype": "text/x-python",
   "name": "python",
   "nbconvert_exporter": "python",
   "pygments_lexer": "ipython3",
   "version": "3.6.0"
  }
 },
 "nbformat": 4,
 "nbformat_minor": 2
}
