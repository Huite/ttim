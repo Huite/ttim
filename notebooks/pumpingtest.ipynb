{
 "cells": [
  {
   "cell_type": "markdown",
   "metadata": {},
   "source": [
    "### TTim example of pumping test analysis"
   ]
  },
  {
   "cell_type": "code",
   "execution_count": 1,
   "metadata": {
    "collapsed": true
   },
   "outputs": [],
   "source": [
    "import numpy as np\n",
    "import matplotlib.pyplot as plt\n",
    "%matplotlib inline\n",
    "from ttim import *"
   ]
  },
  {
   "cell_type": "markdown",
   "metadata": {},
   "source": [
    "Load data of two observation wells"
   ]
  },
  {
   "cell_type": "code",
   "execution_count": 2,
   "metadata": {
    "collapsed": true
   },
   "outputs": [],
   "source": [
    "drawdown = np.loadtxt('data/oudekorendijk_h30.dat')\n",
    "to1 = drawdown[:,0] / 60 / 24\n",
    "ho1 = -drawdown[:,1]\n",
    "ro1 = 30\n",
    "\n",
    "drawdown = np.loadtxt('data/oudekorendijk_h90.dat')\n",
    "to2 = drawdown[:,0] / 60 / 24\n",
    "ho2 = -drawdown[:,1]\n",
    "ro2 = 90"
   ]
  },
  {
   "cell_type": "markdown",
   "metadata": {},
   "source": [
    "Pumping discharge"
   ]
  },
  {
   "cell_type": "code",
   "execution_count": 3,
   "metadata": {
    "collapsed": true
   },
   "outputs": [],
   "source": [
    "Qo = 788"
   ]
  },
  {
   "cell_type": "markdown",
   "metadata": {},
   "source": [
    "Create model"
   ]
  },
  {
   "cell_type": "code",
   "execution_count": 4,
   "metadata": {},
   "outputs": [
    {
     "name": "stdout",
     "output_type": "stream",
     "text": [
      "self.neq  1\n",
      "solution complete\n"
     ]
    }
   ],
   "source": [
    "ml = ModelMaq(kaq=60, z=(-18, -25), Saq=1e-4, tmin=1e-5, tmax=1)\n",
    "w = Well(ml, xw=0, yw=0, rw=0.1, tsandQ=[(0, 788)], layers=0)\n",
    "ml.solve()"
   ]
  },
  {
   "cell_type": "markdown",
   "metadata": {},
   "source": [
    "Create calibration object, add parameters and first series. Fit the model. The chi-square value is the sum of squared residuals at the optimum."
   ]
  },
  {
   "cell_type": "code",
   "execution_count": 5,
   "metadata": {},
   "outputs": [
    {
     "name": "stdout",
     "output_type": "stream",
     "text": [
      ".............................[[Fit Statistics]]\n",
      "    # function evals   = 29\n",
      "    # data points      = 34\n",
      "    # variables        = 2\n",
      "    chi-square         = 0.034\n",
      "    reduced chi-square = 0.001\n",
      "    Akaike info crit   = -230.786\n",
      "    Bayesian info crit = -227.734\n",
      "[[Variables]]\n",
      "    kaq0:   68.6390164 +/- 1.437465 (2.09%) (init= 10)\n",
      "    Saq0:   1.6072e-05 +/- 1.58e-06 (9.84%) (init= 0.0001)\n",
      "[[Correlations]] (unreported correlations are <  0.100)\n",
      "    C(kaq0, Saq0)                = -0.891 \n"
     ]
    }
   ],
   "source": [
    "cal = Calibrate(ml)\n",
    "cal.parameter(name='kaq0', initial=10)\n",
    "cal.parameter(name='Saq0', initial=1e-4)\n",
    "cal.series(name='obs1', x=ro1, y=0, layer=0, t=to1, h=ho1)\n",
    "cal.fit()"
   ]
  },
  {
   "cell_type": "code",
   "execution_count": 6,
   "metadata": {},
   "outputs": [
    {
     "data": {
      "text/plain": [
       "[<matplotlib.lines.Line2D at 0x11c8f4a20>]"
      ]
     },
     "execution_count": 6,
     "metadata": {},
     "output_type": "execute_result"
    },
    {
     "data": {
      "image/png": "[encoded data removed]",
      "text/plain": [
       "<matplotlib.figure.Figure at 0x11c8e0828>"
      ]
     },
     "metadata": {},
     "output_type": "display_data"
    }
   ],
   "source": [
    "h = ml.head(ro1, 0, to1, 0)\n",
    "plt.semilogx(to1, ho1, '.', label='observed')\n",
    "plt.semilogx(to1, h[0], label='model')"
   ]
  },
  {
   "cell_type": "markdown",
   "metadata": {},
   "source": [
    "### Specify $S$ rather than $S_s$"
   ]
  },
  {
   "cell_type": "code",
   "execution_count": 7,
   "metadata": {},
   "outputs": [
    {
     "name": "stdout",
     "output_type": "stream",
     "text": [
      "..............................[[Fit Statistics]]\n",
      "    # function evals   = 30\n",
      "    # data points      = 34\n",
      "    # variables        = 2\n",
      "    chi-square         = 0.034\n",
      "    reduced chi-square = 0.001\n",
      "    Akaike info crit   = -230.786\n",
      "    Bayesian info crit = -227.734\n",
      "[[Variables]]\n",
      "    kaq0:   68.6429417 +/- 1.437493 (2.09%) (init= 10)\n",
      "    S:      0.00011247 +/- 1.11e-05 (9.84%) (init= 0.0001)\n",
      "[[Correlations]] (unreported correlations are <  0.100)\n",
      "    C(kaq0, S)                   = -0.891 \n"
     ]
    }
   ],
   "source": [
    "cal = Calibrate(ml)\n",
    "cal.parameter(name='kaq0', initial=10)\n",
    "cal.parameter(name='S', par=ml.aq.Saq, layer=0, initial=1e-4)\n",
    "cal.series(name='obs1', x=ro1, y=0, layer=0, t=to1, h=ho1)\n",
    "cal.fit()"
   ]
  },
  {
   "cell_type": "markdown",
   "metadata": {},
   "source": [
    "### Add wellbore storage"
   ]
  },
  {
   "cell_type": "code",
   "execution_count": 8,
   "metadata": {},
   "outputs": [
    {
     "name": "stdout",
     "output_type": "stream",
     "text": [
      "self.neq  1\n",
      "solution complete\n"
     ]
    }
   ],
   "source": [
    "ml = ModelMaq(kaq=60, z=(-18, -25), Saq=1e-4, tmin=1e-5, tmax=1)\n",
    "w = Well(ml, xw=0, yw=0, rw=0.1, rc=0.2, tsandQ=[(0, 788)], layers=0)\n",
    "ml.solve()"
   ]
  },
  {
   "cell_type": "code",
   "execution_count": 9,
   "metadata": {},
   "outputs": [
    {
     "name": "stdout",
     "output_type": "stream",
     "text": [
      "......................................[[Fit Statistics]]\n",
      "    # function evals   = 38\n",
      "    # data points      = 34\n",
      "    # variables        = 3\n",
      "    chi-square         = 0.008\n",
      "    reduced chi-square = 0.000\n",
      "    Akaike info crit   = -276.768\n",
      "    Bayesian info crit = -272.189\n",
      "[[Variables]]\n",
      "    kaq0:   80.5396340 +/- 1.712726 (2.13%) (init= 10)\n",
      "    Saq0:   5.6587e-06 +/- 8.11e-07 (14.33%) (init= 0.0001)\n",
      "    rc:     0.28475662 +/- 0.016766 (5.89%) (init= 0.2)\n",
      "[[Correlations]] (unreported correlations are <  0.100)\n",
      "    C(kaq0, Saq0)                = -0.974 \n",
      "    C(Saq0, rc)                  = -0.867 \n",
      "    C(kaq0, rc)                  =  0.825 \n"
     ]
    }
   ],
   "source": [
    "cal = Calibrate(ml)\n",
    "cal.parameter(name='kaq0', initial=10)\n",
    "cal.parameter(name='Saq0', initial=1e-4)\n",
    "cal.parameter(name='rc', par=w.rc, initial=0.2, pmin=0, pmax=0.5)\n",
    "cal.series(name='obs1', x=ro1, y=0, layer=0, t=to1, h=ho1)\n",
    "cal.fit()"
   ]
  },
  {
   "cell_type": "code",
   "execution_count": 10,
   "metadata": {},
   "outputs": [
    {
     "data": {
      "text/plain": [
       "[<matplotlib.lines.Line2D at 0x11ca84e10>]"
      ]
     },
     "execution_count": 10,
     "metadata": {},
     "output_type": "execute_result"
    },
    {
     "data": {
      "image/png": "[encoded data removed]",
      "text/plain": [
       "<matplotlib.figure.Figure at 0x11cb748d0>"
      ]
     },
     "metadata": {},
     "output_type": "display_data"
    }
   ],
   "source": [
    "h = ml.head(ro1, 0, to1, 0)\n",
    "plt.semilogx(to1, ho1, '.', label='observed')\n",
    "plt.semilogx(to1, h[0], label='model')"
   ]
  },
  {
   "cell_type": "markdown",
   "metadata": {},
   "source": [
    "### Two observation wells"
   ]
  },
  {
   "cell_type": "code",
   "execution_count": 11,
   "metadata": {},
   "outputs": [
    {
     "name": "stdout",
     "output_type": "stream",
     "text": [
      "...............................................................[[Fit Statistics]]\n",
      "    # function evals   = 63\n",
      "    # data points      = 69\n",
      "    # variables        = 3\n",
      "    chi-square         = 0.173\n",
      "    reduced chi-square = 0.003\n",
      "    Akaike info crit   = -407.245\n",
      "    Bayesian info crit = -400.543\n",
      "[[Variables]]\n",
      "    kaq0:   66.0868242 +/- 1.669682 (2.53%) (init= 10)\n",
      "    Saq0:   2.5412e-05 +/- 2.42e-06 (9.52%) (init= 0.0001)\n",
      "    rc:     0.00041008 +/- 1.171941 (285785.60%) (init= 0.2)\n",
      "[[Correlations]] (unreported correlations are <  0.100)\n",
      "    C(kaq0, Saq0)                = -0.855 \n"
     ]
    }
   ],
   "source": [
    "cal = Calibrate(ml)\n",
    "cal.parameter(name='kaq0', initial=10)\n",
    "cal.parameter(name='Saq0', initial=1e-4)\n",
    "cal.parameter(name='rc', par=w.rc, initial=0.2, pmin=0, pmax=0.5)\n",
    "cal.series(name='obs1', x=ro1, y=0, layer=0, t=to1, h=ho1)\n",
    "cal.series(name='obs2', x=ro2, y=0, layer=0, t=to2, h=ho2)\n",
    "cal.fit()"
   ]
  },
  {
   "cell_type": "code",
   "execution_count": 12,
   "metadata": {},
   "outputs": [
    {
     "data": {
      "text/plain": [
       "[<matplotlib.lines.Line2D at 0x11c9d54e0>]"
      ]
     },
     "execution_count": 12,
     "metadata": {},
     "output_type": "execute_result"
    },
    {
     "data": {
      "image/png": "[encoded data removed]",
      "text/plain": [
       "<matplotlib.figure.Figure at 0x11cdca710>"
      ]
     },
     "metadata": {},
     "output_type": "display_data"
    }
   ],
   "source": [
    "h1 = ml.head(ro1, 0, to1, 0)\n",
    "plt.semilogx(to1, ho1, '.', label='obs1')\n",
    "plt.semilogx(to1, h1[0], label='model')\n",
    "h2 = ml.head(ro2, 0, to2, 0)\n",
    "plt.semilogx(to2, ho2, '.', label='obs2')\n",
    "plt.semilogx(to2, h2[0], label='model')"
   ]
  },
  {
   "cell_type": "code",
   "execution_count": null,
   "metadata": {
    "collapsed": true
   },
   "outputs": [],
   "source": []
  }
 ],
 "metadata": {
  "kernelspec": {
   "display_name": "Python 3",
   "language": "python",
   "name": "python3"
  },
  "language_info": {
   "codemirror_mode": {
    "name": "ipython",
    "version": 3
   },
   "file_extension": ".py",
   "mimetype": "text/x-python",
   "name": "python",
   "nbconvert_exporter": "python",
   "pygments_lexer": "ipython3",
   "version": "3.6.0"
  },
  "widgets": {
   "state": {},
   "version": "1.1.2"
  }
 },
 "nbformat": 4,
 "nbformat_minor": 2
}
