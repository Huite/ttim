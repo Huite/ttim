{
 "cells": [
  {
   "cell_type": "markdown",
   "metadata": {},
   "source": [
    "###Slug test analysis in an unconfined aquifer\n",
    "\n",
    "The data is taken from the [AQTESOLVE](http://www.aqtesolv.com/examples/uncslug1.htm) website. \n",
    "\n",
    "Butler (1998) presents results from a slug test in a partially penetrating well that is screened in unconsolidated alluvial deposits consisting of sand and gravel with interbedded clay. The aquifer has a thickness $H=47.87$ m. The depth to the top of the well screen is 16.7 m, and the screen of the well is 1.52 m long. The radius of the well is 0.125 m, and the radius of the casing is 0.064 m. The slug displacement is 0.671 m. "
   ]
  },
  {
   "cell_type": "code",
   "execution_count": 1,
   "metadata": {
    "collapsed": false
   },
   "outputs": [],
   "source": [
    "from ttim import *\n",
    "import numpy as np\n",
    "import matplotlib.pyplot as plt\n",
    "from scipy.optimize import fmin\n",
    "import pandas as pd\n",
    "%matplotlib inline"
   ]
  },
  {
   "cell_type": "code",
   "execution_count": 2,
   "metadata": {
    "collapsed": false
   },
   "outputs": [],
   "source": [
    "# problem definitions\n",
    "rw = 0.125 # well radius\n",
    "rc = 0.064 # well casing radius\n",
    "L = 1.52   # screen length\n",
    "zbot = -47.87  # aquifer thickness\n",
    "welltop = -16.77  # top of screen\n",
    "delh = 0.671 # slug displacement in the well\n",
    "#\n",
    "wellbot = welltop - L  # bottom of screen\n",
    "Q = np.pi * rc**2 * delh # volume of slug"
   ]
  },
  {
   "cell_type": "code",
   "execution_count": 3,
   "metadata": {
    "collapsed": false
   },
   "outputs": [
    {
     "name": "stdout",
     "output_type": "stream",
     "text": [
      "minimum and maximum time: 1.15740740741e-06 0.00410763888889\n"
     ]
    }
   ],
   "source": [
    "# loading data\n",
    "data = np.loadtxt('slugtest.txt') # time and drawdouwn\n",
    "time, dd = data[:,0], data[:,1]\n",
    "td = time/60/60/24 #time in days\n",
    "print 'minimum and maximum time:', td.min(), td.max()"
   ]
  },
  {
   "cell_type": "markdown",
   "metadata": {},
   "source": [
    "Flow is simulated with a quasi three-dimensional model consisting of `Nlayers` mode layers. The top and bottom of the aquifer are impermeable.\n",
    "The horizontal hydraulic conductivity $k$ and elastic storage $S_s$ are unkonwn. Phreatic storage and vertical anisotropy are not simulated. The variable `p` contains the two unknown parameters. The well is modeled with the `Well` element. The type is specified as `slug`, adn the initially displaced volume is specified as $Q$. "
   ]
  },
  {
   "cell_type": "code",
   "execution_count": 4,
   "metadata": {
    "collapsed": false
   },
   "outputs": [],
   "source": [
    "def sse(p, returnheads=False):\n",
    "    ml = Model3D(kaq=p[0], z=[0, -0.5, welltop, wellbot, zbot],\n",
    "                 Saq=p[1], kzoverkh=1, tmin=1e-6, tmax=0.01)  \n",
    "    w = Well(ml, xw=0, yw=0, rw=rw, tsandQ=[(0.0, -Q)],\n",
    "             layers=2, rc=rc, wbstype='slug')\n",
    "    ml.solve(silent = '.')\n",
    "    hm = ml.head(0, 0, td, 2)\n",
    "    if returnheads: return hm\n",
    "    se = np.sum((hm[0] - dd)**2)\n",
    "    return se"
   ]
  },
  {
   "cell_type": "code",
   "execution_count": 5,
   "metadata": {
    "collapsed": false
   },
   "outputs": [
    {
     "name": "stdout",
     "output_type": "stream",
     "text": [
      ". . . . . . . . . . . . . . . . . . . . . . . . . . . . . . . . . . . . . . . . . . . . . . . . . . . . . . . . . . . . . . . . . . . . . . . . . . . . . . . . . . .Optimization terminated successfully.\n",
      "         Current function value: 0.000498\n",
      "         Iterations: 37\n",
      "         Function evaluations: 83\n",
      "\n"
     ]
    }
   ],
   "source": [
    "popt = fmin(sse, [3, 1e-4])"
   ]
  },
  {
   "cell_type": "code",
   "execution_count": 6,
   "metadata": {
    "collapsed": false
   },
   "outputs": [
    {
     "name": "stdout",
     "output_type": "stream",
     "text": [
      ".\n"
     ]
    },
    {
     "data": {
      "image/png": "[encoded data removed]",
      "text/plain": [
       "<matplotlib.figure.Figure at 0x108970c50>"
      ]
     },
     "metadata": {},
     "output_type": "display_data"
    }
   ],
   "source": [
    "hm = sse(popt, returnheads=True)\n",
    "plt.figure(figsize=(15,10))\n",
    "plt.semilogx(time, dd / delh, 'ko', label='Observed')\n",
    "plt.semilogx(time, hm[0] / delh, 'b', label='TTim')\n",
    "plt.ylim([0,1])\n",
    "plt.xlabel('time [s]')\n",
    "plt.ylabel('h/delh')\n",
    "plt.legend(loc='best')\n",
    "plt.title('TTim Slug Test Analysis');"
   ]
  },
  {
   "cell_type": "code",
   "execution_count": 7,
   "metadata": {
    "collapsed": false
   },
   "outputs": [
    {
     "data": {
      "text/html": [
       "<div style=\"max-height:1000px;max-width:1500px;overflow:auto;\">\n",
       "<table border=\"1\" class=\"dataframe\">\n",
       "  <thead>\n",
       "    <tr style=\"text-align: right;\">\n",
       "      <th></th>\n",
       "      <th>Kr [m/day]</th>\n",
       "      <th>Ss [1/m]</th>\n",
       "    </tr>\n",
       "  </thead>\n",
       "  <tbody>\n",
       "    <tr>\n",
       "      <th>TTim</th>\n",
       "      <td> 6.033339</td>\n",
       "      <td> 0.000215509</td>\n",
       "    </tr>\n",
       "    <tr>\n",
       "      <th>AQTESOLV</th>\n",
       "      <td>    4.034</td>\n",
       "      <td>    0.000384</td>\n",
       "    </tr>\n",
       "  </tbody>\n",
       "</table>\n",
       "</div>"
      ],
      "text/plain": [
       "         Kr [m/day]     Ss [1/m]\n",
       "TTim       6.033339  0.000215509\n",
       "AQTESOLV      4.034     0.000384"
      ]
     },
     "execution_count": 7,
     "metadata": {},
     "output_type": "execute_result"
    }
   ],
   "source": [
    "r = pd.DataFrame(columns=['Kr [m/day]','Ss [1/m]'],\n",
    "                 index=['TTim', 'AQTESOLV'])\n",
    "r.loc['TTim'] = [popt[0], popt[1]]\n",
    "r.loc['AQTESOLV'] = [4.034, 0.000384]\n",
    "r"
   ]
  },
  {
   "cell_type": "code",
   "execution_count": null,
   "metadata": {
    "collapsed": true
   },
   "outputs": [],
   "source": []
  }
 ],
 "metadata": {
  "kernelspec": {
   "display_name": "Python 2",
   "language": "python",
   "name": "python2"
  },
  "language_info": {
   "codemirror_mode": {
    "name": "ipython",
    "version": 2
   },
   "file_extension": ".py",
   "mimetype": "text/x-python",
   "name": "python",
   "nbconvert_exporter": "python",
   "pygments_lexer": "ipython2",
   "version": "2.7.10"
  }
 },
 "nbformat": 4,
 "nbformat_minor": 0
}
