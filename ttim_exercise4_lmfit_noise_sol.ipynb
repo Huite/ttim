{
 "cells": [
  {
   "cell_type": "markdown",
   "metadata": {},
   "source": [
    "##TTim Pumping Test"
   ]
  },
  {
   "cell_type": "code",
   "execution_count": 2,
   "metadata": {
    "collapsed": false
   },
   "outputs": [],
   "source": [
    "# import ttim, numpy, matplotlib\n",
    "from ttim import *\n",
    "from pylab import *\n",
    "%matplotlib inline"
   ]
  },
  {
   "cell_type": "markdown",
   "metadata": {},
   "source": [
    "This exercise concerns the evaluation of the pumping test near the town of Oude Korendijk, described in the book 'Analysis and evaluation of pumping test data' by Kruseman and de Ridder. A pumping test was conducted in a confined aquifer extending form 18 m to 25 m below surface. The well penetrates the aquifer fully and is pumped at 788 m$^3$/day. Drawdown is measured in two observation wells, one at 30 m from the pumping well and one at 90 m from the pumping well. The data is provided in the files `oudekorendijk30.dat` and `oudekorendijk90.dat`. Time is given in minutes and drawdown in meters. Time is converted to days and drawdown to heads."
   ]
  },
  {
   "cell_type": "code",
   "execution_count": 3,
   "metadata": {
    "collapsed": false
   },
   "outputs": [],
   "source": [
    "observed = loadtxt('oudekorendijk_h30.dat')\n",
    "to1 = observed[:,0] / 60.0 / 24.0\n",
    "ho1 = -observed[:,1]\n",
    "ro1 = 30.0\n",
    "observed = loadtxt('oudekorendijk_h90.dat')\n",
    "to2 = observed[:,0] / 60.0 / 24.0\n",
    "ho2 = -observed[:,1]\n",
    "ro2 = 90.0\n",
    "Qo = 788.0"
   ]
  },
  {
   "cell_type": "markdown",
   "metadata": {},
   "source": [
    "A function is written that creates a ttim model, computes the head at the observation well and returns the sum of squared errors between the observed heads and the modeled heads. `tmin` and `tmax` are selected to match the data. Input arguments of the function are the hydraulic conductivity and the specific storage coefficient of the aquifer. The function takes a second optional argument `returnheads` which returns the heads rather than the sum of squared errors, which comes in handy once the optimal values of the parameters are found"
   ]
  },
  {
   "cell_type": "code",
   "execution_count": 4,
   "metadata": {
    "collapsed": true
   },
   "outputs": [],
   "source": [
    "from lmfit import Parameters, minimize, fit_report"
   ]
  },
  {
   "cell_type": "code",
   "execution_count": 5,
   "metadata": {
    "collapsed": false
   },
   "outputs": [],
   "source": [
    "def residual(p, t=None, rdata=None, data=None):\n",
    "    vals = p.valuesdict()\n",
    "    k =  vals['k']\n",
    "    Ss =  vals['Ss']\n",
    "    rc = vals['rc']\n",
    "    ml = ModelMaq(kaq=k, z=(-18,-25), Saq=Ss, tmin=1e-5, tmax=1)   \n",
    "    w = Well(ml, xw=0, yw=0, rw=0.1, tsandQ=[(0, 788)], layers=0, rc=rc)\n",
    "    ml.solve(silent='.')\n",
    "    hm = ml.head(rdata, 0.0, t, layers=[0])\n",
    "    if data is None:\n",
    "        return hm[0]\n",
    "    else:\n",
    "        return hm[0] - data  # head in layer 0"
   ]
  },
  {
   "cell_type": "markdown",
   "metadata": {},
   "source": [
    "Define the parameters $k$ and $S_s$ and give starting values for the parameter optimization"
   ]
  },
  {
   "cell_type": "code",
   "execution_count": 6,
   "metadata": {
    "collapsed": false
   },
   "outputs": [],
   "source": [
    "p = Parameters()\n",
    "p.add('k', value=10.0)\n",
    "p.add('Ss', value=1e-4)\n",
    "p.add('rc', value=0, vary=False)"
   ]
  },
  {
   "cell_type": "markdown",
   "metadata": {},
   "source": [
    "Determine the optimal parameters using the measurements in the observation well 30 m from the pumping well. Note that the parameter `epsfcn=1e-4` is crucial. This parameter is used to estimate a nuerical approximation of the Jacobian matrix. "
   ]
  },
  {
   "cell_type": "code",
   "execution_count": 7,
   "metadata": {
    "collapsed": false
   },
   "outputs": [
    {
     "name": "stdout",
     "output_type": "stream",
     "text": [
      "Parameter estimation using data at observation well 30 m\n",
      ". . . . . . . . . . . . . . . . . . . . . . . . . . . . . . . . . . .\n",
      "[[Variables]]\n",
      "    k:    68.6395748 +/- 1.438330 (2.10%) (init= 10)\n",
      "    Ss:   1.6071e-05 +/- 1.58e-06 (9.85%) (init= 0.0001)\n",
      "    rc:   0 (fixed)\n",
      "[[Correlations]] (unreported correlations are <  0.100)\n",
      "    C(k, Ss)                     = -0.891 \n"
     ]
    }
   ],
   "source": [
    "print 'Parameter estimation using data at observation well 30 m'\n",
    "p30 = minimize(residual, p, kws={'t':to1, 'rdata':ro1, 'data':ho1}, epsfcn=1e-4)\n",
    "print \n",
    "print fit_report(p30.params)"
   ]
  },
  {
   "cell_type": "code",
   "execution_count": 8,
   "metadata": {
    "collapsed": false
   },
   "outputs": [
    {
     "name": "stdout",
     "output_type": "stream",
     "text": [
      "Parameter estimation using data at observation well 90 m\n",
      ". . . . . . . . . . . . . . . . . . . . . . . . . . . . . .\n",
      "[[Variables]]\n",
      "    k:    71.5805516 +/- 1.574150 (2.20%) (init= 10)\n",
      "    Ss:   2.9110e-05 +/- 1.94e-06 (6.66%) (init= 0.0001)\n",
      "    rc:   0 (fixed)\n",
      "[[Correlations]] (unreported correlations are <  0.100)\n",
      "    C(k, Ss)                     = -0.847 \n"
     ]
    }
   ],
   "source": [
    "print 'Parameter estimation using data at observation well 90 m'\n",
    "p90 = minimize(residual, p, kws={'t':to2, 'rdata':ro2, 'data':ho2}, epsfcn=1e-4)\n",
    "print \n",
    "print fit_report(p90.params)"
   ]
  },
  {
   "cell_type": "code",
   "execution_count": 9,
   "metadata": {
    "collapsed": false
   },
   "outputs": [
    {
     "name": "stdout",
     "output_type": "stream",
     "text": [
      ". .\n"
     ]
    },
    {
     "data": {
      "image/png": "[encoded data removed]",
      "text/plain": [
       "<matplotlib.figure.Figure at 0x108df5a90>"
      ]
     },
     "metadata": {},
     "output_type": "display_data"
    }
   ],
   "source": [
    "h30 = residual(p30.params, t=to1, rdata=ro1, data=None)\n",
    "h90 = residual(p90.params, t=to2, rdata=ro2, data=None)\n",
    "semilogx(to1, h30, label='30 m')\n",
    "semilogx(to1, ho1, 'ko')\n",
    "semilogx(to2, h90, label='90 m')\n",
    "semilogx(to2, ho2, 'ko')\n",
    "xlabel('time (days)')\n",
    "ylabel('head (m)');"
   ]
  },
  {
   "cell_type": "markdown",
   "metadata": {},
   "source": [
    "Kruseman and de Ridder report optimal values obtained in a variety of ways and on both datasets as $T=370-437$ m$^2$/d and $S=1.6\\cdot 10^{-4}-4.1\\cdot 10^{-4}$. Optimal values with this first analysis are a bit higher for $T$ and a bit lower for $S$, while the fit is pretty good."
   ]
  },
  {
   "cell_type": "code",
   "execution_count": 10,
   "metadata": {
    "collapsed": false
   },
   "outputs": [
    {
     "name": "stdout",
     "output_type": "stream",
     "text": [
      "30 m T and S: 480.477023725 0.000112499108037\n",
      "90 m T and S: 501.06386131 0.000203767382683\n"
     ]
    }
   ],
   "source": [
    "print '30 m T and S:', p30.params['k'].value * 7, p30.params['Ss'].value * 7\n",
    "print '90 m T and S:', p90.params['k'].value * 7, p90.params['Ss'].value * 7"
   ]
  },
  {
   "cell_type": "markdown",
   "metadata": {},
   "source": [
    "###Wellbore storage\n",
    "Kruseman and De Ridder don't include wellbore storage in their well, although early response of the well suggests wellbore storage is not negligible. Wellbore storage can be included and gives a better fit (lower sum of squared errors). In the example below a fixed well radius for wellbore storage of $r_c=0.2$ m is used, although this parameter may also be fitted. "
   ]
  },
  {
   "cell_type": "code",
   "execution_count": 11,
   "metadata": {
    "collapsed": false
   },
   "outputs": [
    {
     "name": "stdout",
     "output_type": "stream",
     "text": [
      "Parameter estimation using data at observation well 30 m with wellbore storage\n",
      ". . . . . . . . . . . . . . . . . . . . . . . . . . . . .\n",
      "[[Variables]]\n",
      "    k:    74.7090458 +/- 1.031020 (1.38%) (init= 10)\n",
      "    Ss:   9.4804e-06 +/- 6.98e-07 (7.36%) (init= 0.0001)\n",
      "    rc:   0.2 (fixed)\n",
      "[[Correlations]] (unreported correlations are <  0.100)\n",
      "    C(k, Ss)                     = -0.907 \n",
      "Parameter estimation using data at observation well 90 m with wellbore storage\n",
      ". . . . . . . . . . . . . . . . . . . . . . . . . . . . . . . . . . .\n",
      "[[Variables]]\n",
      "    k:    73.2474398 +/- 1.385888 (1.89%) (init= 10)\n",
      "    Ss:   2.6501e-05 +/- 1.57e-06 (5.92%) (init= 0.0001)\n",
      "    rc:   0.2 (fixed)\n",
      "[[Correlations]] (unreported correlations are <  0.100)\n",
      "    C(k, Ss)                     = -0.848 \n",
      "30 m T and S: 522.9633212 6.63627945489e-05\n",
      "90 m T and S: 512.732079008 0.000185510046453\n",
      ". .\n"
     ]
    },
    {
     "data": {
      "image/png": "[encoded data removed]",
      "text/plain": [
       "<matplotlib.figure.Figure at 0x108df5910>"
      ]
     },
     "metadata": {},
     "output_type": "display_data"
    }
   ],
   "source": [
    "p['rc'].value = 0.2\n",
    "p['rc'].vary = False\n",
    "\n",
    "print 'Parameter estimation using data at observation well 30 m with wellbore storage'\n",
    "p30rc = minimize(residual, p, kws={'t':to1, 'rdata':ro1, 'data':ho1}, epsfcn=1e-4)\n",
    "print \n",
    "print fit_report(p30rc.params)\n",
    "\n",
    "print 'Parameter estimation using data at observation well 90 m with wellbore storage'\n",
    "p90rc = minimize(residual, p, kws={'t':to2, 'rdata':ro2, 'data':ho2}, epsfcn=1e-4)\n",
    "print \n",
    "print fit_report(p90rc.params)\n",
    "\n",
    "print '30 m T and S:', p30rc.params['k'].value * 7, p30rc.params['Ss'].value * 7\n",
    "print '90 m T and S:', p90rc.params['k'].value * 7, p90rc.params['Ss'].value * 7\n",
    "\n",
    "h30rc = residual(p30rc.params, t=to1, rdata=ro1, data=None)\n",
    "h90rc = residual(p90rc.params, t=to2, rdata=ro2, data=None)\n",
    "semilogx(to1, h30rc, label='30 m')\n",
    "semilogx(to1, ho1, 'ko')\n",
    "semilogx(to2, h90rc, label='90 m')\n",
    "semilogx(to2, ho2, 'ko')\n",
    "xlabel('time (days)')\n",
    "ylabel('head (m)');"
   ]
  },
  {
   "cell_type": "markdown",
   "metadata": {},
   "source": [
    "###Semi-confined layer below\n",
    "Kruseman and De Ridder suggests that the confined aquifer may be underlain by a clay layer that leaks a bit of water. This may be seen from the data, where the observations seem to indicate a slight leveling-off of the drawdown and then a second increase due to release from the aquifer below. Mind you this is all fairly suttle, and may not be realistic, but it is easy to try to simulate the aquifer with an additional leaky layer. TTim requires this additional layer to be on top of the aquifer, but that gives the exact same mathematical solution as at the bottom of the aquifer (for a system consisting of one aquifer). The thickness of the additional layer is not important if the storage of the leaky layer is neglected. When the model is fitted, it should be prevented that one of the parameters becomes negative, which is obviously unrealistic and may lead to impossible solutions. Such safeguards are not built in here, and the optimization algorithm is able to find a solution, although quite a few iterations are needed. "
   ]
  },
  {
   "cell_type": "code",
   "execution_count": 12,
   "metadata": {
    "collapsed": true
   },
   "outputs": [],
   "source": [
    "def residual_semi(p, t=None, rdata=None, data=None):\n",
    "    vals = p.valuesdict()\n",
    "    k =  vals['k']\n",
    "    Ss =  vals['Ss']\n",
    "    rc = vals['rc']\n",
    "    c = vals['c']\n",
    "    ml = ModelMaq(kaq=k, z=(-10, -18,-25), Saq=Ss, c=c, topboundary='semi', tmin=1e-5, tmax=1)   \n",
    "    w = Well(ml, xw=0, yw=0, rw=0.1, tsandQ=[(0, 788)], layers=0, rc=rc)\n",
    "    ml.solve(silent='.')\n",
    "    hm = ml.head(rdata, 0.0, t, layers=[0])\n",
    "    if data is None:\n",
    "        return hm[0]\n",
    "    else:\n",
    "        return hm[0] - data  # head in layer 0"
   ]
  },
  {
   "cell_type": "code",
   "execution_count": 13,
   "metadata": {
    "collapsed": false
   },
   "outputs": [
    {
     "name": "stdout",
     "output_type": "stream",
     "text": [
      "Parameter estimation using data at observation well 30 m, wellbore storage and semi confining layer\n",
      ". . . . . . . . . . . . . . . . . . . . . . . . . . . . . . . . . . . . . . . . . . . . . . .\n",
      "[[Variables]]\n",
      "    k:    69.2868718 +/- 1.048104 (1.51%) (init= 10)\n",
      "    Ss:   1.1747e-05 +/- 6.53e-07 (5.56%) (init= 0.0001)\n",
      "    rc:   0.2 (fixed)\n",
      "    c:    7944.13150 +/- 1.55e+03 (19.54%) (init= 5000)\n",
      "[[Correlations]] (unreported correlations are <  0.100)\n",
      "    C(k, Ss)                     = -0.904 \n",
      "    C(k, c)                      =  0.884 \n",
      "    C(Ss, c)                     = -0.716 \n"
     ]
    }
   ],
   "source": [
    "p.add('c', value=5000, min=1, max=1e5)\n",
    "print 'Parameter estimation using data at observation well 30 m, wellbore storage and semi confining layer'\n",
    "p30rcsemi = minimize(residual_semi, p, kws={'t':to1, 'rdata':ro1, 'data':ho1}, epsfcn=1e-4)\n",
    "print \n",
    "print fit_report(p30rcsemi.params)"
   ]
  },
  {
   "cell_type": "code",
   "execution_count": 14,
   "metadata": {
    "collapsed": false
   },
   "outputs": [
    {
     "name": "stdout",
     "output_type": "stream",
     "text": [
      "Parameter estimation using data at observation well 90 m, wellbore storage and semi confining layer\n",
      ". . . . . . . . . . . . . . . . . . . . . . . . . . . . . . . . . . . . . . . . . . . . . . . . . . . . . . . . . . . . . . . . . . . . . . . . . . . . .\n",
      "[[Variables]]\n",
      "    k:    63.5216901 +/- 1.399284 (2.20%) (init= 10)\n",
      "    Ss:   3.0175e-05 +/- 1.09e-06 (3.62%) (init= 0.0001)\n",
      "    rc:   0.2 (fixed)\n",
      "    c:    2631.12270 +/- 712.0474 (27.06%) (init= 5000)\n",
      "[[Correlations]] (unreported correlations are <  0.100)\n",
      "    C(k, c)                      =  0.913 \n",
      "    C(k, Ss)                     = -0.780 \n",
      "    C(Ss, c)                     = -0.596 \n"
     ]
    }
   ],
   "source": [
    "print 'Parameter estimation using data at observation well 90 m, wellbore storage and semi confining layer'\n",
    "p90rcsemi = minimize(residual_semi, p, kws={'t':to2, 'rdata':ro2, 'data':ho2}, epsfcn=1e-4)\n",
    "print \n",
    "print fit_report(p90rcsemi.params)"
   ]
  },
  {
   "cell_type": "code",
   "execution_count": 15,
   "metadata": {
    "collapsed": false
   },
   "outputs": [
    {
     "name": "stdout",
     "output_type": "stream",
     "text": [
      ". ."
     ]
    },
    {
     "data": {
      "text/plain": [
       "<matplotlib.legend.Legend at 0x1098386d0>"
      ]
     },
     "execution_count": 15,
     "metadata": {},
     "output_type": "execute_result"
    },
    {
     "name": "stdout",
     "output_type": "stream",
     "text": [
      "\n"
     ]
    },
    {
     "data": {
      "image/png": "[encoded data removed]",
      "text/plain": [
       "<matplotlib.figure.Figure at 0x109126dd0>"
      ]
     },
     "metadata": {},
     "output_type": "display_data"
    }
   ],
   "source": [
    "h30rcsemi = residual_semi(p30rcsemi.params, t=to1, rdata=ro1, data=None)\n",
    "h90rcsemi = residual_semi(p90rcsemi.params, t=to2, rdata=ro2, data=None)\n",
    "semilogx(to1, h30rcsemi, label='30 m')\n",
    "semilogx(to1, ho1, 'ko')\n",
    "semilogx(to2, h90rcsemi, label='90 m')\n",
    "semilogx(to2, ho2, 'ko')\n",
    "legend(loc='best')"
   ]
  },
  {
   "cell_type": "markdown",
   "metadata": {},
   "source": [
    "###Noise model"
   ]
  },
  {
   "cell_type": "code",
   "execution_count": 62,
   "metadata": {
    "collapsed": true
   },
   "outputs": [],
   "source": [
    "def residual_noise(p, t=None, rdata=None, data=None, sim=None):\n",
    "    vals = p.valuesdict()\n",
    "    k =  vals['k']\n",
    "    Ss =  vals['Ss']\n",
    "    rc = vals['rc']\n",
    "    alpha = vals['alpha']\n",
    "    ml = ModelMaq(kaq=k, z=(-18,-25), Saq=Ss, tmin=1e-5, tmax=1)   \n",
    "    w = Well(ml, xw=0, yw=0, rw=0.1, tsandQ=[(0, 788)], layers=0, rc=rc)\n",
    "    ml.solve(silent='.')\n",
    "    hm = ml.head(rdata, 0.0, t, layers=[0])\n",
    "    if data is None:\n",
    "        return hm[0]\n",
    "    dt = t[1:] - t[:-1]\n",
    "    r = hm[0] - data\n",
    "    if sim == 'res':\n",
    "        return r\n",
    "    v = r[1:] - np.exp(-dt / alpha) * r[:-1]\n",
    "    v = v / np.sqrt(1 - np.exp(-2 * dt / alpha)) * prod(1-exp(-2*dt/alpha))**(1.0/(2*len(dt)))\n",
    "    return v"
   ]
  },
  {
   "cell_type": "code",
   "execution_count": 63,
   "metadata": {
    "collapsed": false
   },
   "outputs": [],
   "source": [
    "p = Parameters()\n",
    "p.add('k', value=10.0)\n",
    "p.add('Ss', value=1e-4)\n",
    "p.add('rc', value=0.2, vary=False)\n",
    "p.add('alpha', value=1.0/60/24)"
   ]
  },
  {
   "cell_type": "code",
   "execution_count": 64,
   "metadata": {
    "collapsed": false
   },
   "outputs": [
    {
     "name": "stdout",
     "output_type": "stream",
     "text": [
      "r=30 m, rc=0.2 m, noise model\n",
      ". . . . . . . . . . . . . . . . . . . . . . . . . . . . . . . . . . . . . . . . . . . . . . . . . . . . . . . . . . . . . . . . .\n",
      "[[Variables]]\n",
      "    k:       70.8392055 +/- 1.208756 (1.71%) (init= 10)\n",
      "    Ss:      1.5100e-05 +/- 1.36e-06 (8.98%) (init= 0.0001)\n",
      "    rc:      0.2 (fixed)\n",
      "    alpha:   0.01662457 +/- 0.009056 (54.47%) (init= 0.0006944444)\n",
      "[[Correlations]] (unreported correlations are <  0.100)\n",
      "    C(k, Ss)                     = -0.729 \n",
      "    C(Ss, alpha)                 =  0.206 \n"
     ]
    }
   ],
   "source": [
    "print 'r=30 m, rc=0.2 m, noise model'\n",
    "p30noise = minimize(residual_noise, p, kws={'t':to1, 'rdata':ro1, 'data':ho1}, epsfcn=1e-4)\n",
    "print \n",
    "print fit_report(p30noise.params)"
   ]
  },
  {
   "cell_type": "code",
   "execution_count": 65,
   "metadata": {
    "collapsed": false
   },
   "outputs": [
    {
     "name": "stdout",
     "output_type": "stream",
     "text": [
      ".\n"
     ]
    },
    {
     "data": {
      "image/png": "[encoded data removed]",
      "text/plain": [
       "<matplotlib.figure.Figure at 0x10b10de50>"
      ]
     },
     "metadata": {},
     "output_type": "display_data"
    }
   ],
   "source": [
    "h30noise = residual_noise(p30noise.params, t=to1, rdata=ro1, data=None)\n",
    "semilogx(to1, h30noise, label='30 m')\n",
    "semilogx(to1, ho1, 'ko');"
   ]
  },
  {
   "cell_type": "code",
   "execution_count": 66,
   "metadata": {
    "collapsed": false
   },
   "outputs": [
    {
     "name": "stdout",
     "output_type": "stream",
     "text": [
      ". .\n"
     ]
    },
    {
     "data": {
      "image/png": "[encoded data removed]",
      "text/plain": [
       "<matplotlib.figure.Figure at 0x1096ca790>"
      ]
     },
     "metadata": {},
     "output_type": "display_data"
    }
   ],
   "source": [
    "h30res = residual_noise(p30noise.params, t=to1, rdata=ro1, data=ho1, sim='res')\n",
    "h30inn = residual_noise(p30noise.params, t=to1, rdata=ro1, data=ho1)\n",
    "semilogx(to1, h30res, label='residuals')\n",
    "semilogx(to1[1:], h30inn, label='innovation')\n",
    "legend();"
   ]
  },
  {
   "cell_type": "code",
   "execution_count": 61,
   "metadata": {
    "collapsed": false
   },
   "outputs": [
    {
     "data": {
      "text/plain": [
       "0.91284722143410202"
      ]
     },
     "execution_count": 61,
     "metadata": {},
     "output_type": "execute_result"
    }
   ],
   "source": [
    "alpha = 0.00054309\n",
    "dt = to1[1:] - to1[:-1]\n",
    "prod(1-exp(-2*dt/alpha))**(1.0/(2*len(dt)))"
   ]
  },
  {
   "cell_type": "code",
   "execution_count": null,
   "metadata": {
    "collapsed": true
   },
   "outputs": [],
   "source": []
  }
 ],
 "metadata": {
  "kernelspec": {
   "display_name": "Python 2",
   "language": "python",
   "name": "python2"
  },
  "language_info": {
   "codemirror_mode": {
    "name": "ipython",
    "version": 2
   },
   "file_extension": ".py",
   "mimetype": "text/x-python",
   "name": "python",
   "nbconvert_exporter": "python",
   "pygments_lexer": "ipython2",
   "version": "2.7.11"
  }
 },
 "nbformat": 4,
 "nbformat_minor": 0
}
