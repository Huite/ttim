{
 "cells": [
  {
   "cell_type": "markdown",
   "metadata": {},
   "source": [
    "## TTim Exercise 2"
   ]
  },
  {
   "cell_type": "code",
   "execution_count": null,
   "metadata": {
    "collapsed": false
   },
   "outputs": [],
   "source": [
    "from ttim import *\n",
    "import numpy as np\n",
    "import matplotlib.pyplot as plt\n",
    "%matplotlib inline"
   ]
  },
  {
   "cell_type": "markdown",
   "metadata": {},
   "source": [
    "Consider a three-aquifer system. Aquifer properties are given in Table 2. The top aquifer has phreatic storage while the others have elastic storage. A well is located at $(x,y)=(0,0)$ and is screened in layer 1. The well starts pumping at time $t=0$ with a discharge $Q=1000$ m$^3$/d. The radius of the well is 0.2 m.\n",
    "\n",
    "####Table 2 - Aquifer properties for exercise 2.\n",
    "|               | $k$ (m/d) | $c$ (d) |  $S$  | $S_s$ | $z_t$ (m) | $z_b$ (m)|\n",
    "|---------------| ---------:| -------:| -----:| -----:| ---------:| --------:|\n",
    "|Aquifer 0      |      1    |         |   0.1 |       |   25      |        20|\n",
    "|Leaky layer 1  |           |  1000   |       |0      |   20      |        18|\n",
    "|Aquifer 1      |     20    |         |       |0.0001 |   18      |        10|\n",
    "|Leaky layer 2  |           |  2000   |       |0      |   10      |         8|\n",
    "|Aquifer 2      |      2    |         |       |0.0001 |    8      |         0|\n",
    "\n",
    "####Exercise 2a\n",
    "Compute the head as a function of time at $(x,y)=(50,0)$. Make a plot of the head vs. time from $t=0.1$ till $t=1000$ days using a linear scaling on both axes. Make a second graph using a logarithmic scale for the time axis. At what time does the delayed response of the water table kick in?"
   ]
  },
  {
   "cell_type": "code",
   "execution_count": null,
   "metadata": {
    "collapsed": false
   },
   "outputs": [],
   "source": []
  },
  {
   "cell_type": "markdown",
   "metadata": {},
   "source": [
    "####Exercise 2b\n",
    "Create a plot of the head vs. the distance from the well after 10 days of  pumping. Plot the head in all three layers up to a distance of 1000 m from the well. Determine at what distance from the well the head in layer 2 is lower than in layer 1. Make the same plot after 1000 days of pumping."
   ]
  },
  {
   "cell_type": "code",
   "execution_count": null,
   "metadata": {
    "collapsed": false
   },
   "outputs": [],
   "source": []
  },
  {
   "cell_type": "markdown",
   "metadata": {},
   "source": [
    "####Exercise 2c\n",
    "The well is turned off after 100 days. Compute the head as a function of time at $(x,y)=(50,0)$. Make a plot of the head vs. time from $t=0.1$ till $t=1000$ days using a linear scaling on both axes. Make a second graph using a logarithmic scale for the time axis."
   ]
  },
  {
   "cell_type": "code",
   "execution_count": null,
   "metadata": {
    "collapsed": false
   },
   "outputs": [],
   "source": []
  },
  {
   "cell_type": "markdown",
   "metadata": {},
   "source": [
    "Close-up right after turning the well off"
   ]
  },
  {
   "cell_type": "code",
   "execution_count": null,
   "metadata": {
    "collapsed": false
   },
   "outputs": [],
   "source": []
  },
  {
   "cell_type": "markdown",
   "metadata": {},
   "source": [
    "####Exercise 2d\n",
    "Change the well to a well that is screened in layers 1 and 2 with a total discharge of $Q=1000$ m$^3$/d. Solve the model. Create a plot of the head vs. distance from the well after 10 days of pumping."
   ]
  },
  {
   "cell_type": "code",
   "execution_count": null,
   "metadata": {
    "collapsed": false
   },
   "outputs": [],
   "source": []
  },
  {
   "cell_type": "markdown",
   "metadata": {},
   "source": [
    "####Exercise 2e\n",
    "Check that the heads at the well screen are the same in both layers 2 and 3."
   ]
  },
  {
   "cell_type": "code",
   "execution_count": null,
   "metadata": {
    "collapsed": false
   },
   "outputs": [],
   "source": []
  },
  {
   "cell_type": "markdown",
   "metadata": {},
   "source": [
    "####Exercise 2f\n",
    "Compute and plot the discharge as a function of time for both screened layers. If the outcome is not smooth, increase the number of Laplace parameters."
   ]
  },
  {
   "cell_type": "code",
   "execution_count": null,
   "metadata": {
    "collapsed": false
   },
   "outputs": [],
   "source": []
  },
  {
   "cell_type": "code",
   "execution_count": null,
   "metadata": {
    "collapsed": false
   },
   "outputs": [],
   "source": [
    "print 16/176. * 1000\n",
    "w.strength(100)"
   ]
  },
  {
   "cell_type": "markdown",
   "metadata": {},
   "source": [
    "####Exercise 2g\n",
    "Don’t turn the well off at $t=100$ d, but add an injection well at $(x,y)=(50,0)$ in layer 1. The well radius is 0.2 m. Injection starts at $t=0$ and the injection pressure is such that the head is fixed at the well to $h=1$ m. Create a plot of the head vs. distance from the well 10 days after pumping started."
   ]
  },
  {
   "cell_type": "code",
   "execution_count": null,
   "metadata": {
    "collapsed": false
   },
   "outputs": [],
   "source": []
  },
  {
   "cell_type": "markdown",
   "metadata": {},
   "source": [
    "####Exercise 2h\n",
    "Compute and plot the injection rate of the injection well vs time."
   ]
  },
  {
   "cell_type": "code",
   "execution_count": null,
   "metadata": {
    "collapsed": false,
    "scrolled": true
   },
   "outputs": [],
   "source": []
  },
  {
   "cell_type": "code",
   "execution_count": null,
   "metadata": {
    "collapsed": true
   },
   "outputs": [],
   "source": []
  }
 ],
 "metadata": {
  "kernelspec": {
   "display_name": "Python 2",
   "language": "python",
   "name": "python2"
  },
  "language_info": {
   "codemirror_mode": {
    "name": "ipython",
    "version": 2
   },
   "file_extension": ".py",
   "mimetype": "text/x-python",
   "name": "python",
   "nbconvert_exporter": "python",
   "pygments_lexer": "ipython2",
   "version": "2.7.10"
  }
 },
 "nbformat": 4,
 "nbformat_minor": 0
}
