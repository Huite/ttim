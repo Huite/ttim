{
 "cells": [
  {
   "cell_type": "markdown",
   "metadata": {},
   "source": [
    "# Confined Aquifer Test\n",
    "This example is taken from Kruseman and de Ridder (1970), pp xx"
   ]
  },
  {
   "cell_type": "code",
   "execution_count": 1,
   "metadata": {},
   "outputs": [],
   "source": [
    "%matplotlib inline\n",
    "import numpy as np\n",
    "import matplotlib.pyplot as plt\n",
    "from ttim import *"
   ]
  },
  {
   "cell_type": "markdown",
   "metadata": {},
   "source": [
    "Set basic parameters for the model:"
   ]
  },
  {
   "cell_type": "code",
   "execution_count": 2,
   "metadata": {},
   "outputs": [],
   "source": [
    "H = 7 #aquifer thickness\n",
    "zt = -18 #top boundary of aquifer\n",
    "zb = zt - H #bottom boundary of aquifer\n",
    "Q = 788 #constant discharge"
   ]
  },
  {
   "cell_type": "markdown",
   "metadata": {},
   "source": [
    "Create conceptual model:"
   ]
  },
  {
   "cell_type": "code",
   "execution_count": 3,
   "metadata": {},
   "outputs": [],
   "source": [
    "#unkonwn parameters: kaq, Saq\n",
    "ml = ModelMaq(kaq=60, z=[zt, zb], Saq=1e-4, tmin=1e-5, tmax=1)\n",
    "w = Well(ml, xw=0, yw=0, rw=0.2, tsandQ=[(0, Q)], layers=0)\n",
    "ml.solve(silent='True')"
   ]
  },
  {
   "cell_type": "markdown",
   "metadata": {},
   "source": [
    "Load data of two observation wells:"
   ]
  },
  {
   "cell_type": "code",
   "execution_count": 4,
   "metadata": {},
   "outputs": [],
   "source": [
    "#time and drawdown of pizometer 30m away from pumping well\n",
    "data1 = np.loadtxt('data/piezometer_h30.txt', skiprows = 1)\n",
    "t1 = data1[:, 0] / 60 / 24 #convert min to days\n",
    "h1 = data1[:, 1]\n",
    "r1 = 30\n",
    "#time and drawdown of piezometer 90m away from pumping well\n",
    "data2 = np.loadtxt('data/piezometer_h90.txt', skiprows = 1)\n",
    "t2 = data2[:, 0] / 60 / 24 #convert min to days\n",
    "h2 = data2[:, 1]\n",
    "r2 = 90"
   ]
  },
  {
   "cell_type": "markdown",
   "metadata": {},
   "source": [
    "Calibrate using only the data from observation well 1"
   ]
  },
  {
   "cell_type": "code",
   "execution_count": 5,
   "metadata": {},
   "outputs": [
    {
     "name": "stdout",
     "output_type": "stream",
     "text": [
      ".........................\n",
      "Fit succeeded.\n",
      "[[Fit Statistics]]\n",
      "    # fitting method   = leastsq\n",
      "    # function evals   = 22\n",
      "    # data points      = 34\n",
      "    # variables        = 2\n",
      "    chi-square         = 0.03408049\n",
      "    reduced chi-square = 0.00106502\n",
      "    Akaike info crit   = -230.783289\n",
      "    Bayesian info crit = -227.730568\n",
      "[[Variables]]\n",
      "    kaq0:  68.6394868 +/- 1.43827068 (2.10%) (init = 10)\n",
      "    Saq0:  1.6072e-05 +/- 1.5823e-06 (9.85%) (init = 0.0001)\n",
      "[[Correlations]] (unreported correlations are < 0.100)\n",
      "    C(kaq0, Saq0) = -0.891\n"
     ]
    },
    {
     "data": {
      "text/html": [
       "<div>\n",
       "<style scoped>\n",
       "    .dataframe tbody tr th:only-of-type {\n",
       "        vertical-align: middle;\n",
       "    }\n",
       "\n",
       "    .dataframe tbody tr th {\n",
       "        vertical-align: top;\n",
       "    }\n",
       "\n",
       "    .dataframe thead th {\n",
       "        text-align: right;\n",
       "    }\n",
       "</style>\n",
       "<table border=\"1\" class=\"dataframe\">\n",
       "  <thead>\n",
       "    <tr style=\"text-align: right;\">\n",
       "      <th></th>\n",
       "      <th>optimal</th>\n",
       "      <th>std</th>\n",
       "      <th>perc_std</th>\n",
       "      <th>pmin</th>\n",
       "      <th>pmax</th>\n",
       "      <th>initial</th>\n",
       "      <th>parray</th>\n",
       "    </tr>\n",
       "  </thead>\n",
       "  <tbody>\n",
       "    <tr>\n",
       "      <th>kaq0</th>\n",
       "      <td>68.6395</td>\n",
       "      <td>1.438271</td>\n",
       "      <td>2.0954</td>\n",
       "      <td>-inf</td>\n",
       "      <td>inf</td>\n",
       "      <td>10</td>\n",
       "      <td>[68.63948675671419]</td>\n",
       "    </tr>\n",
       "    <tr>\n",
       "      <th>Saq0</th>\n",
       "      <td>1.60717e-05</td>\n",
       "      <td>0.000002</td>\n",
       "      <td>9.84519</td>\n",
       "      <td>-inf</td>\n",
       "      <td>inf</td>\n",
       "      <td>0.0001</td>\n",
       "      <td>[1.6071655613732773e-05]</td>\n",
       "    </tr>\n",
       "  </tbody>\n",
       "</table>\n",
       "</div>"
      ],
      "text/plain": [
       "          optimal       std perc_std  pmin  pmax initial  \\\n",
       "kaq0      68.6395  1.438271   2.0954  -inf   inf      10   \n",
       "Saq0  1.60717e-05  0.000002  9.84519  -inf   inf  0.0001   \n",
       "\n",
       "                        parray  \n",
       "kaq0       [68.63948675671419]  \n",
       "Saq0  [1.6071655613732773e-05]  "
      ]
     },
     "metadata": {},
     "output_type": "display_data"
    },
    {
     "name": "stdout",
     "output_type": "stream",
     "text": [
      "rmse: 0.031660183647463674\n"
     ]
    },
    {
     "data": {
      "image/png": "[encoded data removed]",
      "text/plain": [
       "<Figure size 432x288 with 1 Axes>"
      ]
     },
     "metadata": {
      "needs_background": "light"
     },
     "output_type": "display_data"
    }
   ],
   "source": [
    "ca = Calibrate(ml)\n",
    "ca.set_parameter(name='kaq0', initial=10)\n",
    "ca.set_parameter(name='Saq0', initial=1e-4)\n",
    "ca.series(name='obs1', x=r1, y=0, t=t1, h=h1, layer=0)\n",
    "ca.fit(report=True)\n",
    "display(ca.parameters)\n",
    "print('rmse:', ca.rmse())\n",
    "hm1 = ml.head(r1, 0, t1)\n",
    "plt.semilogx(t1, h1, '.', label='obs at 30m')\n",
    "plt.semilogx(t1, hm1[0], label='ttim at 30 m')\n",
    "plt.xlabel('time(d)')\n",
    "plt.ylabel('drawdown(m)')\n",
    "plt.title('ttim analysis for Oude Korendijk')\n",
    "plt.legend();"
   ]
  },
  {
   "cell_type": "markdown",
   "metadata": {},
   "source": [
    "Calibrate using only the data from observation well 2"
   ]
  },
  {
   "cell_type": "code",
   "execution_count": 6,
   "metadata": {},
   "outputs": [
    {
     "name": "stdout",
     "output_type": "stream",
     "text": [
      "...............................\n",
      "Fit succeeded.\n",
      "[[Fit Statistics]]\n",
      "    # fitting method   = leastsq\n",
      "    # function evals   = 28\n",
      "    # data points      = 35\n",
      "    # variables        = 2\n",
      "    chi-square         = 0.01806492\n",
      "    reduced chi-square = 5.4742e-04\n",
      "    Akaike info crit   = -260.919608\n",
      "    Bayesian info crit = -257.808912\n",
      "[[Variables]]\n",
      "    kaq0:  71.5831423 +/- 1.57402551 (2.20%) (init = 10)\n",
      "    Saq0:  2.9106e-05 +/- 1.9379e-06 (6.66%) (init = 0.0001)\n",
      "[[Correlations]] (unreported correlations are < 0.100)\n",
      "    C(kaq0, Saq0) = -0.847\n"
     ]
    },
    {
     "data": {
      "text/html": [
       "<div>\n",
       "<style scoped>\n",
       "    .dataframe tbody tr th:only-of-type {\n",
       "        vertical-align: middle;\n",
       "    }\n",
       "\n",
       "    .dataframe tbody tr th {\n",
       "        vertical-align: top;\n",
       "    }\n",
       "\n",
       "    .dataframe thead th {\n",
       "        text-align: right;\n",
       "    }\n",
       "</style>\n",
       "<table border=\"1\" class=\"dataframe\">\n",
       "  <thead>\n",
       "    <tr style=\"text-align: right;\">\n",
       "      <th></th>\n",
       "      <th>optimal</th>\n",
       "      <th>std</th>\n",
       "      <th>perc_std</th>\n",
       "      <th>pmin</th>\n",
       "      <th>pmax</th>\n",
       "      <th>initial</th>\n",
       "      <th>parray</th>\n",
       "    </tr>\n",
       "  </thead>\n",
       "  <tbody>\n",
       "    <tr>\n",
       "      <th>kaq0</th>\n",
       "      <td>71.5831</td>\n",
       "      <td>1.574026</td>\n",
       "      <td>2.19888</td>\n",
       "      <td>-inf</td>\n",
       "      <td>inf</td>\n",
       "      <td>10</td>\n",
       "      <td>[71.58314231775141]</td>\n",
       "    </tr>\n",
       "    <tr>\n",
       "      <th>Saq0</th>\n",
       "      <td>2.91065e-05</td>\n",
       "      <td>0.000002</td>\n",
       "      <td>6.65787</td>\n",
       "      <td>-inf</td>\n",
       "      <td>inf</td>\n",
       "      <td>0.0001</td>\n",
       "      <td>[2.910648177493867e-05]</td>\n",
       "    </tr>\n",
       "  </tbody>\n",
       "</table>\n",
       "</div>"
      ],
      "text/plain": [
       "          optimal       std perc_std  pmin  pmax initial  \\\n",
       "kaq0      71.5831  1.574026  2.19888  -inf   inf      10   \n",
       "Saq0  2.91065e-05  0.000002  6.65787  -inf   inf  0.0001   \n",
       "\n",
       "                       parray  \n",
       "kaq0      [71.58314231775141]  \n",
       "Saq0  [2.910648177493867e-05]  "
      ]
     },
     "metadata": {},
     "output_type": "display_data"
    },
    {
     "name": "stdout",
     "output_type": "stream",
     "text": [
      "rmse: 0.022718724430908815\n"
     ]
    },
    {
     "data": {
      "image/png": "[encoded data removed]",
      "text/plain": [
       "<Figure size 576x360 with 1 Axes>"
      ]
     },
     "metadata": {
      "needs_background": "light"
     },
     "output_type": "display_data"
    }
   ],
   "source": [
    "ca = Calibrate(ml)\n",
    "ca.set_parameter(name='kaq0', initial=10)\n",
    "ca.set_parameter(name='Saq0', initial=1e-4)\n",
    "ca.series(name='obs2', x=r2, y=0, t=t2, h=h2, layer=0)\n",
    "ca.fit(report=True)\n",
    "display(ca.parameters)\n",
    "print('rmse:', ca.rmse())\n",
    "hm2 = ml.head(r2, 0 ,t2)\n",
    "plt.figure(figsize = (8, 5))\n",
    "plt.semilogx(t2, h2, '.', label='obs at 90m')\n",
    "plt.semilogx(t2, hm2[0], label = 'ttim at 90m')\n",
    "plt.xlabel('time(d)')\n",
    "plt.ylabel('drawdown(m)')\n",
    "plt.title('ttim analysis for Oude Korendijk')\n",
    "plt.legend();"
   ]
  },
  {
   "cell_type": "markdown",
   "metadata": {},
   "source": [
    "Calibrate model with two datasets simultaneously:"
   ]
  },
  {
   "cell_type": "code",
   "execution_count": 7,
   "metadata": {},
   "outputs": [
    {
     "name": "stdout",
     "output_type": "stream",
     "text": [
      "..................................\n",
      "Fit succeeded.\n",
      "[[Fit Statistics]]\n",
      "    # fitting method   = leastsq\n",
      "    # function evals   = 31\n",
      "    # data points      = 69\n",
      "    # variables        = 2\n",
      "    chi-square         = 0.17291362\n",
      "    reduced chi-square = 0.00258080\n",
      "    Akaike info crit   = -409.245802\n",
      "    Bayesian info crit = -404.777589\n",
      "[[Variables]]\n",
      "    kaq0:  66.0893566 +/- 1.65498708 (2.50%) (init = 10)\n",
      "    Saq0:  2.5409e-05 +/- 2.4016e-06 (9.45%) (init = 0.0001)\n",
      "[[Correlations]] (unreported correlations are < 0.100)\n",
      "    C(kaq0, Saq0) = -0.855\n"
     ]
    },
    {
     "data": {
      "text/html": [
       "<div>\n",
       "<style scoped>\n",
       "    .dataframe tbody tr th:only-of-type {\n",
       "        vertical-align: middle;\n",
       "    }\n",
       "\n",
       "    .dataframe tbody tr th {\n",
       "        vertical-align: top;\n",
       "    }\n",
       "\n",
       "    .dataframe thead th {\n",
       "        text-align: right;\n",
       "    }\n",
       "</style>\n",
       "<table border=\"1\" class=\"dataframe\">\n",
       "  <thead>\n",
       "    <tr style=\"text-align: right;\">\n",
       "      <th></th>\n",
       "      <th>optimal</th>\n",
       "      <th>std</th>\n",
       "      <th>perc_std</th>\n",
       "      <th>pmin</th>\n",
       "      <th>pmax</th>\n",
       "      <th>initial</th>\n",
       "      <th>parray</th>\n",
       "    </tr>\n",
       "  </thead>\n",
       "  <tbody>\n",
       "    <tr>\n",
       "      <th>kaq0</th>\n",
       "      <td>66.0894</td>\n",
       "      <td>1.654987</td>\n",
       "      <td>2.50417</td>\n",
       "      <td>-inf</td>\n",
       "      <td>inf</td>\n",
       "      <td>10</td>\n",
       "      <td>[66.0893566210241]</td>\n",
       "    </tr>\n",
       "    <tr>\n",
       "      <th>Saq0</th>\n",
       "      <td>2.54086e-05</td>\n",
       "      <td>0.000002</td>\n",
       "      <td>9.45189</td>\n",
       "      <td>-inf</td>\n",
       "      <td>inf</td>\n",
       "      <td>0.0001</td>\n",
       "      <td>[2.5408624326744147e-05]</td>\n",
       "    </tr>\n",
       "  </tbody>\n",
       "</table>\n",
       "</div>"
      ],
      "text/plain": [
       "          optimal       std perc_std  pmin  pmax initial  \\\n",
       "kaq0      66.0894  1.654987  2.50417  -inf   inf      10   \n",
       "Saq0  2.54086e-05  0.000002  9.45189  -inf   inf  0.0001   \n",
       "\n",
       "                        parray  \n",
       "kaq0        [66.0893566210241]  \n",
       "Saq0  [2.5408624326744147e-05]  "
      ]
     },
     "metadata": {},
     "output_type": "display_data"
    }
   ],
   "source": [
    "ca = Calibrate(ml)\n",
    "ca.set_parameter(name='kaq0', initial=10)\n",
    "ca.set_parameter(name='Saq0', initial=1e-4)\n",
    "ca.series(name='obs1', x=r1, y=0, t=t1, h=h1, layer=0)\n",
    "ca.series(name='obs2', x=r2, y=0, t=t2, h=h2, layer=0)\n",
    "ca.fit(report=True)\n",
    "display(ca.parameters)"
   ]
  },
  {
   "cell_type": "code",
   "execution_count": 8,
   "metadata": {},
   "outputs": [
    {
     "name": "stdout",
     "output_type": "stream",
     "text": [
      "rmse: 0.050059909702252964\n"
     ]
    },
    {
     "data": {
      "image/png": "[encoded data removed]",
      "text/plain": [
       "<Figure size 576x360 with 1 Axes>"
      ]
     },
     "metadata": {
      "needs_background": "light"
     },
     "output_type": "display_data"
    }
   ],
   "source": [
    "print('rmse:', ca.rmse())\n",
    "hm1 = ml.head(r1, 0, t1)\n",
    "hm2 = ml.head(r2, 0 ,t2)\n",
    "plt.figure(figsize = (8, 5))\n",
    "plt.semilogx(t1, h1, '.', label='obs at 30m')\n",
    "plt.semilogx(t1, hm1[0], label='ttim at 30 m')\n",
    "plt.semilogx(t2, h2, '.', label='obs at 90m')\n",
    "plt.semilogx(t2, hm2[0], label = 'ttim at 90m')\n",
    "plt.xlabel('time(d)')\n",
    "plt.ylabel('drawdown(m)')\n",
    "plt.title('ttim analysis for Oude Korendijk')\n",
    "plt.legend();"
   ]
  },
  {
   "cell_type": "markdown",
   "metadata": {},
   "source": [
    "Investigate whether adding well bore storage improves the fit"
   ]
  },
  {
   "cell_type": "markdown",
   "metadata": {},
   "source": [
    "Create conceptual model:"
   ]
  },
  {
   "cell_type": "code",
   "execution_count": 10,
   "metadata": {},
   "outputs": [],
   "source": [
    "#unkonwn parameters: kaq, Saq and rc\n",
    "ml = ModelMaq(kaq=60, z=[zt, zb], Saq=1e-4, tmin=1e-5, tmax=1)\n",
    "w = Well(ml, xw=0, yw=0, rw=0.2, rc=0.2, tsandQ=[(0, Q)], layers=0)\n",
    "ml.solve(silent='True')"
   ]
  },
  {
   "cell_type": "markdown",
   "metadata": {},
   "source": [
    "Calibrate using only the data from observation well 1"
   ]
  },
  {
   "cell_type": "code",
   "execution_count": 13,
   "metadata": {},
   "outputs": [
    {
     "name": "stdout",
     "output_type": "stream",
     "text": [
      "..............................................................................................................\n",
      "Fit succeeded.\n",
      "[[Fit Statistics]]\n",
      "    # fitting method   = leastsq\n",
      "    # function evals   = 107\n",
      "    # data points      = 34\n",
      "    # variables        = 3\n",
      "    chi-square         = 0.00793101\n",
      "    reduced chi-square = 2.5584e-04\n",
      "    Akaike info crit   = -278.353420\n",
      "    Bayesian info crit = -273.774339\n",
      "[[Variables]]\n",
      "    kaq0:  81.0504417 +/- 1.75101696 (2.16%) (init = 10)\n",
      "    Saq0:  5.3971e-06 +/- 7.9748e-07 (14.78%) (init = 0.0001)\n",
      "    rc:    0.30539594 +/- 0.01764557 (5.78%) (init = 0.2)\n",
      "[[Correlations]] (unreported correlations are < 0.100)\n",
      "    C(kaq0, Saq0) = -0.976\n",
      "    C(Saq0, rc)   = -0.875\n",
      "    C(kaq0, rc)   =  0.835\n"
     ]
    },
    {
     "data": {
      "text/html": [
       "<div>\n",
       "<style scoped>\n",
       "    .dataframe tbody tr th:only-of-type {\n",
       "        vertical-align: middle;\n",
       "    }\n",
       "\n",
       "    .dataframe tbody tr th {\n",
       "        vertical-align: top;\n",
       "    }\n",
       "\n",
       "    .dataframe thead th {\n",
       "        text-align: right;\n",
       "    }\n",
       "</style>\n",
       "<table border=\"1\" class=\"dataframe\">\n",
       "  <thead>\n",
       "    <tr style=\"text-align: right;\">\n",
       "      <th></th>\n",
       "      <th>optimal</th>\n",
       "      <th>std</th>\n",
       "      <th>perc_std</th>\n",
       "      <th>pmin</th>\n",
       "      <th>pmax</th>\n",
       "      <th>initial</th>\n",
       "      <th>parray</th>\n",
       "    </tr>\n",
       "  </thead>\n",
       "  <tbody>\n",
       "    <tr>\n",
       "      <th>kaq0</th>\n",
       "      <td>81.0504</td>\n",
       "      <td>1.751017e+00</td>\n",
       "      <td>2.1604</td>\n",
       "      <td>-inf</td>\n",
       "      <td>inf</td>\n",
       "      <td>10</td>\n",
       "      <td>[81.05044169941328]</td>\n",
       "    </tr>\n",
       "    <tr>\n",
       "      <th>Saq0</th>\n",
       "      <td>5.39706e-06</td>\n",
       "      <td>7.974796e-07</td>\n",
       "      <td>14.7762</td>\n",
       "      <td>-inf</td>\n",
       "      <td>inf</td>\n",
       "      <td>0.0001</td>\n",
       "      <td>[5.397059276166974e-06]</td>\n",
       "    </tr>\n",
       "    <tr>\n",
       "      <th>rc</th>\n",
       "      <td>0.305396</td>\n",
       "      <td>1.764557e-02</td>\n",
       "      <td>5.77793</td>\n",
       "      <td>0.01</td>\n",
       "      <td>inf</td>\n",
       "      <td>0.2</td>\n",
       "      <td>[0.30539593886811867]</td>\n",
       "    </tr>\n",
       "  </tbody>\n",
       "</table>\n",
       "</div>"
      ],
      "text/plain": [
       "          optimal           std perc_std  pmin  pmax initial  \\\n",
       "kaq0      81.0504  1.751017e+00   2.1604  -inf   inf      10   \n",
       "Saq0  5.39706e-06  7.974796e-07  14.7762  -inf   inf  0.0001   \n",
       "rc       0.305396  1.764557e-02  5.77793  0.01   inf     0.2   \n",
       "\n",
       "                       parray  \n",
       "kaq0      [81.05044169941328]  \n",
       "Saq0  [5.397059276166974e-06]  \n",
       "rc      [0.30539593886811867]  "
      ]
     },
     "metadata": {},
     "output_type": "display_data"
    },
    {
     "name": "stdout",
     "output_type": "stream",
     "text": [
      "rmse: 0.015273011793820228\n"
     ]
    },
    {
     "data": {
      "image/png": "[encoded data removed]",
      "text/plain": [
       "<Figure size 432x288 with 1 Axes>"
      ]
     },
     "metadata": {
      "needs_background": "light"
     },
     "output_type": "display_data"
    }
   ],
   "source": [
    "ca = Calibrate(ml)\n",
    "ca.set_parameter(name='kaq0', initial=10)\n",
    "ca.set_parameter(name='Saq0', initial=1e-4)\n",
    "ca.set_parameter_by_reference(name='rc', parameter=w.rc[0:], initial=0.2, pmin=0.01)\n",
    "ca.series(name='obs1', x=r1, y=0, t=t1, h=h1, layer=0)\n",
    "ca.fit(report=True)\n",
    "display(ca.parameters)\n",
    "print('rmse:', ca.rmse())\n",
    "hm1 = ml.head(r1, 0, t1)\n",
    "plt.semilogx(t1, h1, '.', label='obs at 30m')\n",
    "plt.semilogx(t1, hm1[0], label='ttim at 30 m')\n",
    "plt.xlabel('time(d)')\n",
    "plt.ylabel('drawdown(m)')\n",
    "plt.title('ttim analysis for Oude Korendijk')\n",
    "plt.legend();"
   ]
  },
  {
   "cell_type": "markdown",
   "metadata": {},
   "source": [
    "Calibrate using only the data from observation well 2"
   ]
  },
  {
   "cell_type": "code",
   "execution_count": 14,
   "metadata": {},
   "outputs": [
    {
     "name": "stdout",
     "output_type": "stream",
     "text": [
      ".....................................................................................................\n",
      "Fit succeeded.\n",
      "[[Fit Statistics]]\n",
      "    # fitting method   = leastsq\n",
      "    # function evals   = 98\n",
      "    # data points      = 35\n",
      "    # variables        = 3\n",
      "    chi-square         = 0.00135387\n",
      "    reduced chi-square = 4.2309e-05\n",
      "    Akaike info crit   = -349.604655\n",
      "    Bayesian info crit = -344.938611\n",
      "[[Variables]]\n",
      "    kaq0:  88.2895898 +/- 1.48506422 (1.68%) (init = 10)\n",
      "    Saq0:  1.1359e-05 +/- 9.4427e-07 (8.31%) (init = 0.0001)\n",
      "    rc:    0.67472113 +/- 0.03065095 (4.54%) (init = 0.2)\n",
      "[[Correlations]] (unreported correlations are < 0.100)\n",
      "    C(kaq0, Saq0) = -0.982\n",
      "    C(Saq0, rc)   = -0.942\n",
      "    C(kaq0, rc)   =  0.915\n"
     ]
    },
    {
     "data": {
      "text/html": [
       "<div>\n",
       "<style scoped>\n",
       "    .dataframe tbody tr th:only-of-type {\n",
       "        vertical-align: middle;\n",
       "    }\n",
       "\n",
       "    .dataframe tbody tr th {\n",
       "        vertical-align: top;\n",
       "    }\n",
       "\n",
       "    .dataframe thead th {\n",
       "        text-align: right;\n",
       "    }\n",
       "</style>\n",
       "<table border=\"1\" class=\"dataframe\">\n",
       "  <thead>\n",
       "    <tr style=\"text-align: right;\">\n",
       "      <th></th>\n",
       "      <th>optimal</th>\n",
       "      <th>std</th>\n",
       "      <th>perc_std</th>\n",
       "      <th>pmin</th>\n",
       "      <th>pmax</th>\n",
       "      <th>initial</th>\n",
       "      <th>parray</th>\n",
       "    </tr>\n",
       "  </thead>\n",
       "  <tbody>\n",
       "    <tr>\n",
       "      <th>kaq0</th>\n",
       "      <td>88.2896</td>\n",
       "      <td>1.485064e+00</td>\n",
       "      <td>1.68204</td>\n",
       "      <td>-inf</td>\n",
       "      <td>inf</td>\n",
       "      <td>10</td>\n",
       "      <td>[88.28958983520761]</td>\n",
       "    </tr>\n",
       "    <tr>\n",
       "      <th>Saq0</th>\n",
       "      <td>1.13593e-05</td>\n",
       "      <td>9.442702e-07</td>\n",
       "      <td>8.31274</td>\n",
       "      <td>-inf</td>\n",
       "      <td>inf</td>\n",
       "      <td>0.0001</td>\n",
       "      <td>[1.1359310348431427e-05]</td>\n",
       "    </tr>\n",
       "    <tr>\n",
       "      <th>rc</th>\n",
       "      <td>0.674721</td>\n",
       "      <td>3.065095e-02</td>\n",
       "      <td>4.54276</td>\n",
       "      <td>0.01</td>\n",
       "      <td>inf</td>\n",
       "      <td>0.2</td>\n",
       "      <td>[0.6747211333571737]</td>\n",
       "    </tr>\n",
       "  </tbody>\n",
       "</table>\n",
       "</div>"
      ],
      "text/plain": [
       "          optimal           std perc_std  pmin  pmax initial  \\\n",
       "kaq0      88.2896  1.485064e+00  1.68204  -inf   inf      10   \n",
       "Saq0  1.13593e-05  9.442702e-07  8.31274  -inf   inf  0.0001   \n",
       "rc       0.674721  3.065095e-02  4.54276  0.01   inf     0.2   \n",
       "\n",
       "                        parray  \n",
       "kaq0       [88.28958983520761]  \n",
       "Saq0  [1.1359310348431427e-05]  \n",
       "rc        [0.6747211333571737]  "
      ]
     },
     "metadata": {},
     "output_type": "display_data"
    },
    {
     "name": "stdout",
     "output_type": "stream",
     "text": [
      "rmse: 0.006219495428404363\n"
     ]
    },
    {
     "data": {
      "image/png": "[encoded data removed]",
      "text/plain": [
       "<Figure size 576x360 with 1 Axes>"
      ]
     },
     "metadata": {
      "needs_background": "light"
     },
     "output_type": "display_data"
    }
   ],
   "source": [
    "ca = Calibrate(ml)\n",
    "ca.set_parameter(name='kaq0', initial=10)\n",
    "ca.set_parameter(name='Saq0', initial=1e-4)\n",
    "ca.set_parameter_by_reference(name='rc', parameter=w.rc[0:], initial=0.2, pmin=0.01)\n",
    "ca.series(name='obs2', x=r2, y=0, t=t2, h=h2, layer=0)\n",
    "ca.fit(report=True)\n",
    "display(ca.parameters)\n",
    "print('rmse:', ca.rmse())\n",
    "hm2 = ml.head(r2, 0 ,t2)\n",
    "plt.figure(figsize = (8, 5))\n",
    "plt.semilogx(t2, h2, '.', label='obs at 90m')\n",
    "plt.semilogx(t2, hm2[0], label = 'ttim at 90m')\n",
    "plt.xlabel('time(d)')\n",
    "plt.ylabel('drawdown(m)')\n",
    "plt.title('ttim analysis for Oude Korendijk')\n",
    "plt.legend();"
   ]
  },
  {
   "cell_type": "markdown",
   "metadata": {},
   "source": [
    "Calibrate model with two datasets simultaneously (not much improvement, `rc` approaches minimum value)."
   ]
  },
  {
   "cell_type": "code",
   "execution_count": 17,
   "metadata": {},
   "outputs": [
    {
     "name": "stdout",
     "output_type": "stream",
     "text": [
      "............................................................................\n",
      "Fit succeeded.\n",
      "[[Fit Statistics]]\n",
      "    # fitting method   = leastsq\n",
      "    # function evals   = 73\n",
      "    # data points      = 69\n",
      "    # variables        = 3\n",
      "    chi-square         = 0.17294884\n",
      "    reduced chi-square = 0.00262044\n",
      "    Akaike info crit   = -407.231751\n",
      "    Bayesian info crit = -400.529431\n",
      "[[Variables]]\n",
      "    kaq0:  66.0870106 +/- 1.69523201 (2.57%) (init = 10)\n",
      "    Saq0:  2.5407e-05 +/- 2.4950e-06 (9.82%) (init = 0.0001)\n",
      "    rc:    0.01000367 +/- 0.03290855 (328.96%) (init = 0.2)\n",
      "[[Correlations]] (unreported correlations are < 0.100)\n",
      "    C(kaq0, Saq0) = -0.860\n",
      "    C(Saq0, rc)   = -0.244\n",
      "    C(kaq0, rc)   =  0.180\n"
     ]
    },
    {
     "data": {
      "text/html": [
       "<div>\n",
       "<style scoped>\n",
       "    .dataframe tbody tr th:only-of-type {\n",
       "        vertical-align: middle;\n",
       "    }\n",
       "\n",
       "    .dataframe tbody tr th {\n",
       "        vertical-align: top;\n",
       "    }\n",
       "\n",
       "    .dataframe thead th {\n",
       "        text-align: right;\n",
       "    }\n",
       "</style>\n",
       "<table border=\"1\" class=\"dataframe\">\n",
       "  <thead>\n",
       "    <tr style=\"text-align: right;\">\n",
       "      <th></th>\n",
       "      <th>optimal</th>\n",
       "      <th>std</th>\n",
       "      <th>perc_std</th>\n",
       "      <th>pmin</th>\n",
       "      <th>pmax</th>\n",
       "      <th>initial</th>\n",
       "      <th>parray</th>\n",
       "    </tr>\n",
       "  </thead>\n",
       "  <tbody>\n",
       "    <tr>\n",
       "      <th>kaq0</th>\n",
       "      <td>66.087</td>\n",
       "      <td>1.695232</td>\n",
       "      <td>2.56515</td>\n",
       "      <td>-inf</td>\n",
       "      <td>inf</td>\n",
       "      <td>10</td>\n",
       "      <td>[66.08701056954243]</td>\n",
       "    </tr>\n",
       "    <tr>\n",
       "      <th>Saq0</th>\n",
       "      <td>2.54067e-05</td>\n",
       "      <td>0.000002</td>\n",
       "      <td>9.82034</td>\n",
       "      <td>-inf</td>\n",
       "      <td>inf</td>\n",
       "      <td>0.0001</td>\n",
       "      <td>[2.5406717388181246e-05]</td>\n",
       "    </tr>\n",
       "    <tr>\n",
       "      <th>rc</th>\n",
       "      <td>0.0100037</td>\n",
       "      <td>0.032909</td>\n",
       "      <td>328.965</td>\n",
       "      <td>0.01</td>\n",
       "      <td>inf</td>\n",
       "      <td>0.2</td>\n",
       "      <td>[0.010003671865020713]</td>\n",
       "    </tr>\n",
       "  </tbody>\n",
       "</table>\n",
       "</div>"
      ],
      "text/plain": [
       "          optimal       std perc_std  pmin  pmax initial  \\\n",
       "kaq0       66.087  1.695232  2.56515  -inf   inf      10   \n",
       "Saq0  2.54067e-05  0.000002  9.82034  -inf   inf  0.0001   \n",
       "rc      0.0100037  0.032909  328.965  0.01   inf     0.2   \n",
       "\n",
       "                        parray  \n",
       "kaq0       [66.08701056954243]  \n",
       "Saq0  [2.5406717388181246e-05]  \n",
       "rc      [0.010003671865020713]  "
      ]
     },
     "metadata": {},
     "output_type": "display_data"
    }
   ],
   "source": [
    "ca = Calibrate(ml)\n",
    "ca.set_parameter(name='kaq0', initial=10)\n",
    "ca.set_parameter(name='Saq0', initial=1e-4)\n",
    "ca.set_parameter_by_reference(name='rc', parameter=w.rc[0:], initial=0.2, pmin=0.01)\n",
    "ca.series(name='obs1', x=r1, y=0, t=t1, h=h1, layer=0)\n",
    "ca.series(name='obs2', x=r2, y=0, t=t2, h=h2, layer=0)\n",
    "ca.fit(report=True)\n",
    "display(ca.parameters)"
   ]
  },
  {
   "cell_type": "code",
   "execution_count": 18,
   "metadata": {},
   "outputs": [
    {
     "name": "stdout",
     "output_type": "stream",
     "text": [
      "rmse: 0.050065007003576\n"
     ]
    },
    {
     "data": {
      "image/png": "[encoded data removed]",
      "text/plain": [
       "<Figure size 576x360 with 1 Axes>"
      ]
     },
     "metadata": {
      "needs_background": "light"
     },
     "output_type": "display_data"
    }
   ],
   "source": [
    "print('rmse:', ca.rmse())\n",
    "hm1 = ml.head(r1, 0, t1)\n",
    "hm2 = ml.head(r2, 0 ,t2)\n",
    "plt.figure(figsize = (8, 5))\n",
    "plt.semilogx(t1, h1, '.', label='obs at 30m')\n",
    "plt.semilogx(t1, hm1[0], label='ttim at 30 m')\n",
    "plt.semilogx(t2, h2, '.', label='obs at 90m')\n",
    "plt.semilogx(t2, hm2[0], label = 'ttim at 90m')\n",
    "plt.xlabel('time(d)')\n",
    "plt.ylabel('drawdown(m)')\n",
    "plt.title('ttim analysis for Oude Korendijk')\n",
    "plt.legend();"
   ]
  },
  {
   "cell_type": "markdown",
   "metadata": {},
   "source": [
    "## Summary of values presented in Kruseman and de Ridder (1970).\n",
    "To be added"
   ]
  }
 ],
 "metadata": {
  "kernelspec": {
   "display_name": "Python 3",
   "language": "python",
   "name": "python3"
  },
  "language_info": {
   "codemirror_mode": {
    "name": "ipython",
    "version": 3
   },
   "file_extension": ".py",
   "mimetype": "text/x-python",
   "name": "python",
   "nbconvert_exporter": "python",
   "pygments_lexer": "ipython3",
   "version": "3.8.2"
  }
 },
 "nbformat": 4,
 "nbformat_minor": 4
}
