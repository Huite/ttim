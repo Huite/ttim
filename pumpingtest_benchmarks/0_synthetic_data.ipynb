{
 "cells": [
  {
   "cell_type": "markdown",
   "metadata": {},
   "source": [
    "# Confidence Interval Test for Confined Aquifers\n",
    "**Synthetic data**"
   ]
  },
  {
   "cell_type": "code",
   "execution_count": null,
   "metadata": {},
   "outputs": [],
   "source": [
    "%matplotlib inline\n",
    "import numpy as np\n",
    "import matplotlib.pyplot as plt\n",
    "from ttim import *"
   ]
  },
  {
   "cell_type": "markdown",
   "metadata": {},
   "source": [
    "Set basic parameters for the model:"
   ]
  },
  {
   "cell_type": "code",
   "execution_count": null,
   "metadata": {},
   "outputs": [],
   "source": [
    "H = 7 #aquifer thickness\n",
    "k = 70 #hydraulic conductivity\n",
    "S = 1e-4 #specific storage\n",
    "Q = 788 #constant discharge\n",
    "d1 = 30 #observation well 1\n",
    "d2 = 90 #observation well 2 (positions same as for Oude Korendijk)"
   ]
  },
  {
   "cell_type": "markdown",
   "metadata": {},
   "source": [
    "Load data of test site 'Oude Korendijk':"
   ]
  },
  {
   "cell_type": "code",
   "execution_count": null,
   "metadata": {},
   "outputs": [],
   "source": [
    "data1 = np.loadtxt('data/piezometer_h30.txt', skiprows = 1)\n",
    "t = data1[:, 0] / 60 / 24 # convert min to days"
   ]
  },
  {
   "cell_type": "markdown",
   "metadata": {},
   "source": [
    "Create conceptual model:"
   ]
  },
  {
   "cell_type": "code",
   "execution_count": null,
   "metadata": {},
   "outputs": [],
   "source": [
    "ml = ModelMaq(kaq=70, z =[-18, -25], Saq=1e-4, tmin=1e-5, tmax=1)\n",
    "w = Well(ml, xw=0, yw=0, rw=0.1, tsandQ=[(0, 788)])\n",
    "ml.solve(silent='True')\n",
    "h1 = ml.head(d1, 0, t)\n",
    "h2 = ml.head(d2, 0, t)"
   ]
  },
  {
   "cell_type": "markdown",
   "metadata": {},
   "source": [
    "Add noises:"
   ]
  },
  {
   "cell_type": "code",
   "execution_count": null,
   "metadata": {},
   "outputs": [],
   "source": [
    "np.savetxt('data/syn_30_0.0.txt', h1[0])\n",
    "np.savetxt('data/syn_90_0.0.txt', h2[0])\n",
    "#print(h2[0])"
   ]
  },
  {
   "cell_type": "code",
   "execution_count": null,
   "metadata": {},
   "outputs": [],
   "source": [
    "np.random.seed(5)\n",
    "he12 = h1[0] - np.random.randn(len(t)) * 0.02\n",
    "he22 = h2[0] - np.random.randn(len(t)) * 0.02\n",
    "np.savetxt('data/syn_p30_0.02.txt', he12)\n",
    "np.savetxt('data/syn_p90_0.02.txt', he22)"
   ]
  },
  {
   "cell_type": "code",
   "execution_count": null,
   "metadata": {},
   "outputs": [],
   "source": [
    "np.random.seed(4)\n",
    "he15 = h1[0] - np.random.randn(len(t)) * 0.05\n",
    "he25 = h2[0] - np.random.randn(len(t)) * 0.05\n",
    "np.savetxt('data/syn_p30_0.05.txt', he15)\n",
    "np.savetxt('data/syn_p90_0.05.txt', he25)"
   ]
  },
  {
   "cell_type": "code",
   "execution_count": null,
   "metadata": {},
   "outputs": [],
   "source": [
    "plt.figure(figsize=(8, 5))\n",
    "plt.semilogx(t, he12, '.', label='obs at 30 m with sig=0.02')\n",
    "plt.semilogx(t, h1[0], label='ttim at 30 m')\n",
    "plt.semilogx(t, he22, '.', label='obs at 90 m with sig=0.02')\n",
    "plt.semilogx(t, h2[0], label='ttim at 90 m')\n",
    "plt.legend()\n",
    "plt.xlabel('time (d)')\n",
    "plt.ylabel('drawdown (m)');"
   ]
  },
  {
   "cell_type": "code",
   "execution_count": null,
   "metadata": {},
   "outputs": [],
   "source": [
    "plt.figure(figsize=(8, 5))\n",
    "plt.semilogx(t, he15, '.', label='obs at 30 m with sig=0.05')\n",
    "plt.semilogx(t, h1[0], label='ttim at 30 m')\n",
    "plt.semilogx(t, he25, '.', label='obs at 90 m with sig=0.05')\n",
    "plt.semilogx(t, h2[0], label='ttim at 90 m')\n",
    "plt.legend()\n",
    "plt.xlabel('time (d)')\n",
    "plt.ylabel('drawdown (m)');"
   ]
  },
  {
   "cell_type": "markdown",
   "metadata": {},
   "source": [
    "#### Test if TTim finds the parameters back"
   ]
  },
  {
   "cell_type": "markdown",
   "metadata": {},
   "source": [
    "Calibrate with two datasets respectively (0.02):"
   ]
  },
  {
   "cell_type": "code",
   "execution_count": null,
   "metadata": {
    "scrolled": false
   },
   "outputs": [],
   "source": [
    "ca23 = Calibrate(ml)\n",
    "ca23.set_parameter(name='kaq0', initial=10)\n",
    "ca23.set_parameter(name='Saq0', initial=1e-3)\n",
    "ca23.series(name='obs1', x=d1, y=0, t=t, h=he12, layer=0)\n",
    "ca23.fit(report=True)\n",
    "display(ca23.parameters)"
   ]
  },
  {
   "cell_type": "code",
   "execution_count": null,
   "metadata": {},
   "outputs": [],
   "source": [
    "print('rmse:', ca23.rmse())\n",
    "h123 = ml.head(d1, 0, t)\n",
    "h223 = ml.head(d2, 0 ,t)\n",
    "plt.figure(figsize = (8, 5))\n",
    "plt.semilogx(t, he12, '.', label='obs at 30 m with sig=0.02')\n",
    "plt.semilogx(t, h123[0], label='ttim at 30 m')\n",
    "plt.semilogx(t, he22, '.', label='obs at 90 m with sig=0.02')\n",
    "plt.semilogx(t, h223[0], label='ttim at 90 m')\n",
    "plt.xlabel('time (d)')\n",
    "plt.ylabel('drawdown (m)')\n",
    "plt.title('ttim analysis with synthetic data, sig=0.02 errors at 30 m.')\n",
    "plt.legend();"
   ]
  },
  {
   "cell_type": "code",
   "execution_count": null,
   "metadata": {},
   "outputs": [],
   "source": [
    "ca29 = Calibrate(ml)\n",
    "ca29.set_parameter(name='kaq0', initial=10)\n",
    "ca29.set_parameter(name='Saq0', initial=1e-3)\n",
    "ca29.series(name='obs2', x=d2, y=0, t=t, h=he22, layer=0)\n",
    "ca29.fit(report=True)\n",
    "display(ca29.parameters)"
   ]
  },
  {
   "cell_type": "code",
   "execution_count": null,
   "metadata": {},
   "outputs": [],
   "source": [
    "print('rmse:', ca29.rmse())\n",
    "h129 = ml.head(d1, 0, t)\n",
    "h229 = ml.head(d2, 0, t)\n",
    "plt.figure(figsize = (8, 5))\n",
    "plt.semilogx(t, he15, '.', label='obs at 30 m with sig=0.02')\n",
    "plt.semilogx(t, h129[0], label='ttim at 30 m')\n",
    "plt.semilogx(t, he25, '.', label='obs at 90 m with sig=0.02')\n",
    "plt.semilogx(t, h229[0], label='ttim at 90 m')\n",
    "plt.legend()\n",
    "plt.xlabel('time (d)')\n",
    "plt.ylabel('drawdown (m)');\n",
    "plt.title('ttim analysis with synthetic data, sig=0.02 errors at 90 m.')\n",
    "plt.legend(loc = 'best');"
   ]
  },
  {
   "cell_type": "markdown",
   "metadata": {},
   "source": [
    "#### Calibrate with two datasets simultaneously"
   ]
  },
  {
   "cell_type": "markdown",
   "metadata": {},
   "source": [
    "Drawdown without errors:"
   ]
  },
  {
   "cell_type": "code",
   "execution_count": null,
   "metadata": {},
   "outputs": [],
   "source": [
    "ca0 = Calibrate(ml)\n",
    "ca0.set_parameter(name='kaq0', initial=10)\n",
    "ca0.set_parameter(name='Saq0', initial=1e-3)\n",
    "ca0.series(name='obs1', x=d1, y=0, t=t, h=h1[0], layer=0)\n",
    "ca0.series(name='obs2', x=d2, y=0, t=t, h=h2[0], layer=0)\n",
    "ca0.fit(report=True)\n",
    "display(ca0.parameters)"
   ]
  },
  {
   "cell_type": "code",
   "execution_count": null,
   "metadata": {
    "scrolled": true
   },
   "outputs": [],
   "source": [
    "print('rmse:', ca0.rmse())\n",
    "h1n = ml.head(d1, 0, t)\n",
    "h2n = ml.head(d2, 0, t)\n",
    "plt.figure(figsize = (7, 4))\n",
    "plt.semilogx(t, h1[0], 'b.', label='obs at 30 m no errors')\n",
    "plt.semilogx(t, h1n[0], color = 'r', label = 'ttim at 30 m')\n",
    "plt.semilogx(t, h2[0], 'g.', label='obs at 90 m no errors')\n",
    "plt.semilogx(t, h2n[0], color='orange', label = 'ttim at 90 m')\n",
    "plt.xlabel('time (d)')\n",
    "plt.ylabel('drawdown (m)')\n",
    "plt.title('ttim analysis with synthetic data without errors.')\n",
    "plt.legend();"
   ]
  },
  {
   "cell_type": "markdown",
   "metadata": {},
   "source": [
    "Drawdowns with errors with $\\sigma=0.02$."
   ]
  },
  {
   "cell_type": "code",
   "execution_count": null,
   "metadata": {},
   "outputs": [],
   "source": [
    "ca2 = Calibrate(ml)\n",
    "ca2.set_parameter(name='kaq0', initial=10)\n",
    "ca2.set_parameter(name='Saq0', initial=1e-3)\n",
    "ca2.series(name='obs1', x=d1, y=0, t=t, h=he12, layer=0)\n",
    "ca2.series(name='obs2', x=d2, y=0, t=t, h=he22, layer=0)\n",
    "ca2.fit()\n",
    "display(ca2.parameters)"
   ]
  },
  {
   "cell_type": "code",
   "execution_count": null,
   "metadata": {},
   "outputs": [],
   "source": [
    "print('rmse:', ca2.rmse())\n",
    "h12 = ml.head(d1, 0, t)\n",
    "h22 = ml.head(d2, 0, t)\n",
    "plt.figure(figsize = (8, 5))\n",
    "plt.semilogx(t, he12, 'b.', label='obs at 30 m, sig=0.02')\n",
    "plt.semilogx(t, h12[0], color = 'r', label = 'ttim at 30 m')\n",
    "plt.semilogx(t, he22, 'g.', label='obs at 90 m, sig=0.02')\n",
    "plt.semilogx(t, h22[0], color='orange', label = 'ttim at 90 m')\n",
    "plt.xlabel('time (d)')\n",
    "plt.ylabel('drawdown (m)')\n",
    "plt.title('ttim analysis with synthetic data and errors with sig=0.02')\n",
    "plt.legend();"
   ]
  },
  {
   "cell_type": "markdown",
   "metadata": {},
   "source": [
    "Drawdowns with errors with $\\sigma=0.05$."
   ]
  },
  {
   "cell_type": "code",
   "execution_count": null,
   "metadata": {},
   "outputs": [],
   "source": [
    "ca5 = Calibrate(ml)\n",
    "ca5.set_parameter(name='kaq0', initial=10)\n",
    "ca5.set_parameter(name='Saq0', initial=1e-3)\n",
    "ca5.series(name='obs1', x=d1, y=0, t=t, h=he15, layer=0)\n",
    "ca5.series(name='obs2', x=d2, y=0, t=t, h=he25, layer=0)\n",
    "ca5.fit()\n",
    "display(ca5.parameters)"
   ]
  },
  {
   "cell_type": "code",
   "execution_count": null,
   "metadata": {},
   "outputs": [],
   "source": [
    "print('rmse:', ca5.rmse())\n",
    "h15 = ml.head(d1, 0, t)\n",
    "h25 = ml.head(d2, 0, t)\n",
    "plt.figure(figsize=(8, 5))\n",
    "plt.semilogx(t, he15, 'b.', label='obs at 30 m')\n",
    "plt.semilogx(t, h15[0], color = 'r', label = 'ttim at 30 m')\n",
    "plt.semilogx(t, he25, 'g.', label='obs at 90 m')\n",
    "plt.semilogx(t, h25[0], color='orange', label = 'ttim at 90 m')\n",
    "plt.xlabel('time (d)')\n",
    "plt.ylabel('drawdown (m)')\n",
    "plt.title('ttim analysis with synthetic data and errors with sig=0.05')\n",
    "plt.legend();"
   ]
  }
 ],
 "metadata": {
  "kernelspec": {
   "display_name": "Python 3",
   "language": "python",
   "name": "python3"
  },
  "language_info": {
   "codemirror_mode": {
    "name": "ipython",
    "version": 3
   },
   "file_extension": ".py",
   "mimetype": "text/x-python",
   "name": "python",
   "nbconvert_exporter": "python",
   "pygments_lexer": "ipython3",
   "version": "3.8.2"
  },
  "latex_envs": {
   "LaTeX_envs_menu_present": true,
   "autoclose": false,
   "autocomplete": true,
   "bibliofile": "biblio.bib",
   "cite_by": "apalike",
   "current_citInitial": 1,
   "eqLabelWithNumbers": true,
   "eqNumInitial": 1,
   "hotkeys": {
    "equation": "Ctrl-E",
    "itemize": "Ctrl-I"
   },
   "labels_anchors": false,
   "latex_user_defs": false,
   "report_style_numbering": false,
   "user_envs_cfg": false
  }
 },
 "nbformat": 4,
 "nbformat_minor": 2
}
