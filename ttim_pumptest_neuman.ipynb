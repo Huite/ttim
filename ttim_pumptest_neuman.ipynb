{
 "cells": [
  {
   "cell_type": "markdown",
   "metadata": {},
   "source": [
    "###Pumping test analysis of a constant-rate pumping test in an anisotropic unconfined aquifer\n",
    "The description and data for this example are taken from the [aqtesolve](http://www.aqtesolv.com/examples/ione.htm) website. \n",
    "\n",
    "Lohman (1972) presented data from a constant-rate pumping test performed in an unconfined aquifer with delayed gravity response near Ione, Colorado. The thickness of the unconfined alluvium was 39.4 ft. The fully penetrating test well pumped at a rate of 1170 gallons-per-minute (gpm) for 4270 minutes. The drawdown data were recorded in an observation well  located 63 ft from the test well at a depth of 19.7 ft below the static water surface."
   ]
  },
  {
   "cell_type": "code",
   "execution_count": 1,
   "metadata": {
    "collapsed": false
   },
   "outputs": [],
   "source": [
    "from ttim import *\n",
    "import numpy as np\n",
    "import matplotlib.pyplot as plt\n",
    "from scipy.optimize import fmin\n",
    "import pandas as pd\n",
    "%matplotlib inline"
   ]
  },
  {
   "cell_type": "code",
   "execution_count": 2,
   "metadata": {
    "collapsed": false
   },
   "outputs": [],
   "source": [
    "# problem definition\n",
    "H = 39.4 * 0.3048                         # thickness [meters]\n",
    "xw, yw = 0, 0                             # location well\n",
    "xp, yp = 63 * 0.3048, 0                   # Location piezometer [meter]\n",
    "Qw = 1170 * 5.45                          # discharge well in [m3/d]\n",
    "z_obswell = -19.7 * 0.3048        # elevation of observation well"
   ]
  },
  {
   "cell_type": "code",
   "execution_count": 3,
   "metadata": {
    "collapsed": false
   },
   "outputs": [
    {
     "name": "stdout",
     "output_type": "stream",
     "text": [
      "minimum and maximum time: 0.000694444444444 2.96527777778\n"
     ]
    }
   ],
   "source": [
    "# loading data\n",
    "data = np.loadtxt('pumptest_neuman.txt')         # time and drawdown\n",
    "time, dd = data[:,0], data[:,1] \n",
    "td = time / 60 / 24                       # t in [days]\n",
    "ho = -dd * 0.3048                         # observed head [meter]\n",
    "print 'minimum and maximum time:', td.min(), td.max()"
   ]
  },
  {
   "cell_type": "code",
   "execution_count": 4,
   "metadata": {
    "collapsed": false
   },
   "outputs": [],
   "source": [
    "# layer definition\n",
    "Nlayers = 12                                    # number of layers\n",
    "zlayers = np.linspace(0, -H, Nlayers + 1)\n",
    "zcenter = 0.5 * (zlayers[:-1] + zlayers[1:])\n",
    "layer_obswell = np.argmin(np.abs(z_obswell - zcenter))"
   ]
  },
  {
   "cell_type": "markdown",
   "metadata": {},
   "source": [
    "Flow is simulated with a quasi three-dimensional model consisting of one aquifer which is divided into `Nlayers` model layers. The top and bottom of the aquifer are impermeable. The horizontal hydraulic conductivity $k$, phreatic storage $S_y$, elastic storage $S_s$, and vertical anisotropy $k_v/k_h$ are unkonwn. The variable `p` contains all unknown parameters. The well is modeled with the `Well` element. TTim divides the discharge along the layers such that the head is the same at the well in all screened layers."
   ]
  },
  {
   "cell_type": "code",
   "execution_count": 5,
   "metadata": {
    "collapsed": false
   },
   "outputs": [],
   "source": [
    "def sse1(p, returnheads=False):  \n",
    "    # Discharge distributed across layers by TTim\n",
    "    Saq = p[2] * np.ones(Nlayers) # all layers except the top one have the same storage coefficient\n",
    "    Saq[0] = p[1]\n",
    "    ml = Model3D(kaq=p[0], z=zlayers, Saq=Saq, kzoverkh=p[3],\n",
    "                 phreatictop=True, tmin=1e-4, tmax=10)  \n",
    "    w = Well(ml, xw=xw, yw=yw, rw=0.3, tsandQ=[(0, Qw)], \n",
    "             layers=range(Nlayers))\n",
    "    ml.solve(silent='.')\n",
    "    hm = ml.head(xp, yp, td, layers=layer_obswell)\n",
    "    if returnheads: return hm\n",
    "    se = np.sum((hm[0] - ho)**2)\n",
    "    return se"
   ]
  },
  {
   "cell_type": "markdown",
   "metadata": {},
   "source": [
    "The `fmin` function from the `scipy.optimize` package is used to find the optimal set of parameters."
   ]
  },
  {
   "cell_type": "code",
   "execution_count": 6,
   "metadata": {
    "collapsed": false,
    "scrolled": true
   },
   "outputs": [
    {
     "name": "stdout",
     "output_type": "stream",
     "text": [
      ". . . . . . . . . . . . . . . . . . . . . . . . . . . . . . . . . . . . . . . . . . . . . . . . . . . . . . . . . . . . . . . . . . . . . . . . . . . . . . . . . . . . . . . . . . . . . . . . . . . . . . . . . . . . . . . . . . . . . . . . . . . . . . . . . . . . . . . . . . . . . . . . . . . . . . . . . . . . . . . . . . . . . . . . . . . . . . . . . . . . . . . . . . . . . . . . . . . . . . . . . . . . . . . . . . . . . . . . . . . . . . . . . . . . . . . . . . . . . . . . . . . . . . . . . . . . . . . . . . . . . . . . . . . . . . . . . . . . . . . . . . . . . . . . . . . . . . . . . . . . . . . . . . .Optimization terminated successfully.\n",
      "         Current function value: 0.007076\n",
      "         Iterations: 163\n",
      "         Function evaluations: 307\n",
      "\n"
     ]
    }
   ],
   "source": [
    "popt1 = fmin(sse1, [ 200,   1,   0.0005,   0.5])"
   ]
  },
  {
   "cell_type": "code",
   "execution_count": 7,
   "metadata": {
    "collapsed": false,
    "scrolled": false
   },
   "outputs": [
    {
     "name": "stdout",
     "output_type": "stream",
     "text": [
      ".\n"
     ]
    },
    {
     "data": {
      "image/png": "[encoded data removed]",
      "text/plain": [
       "<matplotlib.figure.Figure at 0x109074d10>"
      ]
     },
     "metadata": {},
     "output_type": "display_data"
    }
   ],
   "source": [
    "hm1 = sse1(popt1, returnheads=True)\n",
    "plt.figure(figsize=(14,6))\n",
    "plt.subplot(121)\n",
    "plt.plot(time, ho, 'ko', label='Observed')\n",
    "plt.plot(time, hm1[0], 'b', label='TTim1')\n",
    "plt.xlabel('time [min]')\n",
    "plt.ylabel('Drawdouwn (m)')\n",
    "plt.legend(loc='best');\n",
    "plt.subplot(122)\n",
    "plt.loglog(time, -ho, 'ko', label='Observed')\n",
    "plt.loglog(time, -hm1[0], 'b', label='TTim1')\n",
    "plt.ylim(10, 0.01)\n",
    "plt.xlabel('time [min]')\n",
    "plt.ylabel('Drawdouwn (m)')\n",
    "plt.legend(loc='best')\n",
    "plt.suptitle('TTim Aquifer Test Analysis in Unconfined Aquifer');"
   ]
  },
  {
   "cell_type": "code",
   "execution_count": 8,
   "metadata": {
    "collapsed": false
   },
   "outputs": [
    {
     "data": {
      "text/html": [
       "<div style=\"max-height:1000px;max-width:1500px;overflow:auto;\">\n",
       "<table border=\"1\" class=\"dataframe\">\n",
       "  <thead>\n",
       "    <tr style=\"text-align: right;\">\n",
       "      <th></th>\n",
       "      <th>$T$ [ft$^2$/day]</th>\n",
       "      <th>$S_y$</th>\n",
       "      <th>$S$</th>\n",
       "      <th>$k_h/k_r$</th>\n",
       "    </tr>\n",
       "  </thead>\n",
       "  <tbody>\n",
       "    <tr>\n",
       "      <th>Lohman (1972)</th>\n",
       "      <td>    22000</td>\n",
       "      <td>       0.2</td>\n",
       "      <td>           0</td>\n",
       "      <td>       0.3</td>\n",
       "    </tr>\n",
       "    <tr>\n",
       "      <th>AQTESOLV</th>\n",
       "      <td>    22980</td>\n",
       "      <td>      0.15</td>\n",
       "      <td>    0.008166</td>\n",
       "      <td>      0.25</td>\n",
       "    </tr>\n",
       "    <tr>\n",
       "      <th>TTim1</th>\n",
       "      <td> 22896.48</td>\n",
       "      <td> 0.1543743</td>\n",
       "      <td> 0.009756421</td>\n",
       "      <td> 0.1744148</td>\n",
       "    </tr>\n",
       "  </tbody>\n",
       "</table>\n",
       "</div>"
      ],
      "text/plain": [
       "              $T$ [ft$^2$/day]      $S_y$          $S$  $k_h/k_r$\n",
       "Lohman (1972)            22000        0.2            0        0.3\n",
       "AQTESOLV                 22980       0.15     0.008166       0.25\n",
       "TTim1                 22896.48  0.1543743  0.009756421  0.1744148"
      ]
     },
     "execution_count": 8,
     "metadata": {},
     "output_type": "execute_result"
    }
   ],
   "source": [
    "r = pd.DataFrame(columns=['$T$ [ft$^2$/day]', '$S_y$', '$S$','$k_h/k_r$'],\n",
    "                 index=['Lohman (1972)', 'AQTESOLV', 'TTim1'])\n",
    "r.loc['Lohman (1972)'] = [22000, 0.2, 0, 0.3]\n",
    "r.loc['AQTESOLV'] = [22980, 0.15, 0.008166, 0.25]\n",
    "r.loc['TTim1'] = [popt1[0] * H / 0.0929, popt1[1], popt1[2] * H, popt1[3]]\n",
    "r"
   ]
  },
  {
   "cell_type": "markdown",
   "metadata": {},
   "source": [
    "This function is similar to 'sse1' except for the `Well` function. Here, a `DischargeWell` is used and the discharge is evenly divided over all the layers. "
   ]
  },
  {
   "cell_type": "code",
   "execution_count": 9,
   "metadata": {
    "collapsed": false
   },
   "outputs": [],
   "source": [
    "Qp = Qw / Nlayers #deviding Qw over the layers equal\n",
    "\n",
    "def sse2(p, returnheads = False):\n",
    "    Saq = p[2] * np.ones(Nlayers)\n",
    "    Saq[0] = p[1]\n",
    "    ml = Model3D(kaq=p[0], z=zlayers, Saq=Saq, kzoverkh=p[3],\n",
    "                 phreatictop=True, tmin= 1e-4, tmax=10)  \n",
    "    w = DischargeWell(ml, xw=xw, yw=yw, rw=0.3, tsandQ=[(0, Qp)], \n",
    "                      layers=range(Nlayers))\n",
    "    ml.solve(silent='.')\n",
    "    hm = ml.head(xp, yp, td, layers=layer_obswell)\n",
    "    if returnheads: return hm\n",
    "    se = np.sum((hm[0] - ho)**2)\n",
    "    return se"
   ]
  },
  {
   "cell_type": "code",
   "execution_count": 10,
   "metadata": {
    "collapsed": false
   },
   "outputs": [
    {
     "name": "stdout",
     "output_type": "stream",
     "text": [
      "Optimization terminated successfully.\n",
      "         Current function value: 0.006349\n",
      "         Iterations: 176\n",
      "         Function evaluations: 329\n"
     ]
    }
   ],
   "source": [
    "popt2 = fmin(sse2, [ 200,   1,   0.0005,   0.5])"
   ]
  },
  {
   "cell_type": "code",
   "execution_count": 11,
   "metadata": {
    "collapsed": false
   },
   "outputs": [
    {
     "data": {
      "image/png": "[encoded data removed]",
      "text/plain": [
       "<matplotlib.figure.Figure at 0x10911bcd0>"
      ]
     },
     "metadata": {},
     "output_type": "display_data"
    }
   ],
   "source": [
    "hm2 = sse2(popt2, returnheads = True)\n",
    "plt.figure(figsize=(14,6))\n",
    "plt.subplot(121)\n",
    "plt.plot(time, ho, 'ko', label='Observed')\n",
    "plt.plot(time, hm2[0], 'b', label='TTim2')\n",
    "plt.xlabel('time [min]')\n",
    "plt.ylabel('Drawdouwn (m)')\n",
    "plt.legend(loc='best');\n",
    "plt.subplot(122)\n",
    "plt.loglog(time, -ho, 'ko', label='Observed')\n",
    "plt.loglog(time, -hm2[0], 'b', label='TTim2')\n",
    "plt.ylim(10, 0.01)\n",
    "plt.xlabel('time [min]')\n",
    "plt.ylabel('Drawdouwn (m)')\n",
    "plt.legend(loc='best')\n",
    "plt.suptitle('TTim Aquifer Test Analysis in Unconfined Aquifer');"
   ]
  },
  {
   "cell_type": "code",
   "execution_count": 12,
   "metadata": {
    "collapsed": false
   },
   "outputs": [
    {
     "data": {
      "text/html": [
       "<div style=\"max-height:1000px;max-width:1500px;overflow:auto;\">\n",
       "<table border=\"1\" class=\"dataframe\">\n",
       "  <thead>\n",
       "    <tr style=\"text-align: right;\">\n",
       "      <th></th>\n",
       "      <th>$T$ [ft$^2$/day]</th>\n",
       "      <th>$S_y$</th>\n",
       "      <th>$S$</th>\n",
       "      <th>$k_h/k_r$</th>\n",
       "    </tr>\n",
       "  </thead>\n",
       "  <tbody>\n",
       "    <tr>\n",
       "      <th>Lohman (1972)</th>\n",
       "      <td>    22000</td>\n",
       "      <td>       0.2</td>\n",
       "      <td>           0</td>\n",
       "      <td>       0.3</td>\n",
       "    </tr>\n",
       "    <tr>\n",
       "      <th>AQTESOLV</th>\n",
       "      <td>    22980</td>\n",
       "      <td>      0.15</td>\n",
       "      <td>    0.008166</td>\n",
       "      <td>      0.25</td>\n",
       "    </tr>\n",
       "    <tr>\n",
       "      <th>TTim1</th>\n",
       "      <td> 22896.48</td>\n",
       "      <td> 0.1543743</td>\n",
       "      <td> 0.009756421</td>\n",
       "      <td> 0.1744148</td>\n",
       "    </tr>\n",
       "    <tr>\n",
       "      <th>TTim2</th>\n",
       "      <td> 22994.06</td>\n",
       "      <td> 0.1520193</td>\n",
       "      <td> 0.009489842</td>\n",
       "      <td> 0.1921311</td>\n",
       "    </tr>\n",
       "  </tbody>\n",
       "</table>\n",
       "</div>"
      ],
      "text/plain": [
       "              $T$ [ft$^2$/day]      $S_y$          $S$  $k_h/k_r$\n",
       "Lohman (1972)            22000        0.2            0        0.3\n",
       "AQTESOLV                 22980       0.15     0.008166       0.25\n",
       "TTim1                 22896.48  0.1543743  0.009756421  0.1744148\n",
       "TTim2                 22994.06  0.1520193  0.009489842  0.1921311"
      ]
     },
     "execution_count": 12,
     "metadata": {},
     "output_type": "execute_result"
    }
   ],
   "source": [
    "r.loc['TTim2'] = [popt2[0] * H / 0.0929, popt2[1], popt2[2] * H, popt2[3]]\n",
    "r"
   ]
  },
  {
   "cell_type": "code",
   "execution_count": null,
   "metadata": {
    "collapsed": true
   },
   "outputs": [],
   "source": []
  }
 ],
 "metadata": {
  "kernelspec": {
   "display_name": "Python 2",
   "language": "python",
   "name": "python2"
  },
  "language_info": {
   "codemirror_mode": {
    "name": "ipython",
    "version": 2
   },
   "file_extension": ".py",
   "mimetype": "text/x-python",
   "name": "python",
   "nbconvert_exporter": "python",
   "pygments_lexer": "ipython2",
   "version": "2.7.10"
  }
 },
 "nbformat": 4,
 "nbformat_minor": 0
}
